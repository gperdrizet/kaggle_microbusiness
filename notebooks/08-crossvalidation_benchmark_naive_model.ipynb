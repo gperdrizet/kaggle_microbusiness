{
 "cells": [
  {
   "attachments": {},
   "cell_type": "markdown",
   "metadata": {},
   "source": [
    "## Benchmark 4: Oneshot naive model cross validation\n",
    "Major consideration here is, do we score one time point from the forecast period or all four? Thinking we should probably do both. Scoring one point will give us the best comparison to the current public leaderboard. But the actual model we need to build will be predicting four future timepoints.\n",
    "1. [Abbreviations & definitions](#abbrevations_definitions)\n",
    "2. [Load & inspect](#load_inspect)\n",
    "3. [Cross validation SMAPE](#cross_validation_smape)"
   ]
  },
  {
   "cell_type": "code",
   "execution_count": 1,
   "metadata": {},
   "outputs": [
    {
     "name": "stdout",
     "output_type": "stream",
     "text": [
      "Python: 3.10.0 | packaged by conda-forge | (default, Nov 20 2021, 02:24:10) [GCC 9.4.0]\n",
      "\n",
      "Numpy 1.23.5\n",
      "Pandas 1.4.3\n"
     ]
    }
   ],
   "source": [
    "# Add parent directory to path to allow import of config.py\n",
    "import sys\n",
    "sys.path.append('..')\n",
    "import config as conf\n",
    "import functions.data_manipulation_functions as data_funcs\n",
    "\n",
    "import numpy as np\n",
    "import pandas as pd\n",
    "import multiprocessing as mp\n",
    "from statistics import NormalDist\n",
    "\n",
    "print(f'Python: {sys.version}')\n",
    "print()\n",
    "print(f'Numpy {np.__version__}')\n",
    "print(f'Pandas {pd.__version__}')"
   ]
  },
  {
   "attachments": {},
   "cell_type": "markdown",
   "metadata": {},
   "source": [
    "<a name=\"abbreviations_definitions\"></a>\n",
    "### 1. Abbreviations & definitions\n",
    "+ MBD: microbusiness density\n",
    "+ MBC: microbusiness count\n",
    "+ OLS: ordinary least squares\n",
    "+ Model order: number of past timepoints used as input data for model training\n",
    "+ Origin (forecast origin): last known point in the input data\n",
    "+ Horizon (forecast horizon): number of future data points predicted by the model\n",
    "+ SMAPE: Symmetric mean absolute percentage error"
   ]
  },
  {
   "cell_type": "markdown",
   "metadata": {},
   "source": [
    "<a name=\"load_inspect\"></a>\n",
    "### 2. Load & inspect"
   ]
  },
  {
   "cell_type": "code",
   "execution_count": null,
   "metadata": {},
   "outputs": [],
   "source": [
    "# Choose to re-run past experiments or not\n",
    "rerun = False"
   ]
  },
  {
   "cell_type": "code",
   "execution_count": 2,
   "metadata": {},
   "outputs": [
    {
     "name": "stdout",
     "output_type": "stream",
     "text": [
      "Data type: <class 'numpy.ndarray'>\n",
      "Data shape: (100320, 2, 4, 4)\n"
     ]
    }
   ],
   "source": [
    "# Load cross validation data\n",
    "model_order = 4\n",
    "forecast_horizon = 4\n",
    "\n",
    "input_file = f'{conf.PARSED_DATA_PATH}/order{model_order}_horizon{forecast_horizon}.npy'\n",
    "parsed_data = np.load(input_file)\n",
    "\n",
    "print(f'Data type: {type(parsed_data)}')\n",
    "print(f'Data shape: {parsed_data.shape}')"
   ]
  },
  {
   "attachments": {},
   "cell_type": "markdown",
   "metadata": {},
   "source": [
    "OK this, numpy array is structured as follows:\n",
    "+ **First dimension**: data elements: overlapping blocks from each counties timeseries\n",
    "+ **Second dimension**: input, forecast block halves\n",
    "+ **Third dimension**: rows: timepoints\n",
    "+ **Fourth dimension**: columns: *cfips, first_day_of_month, microbusiness_density, active*\n",
    "\n",
    "Let's start by defining some helper functions so that we can easily loop over multiple samples, calculating training and validation scores for each."
   ]
  },
  {
   "attachments": {},
   "cell_type": "markdown",
   "metadata": {},
   "source": [
    "<a name=\"cross_validation_SMAPE\"></a>\n",
    "### 3. Cross validation SMAPE"
   ]
  },
  {
   "cell_type": "code",
   "execution_count": 3,
   "metadata": {},
   "outputs": [],
   "source": [
    "# Set number of folds and training-validation split\n",
    "folds = 100\n",
    "training_fraction = 0.7"
   ]
  },
  {
   "cell_type": "code",
   "execution_count": 4,
   "metadata": {},
   "outputs": [
    {
     "name": "stdout",
     "output_type": "stream",
     "text": [
      "\n",
      "CPU times: user 11min 44s, sys: 67.7 ms, total: 11min 44s\n",
      "Wall time: 11min 45s\n"
     ]
    }
   ],
   "source": [
    "%%time\n",
    "\n",
    "if rerun == True:\n",
    "\n",
    "    # Generate, forecast and score folds training-validation splits\n",
    "    smape_scores_df = data_funcs.crossvalidation_smape(parsed_data, folds, training_fraction)\n",
    "\n",
    "    print()"
   ]
  },
  {
   "attachments": {},
   "cell_type": "markdown",
   "metadata": {},
   "source": [
    "Thinking we should take the time to parallelize this on available CPUs over the folds. It's slow enough to make experimentation and optimization cumbersome. We could probably optimize the code a bit, but let's come back to that later after we are sure we are implementing the cross validation strategy we really want here."
   ]
  },
  {
   "cell_type": "code",
   "execution_count": 5,
   "metadata": {},
   "outputs": [
    {
     "name": "stdout",
     "output_type": "stream",
     "text": [
      "Starting processes for 18 CPUs (available - 2)\n",
      "\n",
      "CPU times: user 2.42 s, sys: 1.92 s, total: 4.35 s\n",
      "Wall time: 1min 6s\n"
     ]
    }
   ],
   "source": [
    "%%time\n",
    "\n",
    "if rerun == True:\n",
    "\n",
    "    # Fire up the pool\n",
    "    pool, result_objects = data_funcs.start_multiprocessing_pool()\n",
    "\n",
    "    # Submit each fold to a different CPU thread\n",
    "    for fold in range(folds):\n",
    "\n",
    "        result = pool.apply_async(data_funcs.parallel_crossvalidation_smape,\n",
    "        args = (\n",
    "            parsed_data,\n",
    "            training_fraction\n",
    "            )\n",
    "        )\n",
    "\n",
    "        result_objects.append(result)\n",
    "\n",
    "    # Get results and shut down pool\n",
    "    smape_scores_df = data_funcs.cleanup_multiprocessing_pool(pool, result_objects)\n",
    "\n",
    "    print()"
   ]
  },
  {
   "attachments": {},
   "cell_type": "markdown",
   "metadata": {},
   "source": [
    "Wooo, parallelism! 11.75 minutes single threaded vs 1 minute on 18 treads ~11x speed-up. Nice quality of life improvement. "
   ]
  },
  {
   "cell_type": "markdown",
   "metadata": {},
   "source": [
    "<a name=\"results\"></a>\n",
    "### 4. Results"
   ]
  },
  {
   "cell_type": "code",
   "execution_count": 6,
   "metadata": {},
   "outputs": [
    {
     "data": {
      "text/html": [
       "<div>\n",
       "<style scoped>\n",
       "    .dataframe tbody tr th:only-of-type {\n",
       "        vertical-align: middle;\n",
       "    }\n",
       "\n",
       "    .dataframe tbody tr th {\n",
       "        vertical-align: top;\n",
       "    }\n",
       "\n",
       "    .dataframe thead th {\n",
       "        text-align: right;\n",
       "    }\n",
       "</style>\n",
       "<table border=\"1\" class=\"dataframe\">\n",
       "  <thead>\n",
       "    <tr style=\"text-align: right;\">\n",
       "      <th></th>\n",
       "      <th>one_point_training</th>\n",
       "      <th>one_point_validation</th>\n",
       "      <th>four_point_training</th>\n",
       "      <th>four_point_validation</th>\n",
       "    </tr>\n",
       "  </thead>\n",
       "  <tbody>\n",
       "    <tr>\n",
       "      <th>0</th>\n",
       "      <td>1.774551</td>\n",
       "      <td>1.773205</td>\n",
       "      <td>3.087731</td>\n",
       "      <td>3.075329</td>\n",
       "    </tr>\n",
       "    <tr>\n",
       "      <th>1</th>\n",
       "      <td>1.776993</td>\n",
       "      <td>1.767508</td>\n",
       "      <td>3.073594</td>\n",
       "      <td>3.108315</td>\n",
       "    </tr>\n",
       "    <tr>\n",
       "      <th>2</th>\n",
       "      <td>1.775319</td>\n",
       "      <td>1.771414</td>\n",
       "      <td>3.100869</td>\n",
       "      <td>3.044672</td>\n",
       "    </tr>\n",
       "    <tr>\n",
       "      <th>3</th>\n",
       "      <td>1.759241</td>\n",
       "      <td>1.808929</td>\n",
       "      <td>3.064798</td>\n",
       "      <td>3.128838</td>\n",
       "    </tr>\n",
       "    <tr>\n",
       "      <th>4</th>\n",
       "      <td>1.772443</td>\n",
       "      <td>1.778123</td>\n",
       "      <td>3.093902</td>\n",
       "      <td>3.060930</td>\n",
       "    </tr>\n",
       "  </tbody>\n",
       "</table>\n",
       "</div>"
      ],
      "text/plain": [
       "   one_point_training  one_point_validation  four_point_training  \\\n",
       "0            1.774551              1.773205             3.087731   \n",
       "1            1.776993              1.767508             3.073594   \n",
       "2            1.775319              1.771414             3.100869   \n",
       "3            1.759241              1.808929             3.064798   \n",
       "4            1.772443              1.778123             3.093902   \n",
       "\n",
       "   four_point_validation  \n",
       "0               3.075329  \n",
       "1               3.108315  \n",
       "2               3.044672  \n",
       "3               3.128838  \n",
       "4               3.060930  "
      ]
     },
     "execution_count": 6,
     "metadata": {},
     "output_type": "execute_result"
    }
   ],
   "source": [
    "if rerun == True:\n",
    "    \n",
    "    smape_scores_df.head()"
   ]
  },
  {
   "cell_type": "code",
   "execution_count": 7,
   "metadata": {},
   "outputs": [
    {
     "data": {
      "text/html": [
       "<div>\n",
       "<style scoped>\n",
       "    .dataframe tbody tr th:only-of-type {\n",
       "        vertical-align: middle;\n",
       "    }\n",
       "\n",
       "    .dataframe tbody tr th {\n",
       "        vertical-align: top;\n",
       "    }\n",
       "\n",
       "    .dataframe thead th {\n",
       "        text-align: right;\n",
       "    }\n",
       "</style>\n",
       "<table border=\"1\" class=\"dataframe\">\n",
       "  <thead>\n",
       "    <tr style=\"text-align: right;\">\n",
       "      <th></th>\n",
       "      <th>one_point_training</th>\n",
       "      <th>one_point_validation</th>\n",
       "      <th>four_point_training</th>\n",
       "      <th>four_point_validation</th>\n",
       "    </tr>\n",
       "  </thead>\n",
       "  <tbody>\n",
       "    <tr>\n",
       "      <th>count</th>\n",
       "      <td>100.000000</td>\n",
       "      <td>100.000000</td>\n",
       "      <td>100.000000</td>\n",
       "      <td>100.000000</td>\n",
       "    </tr>\n",
       "    <tr>\n",
       "      <th>mean</th>\n",
       "      <td>1.773813</td>\n",
       "      <td>1.774928</td>\n",
       "      <td>3.083294</td>\n",
       "      <td>3.085681</td>\n",
       "    </tr>\n",
       "    <tr>\n",
       "      <th>std</th>\n",
       "      <td>0.010005</td>\n",
       "      <td>0.023346</td>\n",
       "      <td>0.012565</td>\n",
       "      <td>0.029319</td>\n",
       "    </tr>\n",
       "    <tr>\n",
       "      <th>min</th>\n",
       "      <td>1.750043</td>\n",
       "      <td>1.725276</td>\n",
       "      <td>3.052277</td>\n",
       "      <td>3.016323</td>\n",
       "    </tr>\n",
       "    <tr>\n",
       "      <th>25%</th>\n",
       "      <td>1.766737</td>\n",
       "      <td>1.757211</td>\n",
       "      <td>3.075284</td>\n",
       "      <td>3.066147</td>\n",
       "    </tr>\n",
       "    <tr>\n",
       "      <th>50%</th>\n",
       "      <td>1.773752</td>\n",
       "      <td>1.775071</td>\n",
       "      <td>3.082995</td>\n",
       "      <td>3.086378</td>\n",
       "    </tr>\n",
       "    <tr>\n",
       "      <th>75%</th>\n",
       "      <td>1.781406</td>\n",
       "      <td>1.791438</td>\n",
       "      <td>3.091665</td>\n",
       "      <td>3.104370</td>\n",
       "    </tr>\n",
       "    <tr>\n",
       "      <th>max</th>\n",
       "      <td>1.795092</td>\n",
       "      <td>1.830391</td>\n",
       "      <td>3.113019</td>\n",
       "      <td>3.158054</td>\n",
       "    </tr>\n",
       "  </tbody>\n",
       "</table>\n",
       "</div>"
      ],
      "text/plain": [
       "       one_point_training  one_point_validation  four_point_training  \\\n",
       "count          100.000000            100.000000           100.000000   \n",
       "mean             1.773813              1.774928             3.083294   \n",
       "std              0.010005              0.023346             0.012565   \n",
       "min              1.750043              1.725276             3.052277   \n",
       "25%              1.766737              1.757211             3.075284   \n",
       "50%              1.773752              1.775071             3.082995   \n",
       "75%              1.781406              1.791438             3.091665   \n",
       "max              1.795092              1.830391             3.113019   \n",
       "\n",
       "       four_point_validation  \n",
       "count             100.000000  \n",
       "mean                3.085681  \n",
       "std                 0.029319  \n",
       "min                 3.016323  \n",
       "25%                 3.066147  \n",
       "50%                 3.086378  \n",
       "75%                 3.104370  \n",
       "max                 3.158054  "
      ]
     },
     "execution_count": 7,
     "metadata": {},
     "output_type": "execute_result"
    }
   ],
   "source": [
    "if rerun == True:\n",
    "    \n",
    "    smape_scores_df.describe()"
   ]
  },
  {
   "cell_type": "code",
   "execution_count": 8,
   "metadata": {},
   "outputs": [
    {
     "data": {
      "image/png": "[encoded data removed]",
      "text/plain": [
       "<Figure size 640x480 with 1 Axes>"
      ]
     },
     "metadata": {},
     "output_type": "display_data"
    }
   ],
   "source": [
    "if rerun == True:\n",
    "    \n",
    "    one_point_smape_scores_df = smape_scores_df[['one_point_training', 'one_point_validation']]\n",
    "    ax = one_point_smape_scores_df.plot.kde(xlabel = 'SMAPE')"
   ]
  },
  {
   "cell_type": "code",
   "execution_count": 9,
   "metadata": {},
   "outputs": [
    {
     "data": {
      "image/png": "[encoded data removed]",
      "text/plain": [
       "<Figure size 640x480 with 1 Axes>"
      ]
     },
     "metadata": {},
     "output_type": "display_data"
    }
   ],
   "source": [
    "if rerun == True:\n",
    "    \n",
    "    one_point_smape_scores_df = smape_scores_df[['four_point_training', 'four_point_validation']]\n",
    "    ax = one_point_smape_scores_df.plot.kde(xlabel = 'SMAPE')"
   ]
  },
  {
   "attachments": {},
   "cell_type": "markdown",
   "metadata": {},
   "source": [
    "OK - so cross validation SMAPE scores are quite a bit higher than the public leaderboard score using the same 'model'. I also notice that the four point SMAPE is much larger than the one point SMAPE. Will have to come back and look at this with fresh eyes to see if this is expected behavior or if there is a problem with my calculations. But it could just be that naive, 'carry-forward' predictions get worse the farther forward they are carried. \n",
    "\n",
    "Anyway that's the first pass at it complete.\n",
    "\n",
    "**REVISIT**: Double checked sampling and scoring logic. Looks good, ran 100 fold cross validation. One point SMAPE is still much worse than the actual public leaderboard score for this model. Maybe November is just a really lucky test sample for this model - i.e. not much changed that month. Come to think of it, we could calculate how likely a SMAPE equal to or better than that observed on the leaderboard is using the mean and standard deviation from our cross validation experiment."
   ]
  },
  {
   "cell_type": "code",
   "execution_count": 10,
   "metadata": {},
   "outputs": [
    {
     "name": "stdout",
     "output_type": "stream",
     "text": [
      "Mean: 1.7738125460403156\n",
      "Standard deviation: 0.010005429092449069\n",
      "Probability of SMAPE <= 1.0936: 0.0\n"
     ]
    }
   ],
   "source": [
    "if rerun == True:\n",
    "    \n",
    "    one_point_training_mean = smape_scores_df['one_point_training'].describe()['mean']\n",
    "    one_point_training_std = smape_scores_df['one_point_training'].describe()['std']\n",
    "\n",
    "    print(f'Mean: {one_point_training_mean}')\n",
    "    print(f'Standard deviation: {one_point_training_std}')\n",
    "\n",
    "    leaderboard_score_probability = NormalDist(mu=one_point_training_mean, sigma=one_point_training_std).cdf(1.0936)\n",
    "    print(f'Probability of SMAPE <= 1.0936: {leaderboard_score_probability}')"
   ]
  },
  {
   "attachments": {},
   "cell_type": "markdown",
   "metadata": {},
   "source": [
    "Yikes - this is kind of bad news. It means that either we are doing something wrong in our sampling & SMAPE calculations and inflating our SMAPE values, or the current public leaderboard is being scored against a very 'weird' (and easy for the naive model) sample. Let's try one more thing and repeat this experiment with a small sample size. Reasoning here is on the public leaderboard each county gets scored once (3,135 data points) whereas our training samples are around 70,000 points each. Seems more likely to get extreme values in small samples."
   ]
  },
  {
   "cell_type": "code",
   "execution_count": 11,
   "metadata": {},
   "outputs": [
    {
     "name": "stdout",
     "output_type": "stream",
     "text": [
      "Starting processes for 18 CPUs (available - 2)\n",
      "\n"
     ]
    }
   ],
   "source": [
    "if rerun == True:\n",
    "    \n",
    "    # Choose training fraction to result in ~3135 datapoints\n",
    "    training_fraction = 0.03135\n",
    "\n",
    "    # Fire up the pool\n",
    "    pool, result_objects = data_funcs.start_multiprocessing_pool()\n",
    "\n",
    "    # Submit each fold to a different CPU thread\n",
    "    for fold in range(folds):\n",
    "\n",
    "        result = pool.apply_async(data_funcs.parallel_crossvalidation_smape,\n",
    "        args = (\n",
    "            parsed_data,\n",
    "            training_fraction\n",
    "            )\n",
    "        )\n",
    "\n",
    "        result_objects.append(result)\n",
    "\n",
    "    # Get results and shut down pool\n",
    "    smape_scores_df = data_funcs.cleanup_multiprocessing_pool(pool, result_objects)\n",
    "\n",
    "    print()"
   ]
  },
  {
   "cell_type": "code",
   "execution_count": 12,
   "metadata": {},
   "outputs": [
    {
     "data": {
      "text/html": [
       "<div>\n",
       "<style scoped>\n",
       "    .dataframe tbody tr th:only-of-type {\n",
       "        vertical-align: middle;\n",
       "    }\n",
       "\n",
       "    .dataframe tbody tr th {\n",
       "        vertical-align: top;\n",
       "    }\n",
       "\n",
       "    .dataframe thead th {\n",
       "        text-align: right;\n",
       "    }\n",
       "</style>\n",
       "<table border=\"1\" class=\"dataframe\">\n",
       "  <thead>\n",
       "    <tr style=\"text-align: right;\">\n",
       "      <th></th>\n",
       "      <th>one_point_training</th>\n",
       "      <th>one_point_validation</th>\n",
       "      <th>four_point_training</th>\n",
       "      <th>four_point_validation</th>\n",
       "    </tr>\n",
       "  </thead>\n",
       "  <tbody>\n",
       "    <tr>\n",
       "      <th>count</th>\n",
       "      <td>100.000000</td>\n",
       "      <td>100.000000</td>\n",
       "      <td>100.000000</td>\n",
       "      <td>100.000000</td>\n",
       "    </tr>\n",
       "    <tr>\n",
       "      <th>mean</th>\n",
       "      <td>1.776039</td>\n",
       "      <td>1.774086</td>\n",
       "      <td>3.083838</td>\n",
       "      <td>3.084016</td>\n",
       "    </tr>\n",
       "    <tr>\n",
       "      <th>std</th>\n",
       "      <td>0.084516</td>\n",
       "      <td>0.002735</td>\n",
       "      <td>0.109335</td>\n",
       "      <td>0.003539</td>\n",
       "    </tr>\n",
       "    <tr>\n",
       "      <th>min</th>\n",
       "      <td>1.589869</td>\n",
       "      <td>1.766245</td>\n",
       "      <td>2.818449</td>\n",
       "      <td>3.072743</td>\n",
       "    </tr>\n",
       "    <tr>\n",
       "      <th>25%</th>\n",
       "      <td>1.731435</td>\n",
       "      <td>1.772301</td>\n",
       "      <td>3.007826</td>\n",
       "      <td>3.081947</td>\n",
       "    </tr>\n",
       "    <tr>\n",
       "      <th>50%</th>\n",
       "      <td>1.777253</td>\n",
       "      <td>1.774047</td>\n",
       "      <td>3.083038</td>\n",
       "      <td>3.084041</td>\n",
       "    </tr>\n",
       "    <tr>\n",
       "      <th>75%</th>\n",
       "      <td>1.831182</td>\n",
       "      <td>1.775530</td>\n",
       "      <td>3.147744</td>\n",
       "      <td>3.086476</td>\n",
       "    </tr>\n",
       "    <tr>\n",
       "      <th>max</th>\n",
       "      <td>2.018315</td>\n",
       "      <td>1.780111</td>\n",
       "      <td>3.432138</td>\n",
       "      <td>3.092605</td>\n",
       "    </tr>\n",
       "  </tbody>\n",
       "</table>\n",
       "</div>"
      ],
      "text/plain": [
       "       one_point_training  one_point_validation  four_point_training  \\\n",
       "count          100.000000            100.000000           100.000000   \n",
       "mean             1.776039              1.774086             3.083838   \n",
       "std              0.084516              0.002735             0.109335   \n",
       "min              1.589869              1.766245             2.818449   \n",
       "25%              1.731435              1.772301             3.007826   \n",
       "50%              1.777253              1.774047             3.083038   \n",
       "75%              1.831182              1.775530             3.147744   \n",
       "max              2.018315              1.780111             3.432138   \n",
       "\n",
       "       four_point_validation  \n",
       "count             100.000000  \n",
       "mean                3.084016  \n",
       "std                 0.003539  \n",
       "min                 3.072743  \n",
       "25%                 3.081947  \n",
       "50%                 3.084041  \n",
       "75%                 3.086476  \n",
       "max                 3.092605  "
      ]
     },
     "execution_count": 12,
     "metadata": {},
     "output_type": "execute_result"
    }
   ],
   "source": [
    "if rerun == True:\n",
    "    \n",
    "    smape_scores_df.describe()"
   ]
  },
  {
   "cell_type": "markdown",
   "metadata": {},
   "source": [
    "Note the difference in standard deviation between training (small) and validation (large) samples!"
   ]
  },
  {
   "cell_type": "code",
   "execution_count": 13,
   "metadata": {},
   "outputs": [
    {
     "data": {
      "image/png": "[encoded data removed]",
      "text/plain": [
       "<Figure size 640x480 with 1 Axes>"
      ]
     },
     "metadata": {},
     "output_type": "display_data"
    }
   ],
   "source": [
    "if rerun == True:\n",
    "\n",
    "    smape_scores_df = smape_scores_df[['one_point_training', 'one_point_validation']]\n",
    "    ax = smape_scores_df.plot.kde(xlabel = 'SMAPE')"
   ]
  },
  {
   "cell_type": "code",
   "execution_count": 14,
   "metadata": {},
   "outputs": [
    {
     "name": "stdout",
     "output_type": "stream",
     "text": [
      "Mean: 1.776038690973666\n",
      "Standard deviation: 0.08451610194882292\n",
      "Probability of SMAPE <= 1.0936: 3.3306690738754696e-16\n"
     ]
    }
   ],
   "source": [
    "if rerun == True:\n",
    "    \n",
    "    training_mean = smape_scores_df['one_point_training'].describe()['mean']\n",
    "    training_std = smape_scores_df['one_point_training'].describe()['std']\n",
    "\n",
    "    print(f'Mean: {training_mean}')\n",
    "    print(f'Standard deviation: {training_std}')\n",
    "\n",
    "    leaderboard_score_probability = NormalDist(mu=training_mean, sigma=training_std).cdf(1.0936)\n",
    "    print(f'Probability of SMAPE <= 1.0936: {leaderboard_score_probability}')"
   ]
  },
  {
   "attachments": {},
   "cell_type": "markdown",
   "metadata": {},
   "source": [
    "It's still a vanishingly small probability of getting a sample from the training data on which the naive, 'carry-forward' model does as well or better on that it does on the current leaderboard test set. This makes things a bit difficult - i.e. we can't put much stock in our leaderboard score! Other forecasting methods might do better. But, I worry that if the leaderboard test set is so different from the rest of the dataset we will hurt our generalizability chasing a good public leaderboard score. If we tune everything to do as well as possible on the public leaderboard test set, we might get destroyed on the private leaderboard when new data shows up. Good news is, the public leaderboard test data for November data should be published soon.\n",
    "\n",
    "**REVISIT** OK, I thought about this some more and I have an idea about what is going on here. Two points to remember 1) the dataset has some serious anomalies - i.e. dates where many/all counties experience uncharacteristically large changes in MBD. And 2) The timepoints are not really independent across counties. Just thinking about it, every county is subject to at least some of the same external forces, examples: covid, fed interest rates, stock market trends, national news etc.\n",
    "\n",
    "With those two points in mind, let's assume that November 2022 (the timepoint used for scoring on the public leaderboard) is not an anomaly. Then think about how we are sampling our data blocks. We are taking a shotgun approach and grabbing a bunch of random time points for the training-validation split and likely including some anomalous timepoints. This inflates the sample SMAPE relative to the leaderboard SMAPE. Rather than scoring one timepoint and doing terribly if it's and anomaly and OK if it's not, we are taking some anomalous points and some nonanomalous points and as a result doing somewhat terribly every time. As a quick kludge experiment, let's try drawing only one timepoint for training and one timepoint for validation from each fold. We will also up the number of folds so that in the end, we are scoring the same total number of datapoints as before - i.e. scoring one datapoint 3135 * 100 times rather than averaging the score for 3135 datapoints 100 times. I expect we will get some very good results and some very bad results, with our observed leaderboard score being much less unlikely."
   ]
  },
  {
   "cell_type": "code",
   "execution_count": 15,
   "metadata": {},
   "outputs": [],
   "source": [
    "if rerun == True:\n",
    "\n",
    "    scored_timepoints = 1\n",
    "    folds *= 3135"
   ]
  },
  {
   "cell_type": "code",
   "execution_count": 16,
   "metadata": {},
   "outputs": [
    {
     "name": "stdout",
     "output_type": "stream",
     "text": [
      "Starting processes for 18 CPUs (available - 2)\n",
      "\n",
      "CPU times: user 1h 32min 53s, sys: 1h 49min 49s, total: 3h 22min 42s\n",
      "Wall time: 11h 3min 14s\n"
     ]
    }
   ],
   "source": [
    "%%time\n",
    "\n",
    "if rerun == True:\n",
    "\n",
    "    # Fire up the pool\n",
    "    pool, result_objects = data_funcs.start_multiprocessing_pool()\n",
    "\n",
    "    # Submit each fold to a different CPU thread\n",
    "    for fold in range(folds):\n",
    "\n",
    "        result = pool.apply_async(data_funcs.parallel_crossvalidation_smape_2,\n",
    "        args = (\n",
    "            parsed_data,\n",
    "            training_fraction,\n",
    "            scored_timepoints\n",
    "            )\n",
    "        )\n",
    "\n",
    "        result_objects.append(result)\n",
    "\n",
    "    # Get results and shut down pool\n",
    "    smape_scores_df = data_funcs.cleanup_multiprocessing_pool(pool, result_objects)\n",
    "\n",
    "    print()"
   ]
  },
  {
   "cell_type": "markdown",
   "metadata": {},
   "source": [
    "That took way too long to run. But let's see if we learned anything..."
   ]
  },
  {
   "cell_type": "code",
   "execution_count": 20,
   "metadata": {},
   "outputs": [
    {
     "data": {
      "text/html": [
       "<div>\n",
       "<style scoped>\n",
       "    .dataframe tbody tr th:only-of-type {\n",
       "        vertical-align: middle;\n",
       "    }\n",
       "\n",
       "    .dataframe tbody tr th {\n",
       "        vertical-align: top;\n",
       "    }\n",
       "\n",
       "    .dataframe thead th {\n",
       "        text-align: right;\n",
       "    }\n",
       "</style>\n",
       "<table border=\"1\" class=\"dataframe\">\n",
       "  <thead>\n",
       "    <tr style=\"text-align: right;\">\n",
       "      <th></th>\n",
       "      <th>one_point_training</th>\n",
       "      <th>one_point_validation</th>\n",
       "      <th>four_point_training</th>\n",
       "      <th>four_point_validation</th>\n",
       "    </tr>\n",
       "  </thead>\n",
       "  <tbody>\n",
       "    <tr>\n",
       "      <th>count</th>\n",
       "      <td>313500.000000</td>\n",
       "      <td>313500.000000</td>\n",
       "      <td>313500.000000</td>\n",
       "      <td>313500.000000</td>\n",
       "    </tr>\n",
       "    <tr>\n",
       "      <th>mean</th>\n",
       "      <td>1.777476</td>\n",
       "      <td>0.026589</td>\n",
       "      <td>3.092194</td>\n",
       "      <td>1.421220</td>\n",
       "    </tr>\n",
       "    <tr>\n",
       "      <th>std</th>\n",
       "      <td>4.579346</td>\n",
       "      <td>0.152242</td>\n",
       "      <td>5.838560</td>\n",
       "      <td>0.012779</td>\n",
       "    </tr>\n",
       "    <tr>\n",
       "      <th>min</th>\n",
       "      <td>0.000000</td>\n",
       "      <td>0.000000</td>\n",
       "      <td>0.000000</td>\n",
       "      <td>1.372535</td>\n",
       "    </tr>\n",
       "    <tr>\n",
       "      <th>25%</th>\n",
       "      <td>0.319243</td>\n",
       "      <td>0.000000</td>\n",
       "      <td>0.923098</td>\n",
       "      <td>1.419457</td>\n",
       "    </tr>\n",
       "    <tr>\n",
       "      <th>50%</th>\n",
       "      <td>0.856207</td>\n",
       "      <td>0.000000</td>\n",
       "      <td>1.719196</td>\n",
       "      <td>1.419457</td>\n",
       "    </tr>\n",
       "    <tr>\n",
       "      <th>75%</th>\n",
       "      <td>1.869154</td>\n",
       "      <td>0.000000</td>\n",
       "      <td>3.252018</td>\n",
       "      <td>1.419457</td>\n",
       "    </tr>\n",
       "    <tr>\n",
       "      <th>max</th>\n",
       "      <td>200.000000</td>\n",
       "      <td>2.256245</td>\n",
       "      <td>200.000000</td>\n",
       "      <td>3.142305</td>\n",
       "    </tr>\n",
       "  </tbody>\n",
       "</table>\n",
       "</div>"
      ],
      "text/plain": [
       "       one_point_training  one_point_validation  four_point_training  \\\n",
       "count       313500.000000         313500.000000        313500.000000   \n",
       "mean             1.777476              0.026589             3.092194   \n",
       "std              4.579346              0.152242             5.838560   \n",
       "min              0.000000              0.000000             0.000000   \n",
       "25%              0.319243              0.000000             0.923098   \n",
       "50%              0.856207              0.000000             1.719196   \n",
       "75%              1.869154              0.000000             3.252018   \n",
       "max            200.000000              2.256245           200.000000   \n",
       "\n",
       "       four_point_validation  \n",
       "count          313500.000000  \n",
       "mean                1.421220  \n",
       "std                 0.012779  \n",
       "min                 1.372535  \n",
       "25%                 1.419457  \n",
       "50%                 1.419457  \n",
       "75%                 1.419457  \n",
       "max                 3.142305  "
      ]
     },
     "execution_count": 20,
     "metadata": {},
     "output_type": "execute_result"
    }
   ],
   "source": [
    "if rerun == True:\n",
    "\n",
    "    smape_scores_df.describe()"
   ]
  },
  {
   "cell_type": "code",
   "execution_count": 22,
   "metadata": {},
   "outputs": [
    {
     "name": "stdout",
     "output_type": "stream",
     "text": [
      "Mean: 1.7774764535982694\n",
      "Standard deviation: 4.579346225171415\n",
      "Probability of SMAPE <= 1.0936: 0.4406429449327816\n"
     ]
    }
   ],
   "source": [
    "if rerun == True:\n",
    "    \n",
    "    one_point_training_mean = smape_scores_df['one_point_training'].describe()['mean']\n",
    "    one_point_training_std = smape_scores_df['one_point_training'].describe()['std']\n",
    "\n",
    "    print(f'Mean: {one_point_training_mean}')\n",
    "    print(f'Standard deviation: {one_point_training_std}')\n",
    "\n",
    "    leaderboard_score_probability = NormalDist(mu=one_point_training_mean, sigma=one_point_training_std).cdf(1.0936)\n",
    "    print(f'Probability of SMAPE <= 1.0936: {leaderboard_score_probability}')"
   ]
  },
  {
   "cell_type": "code",
   "execution_count": 19,
   "metadata": {},
   "outputs": [
    {
     "data": {
      "image/png": "[encoded data removed]",
      "text/plain": [
       "<Figure size 640x480 with 1 Axes>"
      ]
     },
     "metadata": {},
     "output_type": "display_data"
    }
   ],
   "source": [
    "if rerun == True:\n",
    "    \n",
    "    one_point_smape_scores_df = smape_scores_df[['one_point_training', 'one_point_validation']]\n",
    "    ax = one_point_smape_scores_df.plot.kde(xlabel = 'SMAPE')"
   ]
  },
  {
   "attachments": {},
   "cell_type": "markdown",
   "metadata": {},
   "source": [
    "OK - completely different results. As expected, we have some very good scores and some very bad scores relative to our leaderboard score, which now does not look unlikely at all. What did we learn? When scoring predictions, don't aggregate across multiple forecast origins. I would call this done, but looking at the result closely, we seem to have uncovered or caused a new problem. The training scores have a higher mean and larger spread. Not immediately sure why that should be the case. Seems like bug, we should definitely fix/explain it before moving on..."
   ]
  },
  {
   "attachments": {},
   "cell_type": "markdown",
   "metadata": {},
   "source": [
    "<a name=\"TODO\"></a>\n",
    "### 5. TODO\n",
    "1. <s>Check cross validation parsing for frameshift/indexing errors.</s>\n",
    "2. <s>Refactor SMAPE scoring function to take the number of timepoints to score from the training and test samples as an argument. Set sensible defaults.</s>\n",
    "3. <s>Refactor helper functions into module.</s>\n",
    "4. <s>Parallelize sampling over processors using python multiprocessing module.</s>"
   ]
  }
 ],
 "metadata": {
  "kernelspec": {
   "display_name": "microbusiness",
   "language": "python",
   "name": "python3"
  },
  "language_info": {
   "codemirror_mode": {
    "name": "ipython",
    "version": 3
   },
   "file_extension": ".py",
   "mimetype": "text/x-python",
   "name": "python",
   "nbconvert_exporter": "python",
   "pygments_lexer": "ipython3",
   "version": "3.10.0"
  },
  "orig_nbformat": 4,
  "vscode": {
   "interpreter": {
    "hash": "c89e0f329143aafc2740b6540b46c06e92791a1e818eb6a9ece1d952786ba476"
   }
  }
 },
 "nbformat": 4,
 "nbformat_minor": 2
}
