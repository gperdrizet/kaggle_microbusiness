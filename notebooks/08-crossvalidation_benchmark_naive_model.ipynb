{
 "cells": [
  {
   "attachments": {},
   "cell_type": "markdown",
   "metadata": {},
   "source": [
    "## Benchmark 4: oneshot naive model cross validation\n",
    "Major consideration here is, do we score one time point from the forecast period or all four? Thinking we should probably do both. Scoring one point will give us the best comparison to the current public leaderboard. But the actual model we need to build will be predicting four future timepoints.\n",
    "1. [Abbreviations & definitions](#abbrevations_definitions)\n",
    "2. [Load & inspect](#load_inspect)\n",
    "3. [Cross validation SMAPE](#cross_validation_smape)"
   ]
  },
  {
   "cell_type": "code",
   "execution_count": 6,
   "metadata": {},
   "outputs": [
    {
     "name": "stdout",
     "output_type": "stream",
     "text": [
      "Python: 3.10.0 | packaged by conda-forge | (default, Nov 20 2021, 02:24:10) [GCC 9.4.0]\n",
      "\n",
      "Numpy 1.23.5\n",
      "Pandas 1.4.3\n"
     ]
    }
   ],
   "source": [
    "# Add parent directory to path to allow import of config.py\n",
    "import sys\n",
    "sys.path.append('..')\n",
    "import config as conf\n",
    "\n",
    "import numpy as np\n",
    "import pandas as pd\n",
    "\n",
    "print(f'Python: {sys.version}')\n",
    "print()\n",
    "print(f'Numpy {np.__version__}')\n",
    "print(f'Pandas {pd.__version__}')"
   ]
  },
  {
   "attachments": {},
   "cell_type": "markdown",
   "metadata": {},
   "source": [
    "<a name=\"abbreviations_definitions\"></a>\n",
    "### 1. Abbreviations & definitions\n",
    "+ MBD: microbusiness density\n",
    "+ MBC: microbusiness count\n",
    "+ OLS: ordinary least squares\n",
    "+ Model order: number of past timepoints used as input data for model training\n",
    "+ Origin (forecast origin): last known point in the input data\n",
    "+ Horizon (forecast horizon): number of future data points predicted by the model\n",
    "+ SMAPE: Symmetric mean absolute percentage error"
   ]
  },
  {
   "cell_type": "code",
   "execution_count": 7,
   "metadata": {},
   "outputs": [],
   "source": [
    "model_order = 4\n",
    "forecast_horizon = 4"
   ]
  },
  {
   "cell_type": "markdown",
   "metadata": {},
   "source": [
    "<a name=\"load_inspect\"></a>\n",
    "### 2. Load & inspect"
   ]
  },
  {
   "cell_type": "code",
   "execution_count": 8,
   "metadata": {},
   "outputs": [
    {
     "name": "stdout",
     "output_type": "stream",
     "text": [
      "Shape: (100320, 2, 4, 4)\n"
     ]
    }
   ],
   "source": [
    "# Load cross validation data\n",
    "input_file = f'{conf.PARSED_DATA_PATH}/order{model_order}_horizon{forecast_horizon}.npy'\n",
    "parsed_data = np.load(input_file)\n",
    "\n",
    "print(f'Shape: {parsed_data.shape}')"
   ]
  },
  {
   "attachments": {},
   "cell_type": "markdown",
   "metadata": {},
   "source": [
    "OK this, numpy array is structured as follows:\n",
    "+ **First dimension**: data elements\n",
    "+ **Second dimension**: input, forecast block halves\n",
    "+ **Third dimension**: rows\n",
    "+ **Fourth dimension**: columns: *cfips, first_day_of_month, microbusiness_density, active*\n",
    "\n",
    "Let's start by defining some helper functions so that we can easily loop over multiple samples, calculating training and validation scores for each."
   ]
  },
  {
   "attachments": {},
   "cell_type": "markdown",
   "metadata": {},
   "source": [
    "<a name=\"cross_validation_SMAPE\"></a>\n",
    "### 3. Cross validation SMAPE"
   ]
  },
  {
   "cell_type": "code",
   "execution_count": 9,
   "metadata": {},
   "outputs": [],
   "source": [
    "def sample_parsed_data(\n",
    "    parsed_data,\n",
    "    training_fraction      \n",
    "):\n",
    "    '''Randomly select fraction of data for training, keep the rest for validation'''\n",
    "\n",
    "    # Calculate sample sizes\n",
    "    training_sample_size = int(len(parsed_data) * training_fraction)\n",
    "\n",
    "    # Generate list of random indices for training sample\n",
    "    random_training_indices = np.random.choice(parsed_data.shape[0], training_sample_size, replace=False)\n",
    "\n",
    "    # Use random indices to extract training sample from parsed data\n",
    "    training_sample = parsed_data[random_training_indices]\n",
    "\n",
    "    # Loop on parsed_data indices, if index was not in random validation sample\n",
    "    # add that data to the validation sample\n",
    "    validation_sample = []\n",
    "\n",
    "    for i in range(len(parsed_data)):\n",
    "        if i not in random_training_indices:\n",
    "            validation_sample.append(parsed_data[i])\n",
    "\n",
    "    # Convert to numpy array\n",
    "    validation_sample = np.array(validation_sample)\n",
    "\n",
    "    return training_sample, validation_sample"
   ]
  },
  {
   "cell_type": "code",
   "execution_count": 10,
   "metadata": {},
   "outputs": [],
   "source": [
    "def two_point_smape(actual, forecast):\n",
    "\n",
    "    # If SMAPE denominator is zero set SMAPE to zero\n",
    "    if actual == 0 and forecast == 0:\n",
    "        return 0\n",
    "\n",
    "    # Calculate smape for forecast\n",
    "    smape = abs(forecast - actual) / ((abs(actual) + abs(forecast)) / 2)\n",
    "    \n",
    "    return smape"
   ]
  },
  {
   "cell_type": "code",
   "execution_count": 11,
   "metadata": {},
   "outputs": [],
   "source": [
    "def naive_model_smape_score(sample):\n",
    "\n",
    "    # Holders SMAPE for forecast horizon of one and four\n",
    "    one_point_smape_values = []\n",
    "    four_point_smape_values = []\n",
    "\n",
    "    for block in sample:\n",
    "\n",
    "        # Get true forecast values\n",
    "        forecast_value = block[0,-1,2]\n",
    "\n",
    "        # Get the target values\n",
    "        actual_values = block[1,0:,2]\n",
    "\n",
    "        # Holder for this sample's SMAPE values\n",
    "        smape_values = []\n",
    "\n",
    "        # Calculate SMAPE value for forecast\n",
    "        for actual_value in actual_values:\n",
    "            smape_values.append(two_point_smape(actual_value, forecast_value))\n",
    "\n",
    "        # Collect this sample's SMAPE values\n",
    "        one_point_smape_values.append(smape_values[0])\n",
    "        four_point_smape_values.extend(smape_values)\n",
    "\n",
    "    # Calculate SMAPE score for this block\n",
    "    one_point_smape_score = (100/len(one_point_smape_values)) * sum(one_point_smape_values)\n",
    "    four_point_smape_score = (100/len(four_point_smape_values)) * sum(four_point_smape_values)\n",
    "\n",
    "    return one_point_smape_score, four_point_smape_score"
   ]
  },
  {
   "cell_type": "code",
   "execution_count": 17,
   "metadata": {},
   "outputs": [],
   "source": [
    "def crossvalidation_smape(parsed_data, folds, training_fraction):\n",
    "    '''Generates random training-validation split, forecasts and calculates SMAPE score\n",
    "    folds number of times, returns dict of SMAPE scores for forecast horizon of one and four'''\n",
    "\n",
    "    # Holder for results\n",
    "    smape_scores = {\n",
    "        'one_point_training': [],\n",
    "        'one_point_validation': [],\n",
    "        'four_point_training': [],\n",
    "        'four_point_validation': []\n",
    "    }\n",
    "\n",
    "    print(f'Training subset size: {int(len(parsed_data) * training_fraction)}')\n",
    "\n",
    "    # Loop on folds\n",
    "    for i in range(folds):\n",
    "\n",
    "        # Get random training and validation samples\n",
    "        training_sample, validation_sample = sample_parsed_data(\n",
    "            parsed_data,\n",
    "            training_fraction\n",
    "        )\n",
    "\n",
    "        # Forecast on and score training and validation subsets\n",
    "        one_point_training_smape, four_point_training_smape = naive_model_smape_score(training_sample)\n",
    "        one_point_validation_smape, four_point_validation_smape = naive_model_smape_score(validation_sample)\n",
    "\n",
    "        # Collect scores\n",
    "        smape_scores['one_point_training'].append(one_point_training_smape)\n",
    "        smape_scores['one_point_validation'].append(one_point_validation_smape)\n",
    "        smape_scores['four_point_training'].append(four_point_training_smape)\n",
    "        smape_scores['four_point_validation'].append(four_point_validation_smape)\n",
    "\n",
    "    # Convert to pandas dataframe\n",
    "    smape_scores_df = pd.DataFrame(smape_scores)\n",
    "\n",
    "    return smape_scores_df"
   ]
  },
  {
   "cell_type": "code",
   "execution_count": 18,
   "metadata": {},
   "outputs": [
    {
     "name": "stdout",
     "output_type": "stream",
     "text": [
      "Training subset size: 70224\n"
     ]
    }
   ],
   "source": [
    "folds = 10\n",
    "training_fraction = 0.7\n",
    "\n",
    "smape_scores_df = crossvalidation_smape(parsed_data, folds, training_fraction)"
   ]
  },
  {
   "cell_type": "markdown",
   "metadata": {},
   "source": [
    "<a name=\"results\"></a>\n",
    "### 4. Results"
   ]
  },
  {
   "cell_type": "code",
   "execution_count": 19,
   "metadata": {},
   "outputs": [
    {
     "data": {
      "text/html": [
       "<div>\n",
       "<style scoped>\n",
       "    .dataframe tbody tr th:only-of-type {\n",
       "        vertical-align: middle;\n",
       "    }\n",
       "\n",
       "    .dataframe tbody tr th {\n",
       "        vertical-align: top;\n",
       "    }\n",
       "\n",
       "    .dataframe thead th {\n",
       "        text-align: right;\n",
       "    }\n",
       "</style>\n",
       "<table border=\"1\" class=\"dataframe\">\n",
       "  <thead>\n",
       "    <tr style=\"text-align: right;\">\n",
       "      <th></th>\n",
       "      <th>one_point_training</th>\n",
       "      <th>one_point_validation</th>\n",
       "      <th>four_point_training</th>\n",
       "      <th>four_point_validation</th>\n",
       "    </tr>\n",
       "  </thead>\n",
       "  <tbody>\n",
       "    <tr>\n",
       "      <th>0</th>\n",
       "      <td>1.787873</td>\n",
       "      <td>1.742121</td>\n",
       "      <td>3.088988</td>\n",
       "      <td>3.072394</td>\n",
       "    </tr>\n",
       "    <tr>\n",
       "      <th>1</th>\n",
       "      <td>1.774454</td>\n",
       "      <td>1.773430</td>\n",
       "      <td>3.085986</td>\n",
       "      <td>3.079400</td>\n",
       "    </tr>\n",
       "    <tr>\n",
       "      <th>2</th>\n",
       "      <td>1.772632</td>\n",
       "      <td>1.777682</td>\n",
       "      <td>3.089566</td>\n",
       "      <td>3.071047</td>\n",
       "    </tr>\n",
       "    <tr>\n",
       "      <th>3</th>\n",
       "      <td>1.794215</td>\n",
       "      <td>1.727323</td>\n",
       "      <td>3.098748</td>\n",
       "      <td>3.049622</td>\n",
       "    </tr>\n",
       "    <tr>\n",
       "      <th>4</th>\n",
       "      <td>1.785224</td>\n",
       "      <td>1.748302</td>\n",
       "      <td>3.090177</td>\n",
       "      <td>3.069621</td>\n",
       "    </tr>\n",
       "  </tbody>\n",
       "</table>\n",
       "</div>"
      ],
      "text/plain": [
       "   one_point_training  one_point_validation  four_point_training  \\\n",
       "0            1.787873              1.742121             3.088988   \n",
       "1            1.774454              1.773430             3.085986   \n",
       "2            1.772632              1.777682             3.089566   \n",
       "3            1.794215              1.727323             3.098748   \n",
       "4            1.785224              1.748302             3.090177   \n",
       "\n",
       "   four_point_validation  \n",
       "0               3.072394  \n",
       "1               3.079400  \n",
       "2               3.071047  \n",
       "3               3.049622  \n",
       "4               3.069621  "
      ]
     },
     "execution_count": 19,
     "metadata": {},
     "output_type": "execute_result"
    }
   ],
   "source": [
    "smape_scores_df.head()"
   ]
  },
  {
   "cell_type": "code",
   "execution_count": 20,
   "metadata": {},
   "outputs": [
    {
     "data": {
      "text/html": [
       "<div>\n",
       "<style scoped>\n",
       "    .dataframe tbody tr th:only-of-type {\n",
       "        vertical-align: middle;\n",
       "    }\n",
       "\n",
       "    .dataframe tbody tr th {\n",
       "        vertical-align: top;\n",
       "    }\n",
       "\n",
       "    .dataframe thead th {\n",
       "        text-align: right;\n",
       "    }\n",
       "</style>\n",
       "<table border=\"1\" class=\"dataframe\">\n",
       "  <thead>\n",
       "    <tr style=\"text-align: right;\">\n",
       "      <th></th>\n",
       "      <th>one_point_training</th>\n",
       "      <th>one_point_validation</th>\n",
       "      <th>four_point_training</th>\n",
       "      <th>four_point_validation</th>\n",
       "    </tr>\n",
       "  </thead>\n",
       "  <tbody>\n",
       "    <tr>\n",
       "      <th>count</th>\n",
       "      <td>10.000000</td>\n",
       "      <td>10.000000</td>\n",
       "      <td>10.000000</td>\n",
       "      <td>10.000000</td>\n",
       "    </tr>\n",
       "    <tr>\n",
       "      <th>mean</th>\n",
       "      <td>1.776108</td>\n",
       "      <td>1.769572</td>\n",
       "      <td>3.085198</td>\n",
       "      <td>3.081238</td>\n",
       "    </tr>\n",
       "    <tr>\n",
       "      <th>std</th>\n",
       "      <td>0.009611</td>\n",
       "      <td>0.022426</td>\n",
       "      <td>0.010184</td>\n",
       "      <td>0.023763</td>\n",
       "    </tr>\n",
       "    <tr>\n",
       "      <th>min</th>\n",
       "      <td>1.766663</td>\n",
       "      <td>1.727323</td>\n",
       "      <td>3.066858</td>\n",
       "      <td>3.049622</td>\n",
       "    </tr>\n",
       "    <tr>\n",
       "      <th>25%</th>\n",
       "      <td>1.768438</td>\n",
       "      <td>1.754463</td>\n",
       "      <td>3.084864</td>\n",
       "      <td>3.069977</td>\n",
       "    </tr>\n",
       "    <tr>\n",
       "      <th>50%</th>\n",
       "      <td>1.773543</td>\n",
       "      <td>1.775556</td>\n",
       "      <td>3.088371</td>\n",
       "      <td>3.073835</td>\n",
       "    </tr>\n",
       "    <tr>\n",
       "      <th>75%</th>\n",
       "      <td>1.782583</td>\n",
       "      <td>1.787469</td>\n",
       "      <td>3.090024</td>\n",
       "      <td>3.082018</td>\n",
       "    </tr>\n",
       "    <tr>\n",
       "      <th>max</th>\n",
       "      <td>1.794215</td>\n",
       "      <td>1.791611</td>\n",
       "      <td>3.098748</td>\n",
       "      <td>3.124032</td>\n",
       "    </tr>\n",
       "  </tbody>\n",
       "</table>\n",
       "</div>"
      ],
      "text/plain": [
       "       one_point_training  one_point_validation  four_point_training  \\\n",
       "count           10.000000             10.000000            10.000000   \n",
       "mean             1.776108              1.769572             3.085198   \n",
       "std              0.009611              0.022426             0.010184   \n",
       "min              1.766663              1.727323             3.066858   \n",
       "25%              1.768438              1.754463             3.084864   \n",
       "50%              1.773543              1.775556             3.088371   \n",
       "75%              1.782583              1.787469             3.090024   \n",
       "max              1.794215              1.791611             3.098748   \n",
       "\n",
       "       four_point_validation  \n",
       "count              10.000000  \n",
       "mean                3.081238  \n",
       "std                 0.023763  \n",
       "min                 3.049622  \n",
       "25%                 3.069977  \n",
       "50%                 3.073835  \n",
       "75%                 3.082018  \n",
       "max                 3.124032  "
      ]
     },
     "execution_count": 20,
     "metadata": {},
     "output_type": "execute_result"
    }
   ],
   "source": [
    "smape_scores_df.describe()"
   ]
  },
  {
   "cell_type": "code",
   "execution_count": 21,
   "metadata": {},
   "outputs": [
    {
     "data": {
      "image/png": "[encoded data removed]",
      "text/plain": [
       "<Figure size 640x480 with 1 Axes>"
      ]
     },
     "metadata": {},
     "output_type": "display_data"
    }
   ],
   "source": [
    "one_point_smape_scores_df = smape_scores_df[['one_point_training', 'one_point_validation']]\n",
    "ax = one_point_smape_scores_df.plot.kde(xlabel = 'SMAPE')"
   ]
  },
  {
   "cell_type": "code",
   "execution_count": 22,
   "metadata": {},
   "outputs": [
    {
     "data": {
      "image/png": "[encoded data removed]",
      "text/plain": [
       "<Figure size 640x480 with 1 Axes>"
      ]
     },
     "metadata": {},
     "output_type": "display_data"
    }
   ],
   "source": [
    "one_point_smape_scores_df = smape_scores_df[['four_point_training', 'four_point_validation']]\n",
    "ax = one_point_smape_scores_df.plot.kde(xlabel = 'SMAPE')"
   ]
  },
  {
   "attachments": {},
   "cell_type": "markdown",
   "metadata": {},
   "source": [
    "OK - so cross validation SMAPE scores are quite a bit higher than the public leaderboard score using the same 'model'. I also notice that the four point SMAPE is much larger than the one point SMAPE. Will have to come back and look at this with fresh eyes to see if this is expected behavior or if there is a problem with my calculations. But it could just be that naive, 'carry-forward' predictions get worse the farther forward they are carried. \n",
    "\n",
    "Anyway that's the first pass at it complete.\n",
    "\n",
    "**REVISIT** Double checked sampling and scoring logic. Looks good, ran 100 fold cross validation. One point SMAPE is still much worse than the actual public leaderboard score for this model. Maybe November is just a really lucky test sample for this model - i.e. not much changed that month. Come to think of it, we could calculate how likely a SMAPE equal to or better than that observed on the leaderboard is using the mean and standard deviation from our cross validation experiment."
   ]
  },
  {
   "cell_type": "code",
   "execution_count": 23,
   "metadata": {},
   "outputs": [
    {
     "name": "stdout",
     "output_type": "stream",
     "text": [
      "Mean: 1.7761080734567323\n",
      "Standard deviation: 0.009611201312863507\n",
      "Probability of SMAPE <= 1.0936: 0.0\n"
     ]
    }
   ],
   "source": [
    "from statistics import NormalDist\n",
    "\n",
    "one_point_training_mean = smape_scores_df['one_point_training'].describe()['mean']\n",
    "one_point_training_std = smape_scores_df['one_point_training'].describe()['std']\n",
    "\n",
    "print(f'Mean: {one_point_training_mean}')\n",
    "print(f'Standard deviation: {one_point_training_std}')\n",
    "\n",
    "leaderboard_score_probability = NormalDist(mu=one_point_training_mean, sigma=one_point_training_std).cdf(1.0936)\n",
    "print(f'Probability of SMAPE <= 1.0936: {leaderboard_score_probability}')"
   ]
  },
  {
   "attachments": {},
   "cell_type": "markdown",
   "metadata": {},
   "source": [
    "Yikes - this is kind of bad news. It means that either we are doing something wrong in our sampling & SMAPE calculations and inflating our SMAPE values, or the current public leaderboard is being scored against a very 'weird' (and easy for the naive model) sample. Let's try one more thing and repeat this experiment with a small sample size. Reasoning here is on the public leaderboard each county gets scored once (3,135 data points) whereas our training samples are around 70,000 points each. Seems more likely to get extreme values in small samples."
   ]
  },
  {
   "cell_type": "code",
   "execution_count": 24,
   "metadata": {},
   "outputs": [
    {
     "name": "stdout",
     "output_type": "stream",
     "text": [
      "Training subset size: 3145\n"
     ]
    }
   ],
   "source": [
    "folds = 10\n",
    "training_fraction = 0.03135 # Choose training fraction to result in ~3135 datapoints\n",
    "\n",
    "smape_scores_df = crossvalidation_smape(parsed_data, folds, training_fraction)"
   ]
  },
  {
   "cell_type": "code",
   "execution_count": 25,
   "metadata": {},
   "outputs": [
    {
     "data": {
      "text/html": [
       "<div>\n",
       "<style scoped>\n",
       "    .dataframe tbody tr th:only-of-type {\n",
       "        vertical-align: middle;\n",
       "    }\n",
       "\n",
       "    .dataframe tbody tr th {\n",
       "        vertical-align: top;\n",
       "    }\n",
       "\n",
       "    .dataframe thead th {\n",
       "        text-align: right;\n",
       "    }\n",
       "</style>\n",
       "<table border=\"1\" class=\"dataframe\">\n",
       "  <thead>\n",
       "    <tr style=\"text-align: right;\">\n",
       "      <th></th>\n",
       "      <th>one_point_training</th>\n",
       "      <th>one_point_validation</th>\n",
       "      <th>four_point_training</th>\n",
       "      <th>four_point_validation</th>\n",
       "    </tr>\n",
       "  </thead>\n",
       "  <tbody>\n",
       "    <tr>\n",
       "      <th>count</th>\n",
       "      <td>10.000000</td>\n",
       "      <td>10.000000</td>\n",
       "      <td>10.000000</td>\n",
       "      <td>10.000000</td>\n",
       "    </tr>\n",
       "    <tr>\n",
       "      <th>mean</th>\n",
       "      <td>1.804489</td>\n",
       "      <td>1.773165</td>\n",
       "      <td>3.098963</td>\n",
       "      <td>3.083526</td>\n",
       "    </tr>\n",
       "    <tr>\n",
       "      <th>std</th>\n",
       "      <td>0.111205</td>\n",
       "      <td>0.003599</td>\n",
       "      <td>0.094236</td>\n",
       "      <td>0.003050</td>\n",
       "    </tr>\n",
       "    <tr>\n",
       "      <th>min</th>\n",
       "      <td>1.641027</td>\n",
       "      <td>1.767208</td>\n",
       "      <td>2.975491</td>\n",
       "      <td>3.077569</td>\n",
       "    </tr>\n",
       "    <tr>\n",
       "      <th>25%</th>\n",
       "      <td>1.723381</td>\n",
       "      <td>1.770340</td>\n",
       "      <td>3.040814</td>\n",
       "      <td>3.081807</td>\n",
       "    </tr>\n",
       "    <tr>\n",
       "      <th>50%</th>\n",
       "      <td>1.780004</td>\n",
       "      <td>1.773958</td>\n",
       "      <td>3.092002</td>\n",
       "      <td>3.083751</td>\n",
       "    </tr>\n",
       "    <tr>\n",
       "      <th>75%</th>\n",
       "      <td>1.891773</td>\n",
       "      <td>1.775790</td>\n",
       "      <td>3.152087</td>\n",
       "      <td>3.085408</td>\n",
       "    </tr>\n",
       "    <tr>\n",
       "      <th>max</th>\n",
       "      <td>1.988550</td>\n",
       "      <td>1.778456</td>\n",
       "      <td>3.283027</td>\n",
       "      <td>3.087522</td>\n",
       "    </tr>\n",
       "  </tbody>\n",
       "</table>\n",
       "</div>"
      ],
      "text/plain": [
       "       one_point_training  one_point_validation  four_point_training  \\\n",
       "count           10.000000             10.000000            10.000000   \n",
       "mean             1.804489              1.773165             3.098963   \n",
       "std              0.111205              0.003599             0.094236   \n",
       "min              1.641027              1.767208             2.975491   \n",
       "25%              1.723381              1.770340             3.040814   \n",
       "50%              1.780004              1.773958             3.092002   \n",
       "75%              1.891773              1.775790             3.152087   \n",
       "max              1.988550              1.778456             3.283027   \n",
       "\n",
       "       four_point_validation  \n",
       "count              10.000000  \n",
       "mean                3.083526  \n",
       "std                 0.003050  \n",
       "min                 3.077569  \n",
       "25%                 3.081807  \n",
       "50%                 3.083751  \n",
       "75%                 3.085408  \n",
       "max                 3.087522  "
      ]
     },
     "execution_count": 25,
     "metadata": {},
     "output_type": "execute_result"
    }
   ],
   "source": [
    "smape_scores_df.describe()"
   ]
  },
  {
   "cell_type": "markdown",
   "metadata": {},
   "source": [
    "Note the difference in standard deviation between training (small) and validation (large) samples!"
   ]
  },
  {
   "cell_type": "code",
   "execution_count": 26,
   "metadata": {},
   "outputs": [
    {
     "data": {
      "image/png": "[encoded data removed]",
      "text/plain": [
       "<Figure size 640x480 with 1 Axes>"
      ]
     },
     "metadata": {},
     "output_type": "display_data"
    }
   ],
   "source": [
    "smape_scores_df = smape_scores_df[['one_point_training', 'one_point_validation']]\n",
    "ax = smape_scores_df.plot.kde(xlabel = 'SMAPE')"
   ]
  },
  {
   "cell_type": "code",
   "execution_count": 28,
   "metadata": {},
   "outputs": [
    {
     "name": "stdout",
     "output_type": "stream",
     "text": [
      "Mean: 1.8044893422014152\n",
      "Standard deviation: 0.11120452957917003\n",
      "Probability of SMAPE <= 1.0936: 8.15285616795336e-11\n"
     ]
    }
   ],
   "source": [
    "training_mean = smape_scores_df['one_point_training'].describe()['mean']\n",
    "training_std = smape_scores_df['one_point_training'].describe()['std']\n",
    "\n",
    "print(f'Mean: {training_mean}')\n",
    "print(f'Standard deviation: {training_std}')\n",
    "\n",
    "leaderboard_score_probability = NormalDist(mu=training_mean, sigma=training_std).cdf(1.0936)\n",
    "print(f'Probability of SMAPE <= 1.0936: {leaderboard_score_probability}')"
   ]
  },
  {
   "attachments": {},
   "cell_type": "markdown",
   "metadata": {},
   "source": [
    "It's still a vanishingly small probability of getting a sample from the training data on which the naive, 'carry-forward' model does as well or better on that it does on the current leaderboard test set. This makes things a bit difficult - i.e. we can't put much stock in our leaderboard score! Other forecasting methods might do better. But, I worry that if the leaderboard test set is so different from the rest of the dataset we will hurt our generalizability chasing a good public leaderboard score. If we tune everything to do as well as possible on the public leaderboard test set, we might get destroyed on the private leaderboard when new data shows up. Good news is, the public leaderboard test data for November data should be published soon.\n",
    "\n",
    "**REVISIT** OK, I thought about this some more and I have an idea about what is going on here. Two points to remember 1) the dataset has some serious anomalies - i.e. dates where many/all counties experience uncharacteristically large changes in MBD. And 2) The timepoints are not really independent across counties. Just thinking about it, every county is subject to at least some of the same external forces, examples: covid, fed interest rates, stock market trends, national news etc.\n",
    "\n",
    "With those two points in mind, let's assume that November 2022 (the timepoint used for scoring on the public leaderboard) is not an anomaly. Then think about how we are sampling our data blocks. We are taking a shotgun approach and grabbing a bunch of random time points for the training-validation split and likely including some anomalous timepoints. This inflates the sample SMAPE relative to the leaderboard SMAPE. Rather than scoring one timepoint and doing terribly if it's and anomaly and OK if it's not, we are taking some anomalous points and some nonanomalous points and as a result doing somewhat terribly every time. As a quick kludge experiment, let's try drawing only one timepoint for training and one timepoint for validation from each fold. We will also up the number of folds so that in the end, we are scoring the same total number of datapoints as before - i.e. scoring one datapoint 3135 * 100 times rather than 3135 datapoints 100 times. I expect we will get some very good results and some very bad results, with our observed leaderboard score being much less unlikely."
   ]
  },
  {
   "cell_type": "code",
   "execution_count": 29,
   "metadata": {},
   "outputs": [],
   "source": [
    "def naive_model_smape_score_2(sample, scored_timepoints):\n",
    "    one_point_smape_values = []\n",
    "    four_point_smape_values = []\n",
    "\n",
    "    # Score only the first n timepoints from the sample\n",
    "    for block in sample[:scored_timepoints]:\n",
    "\n",
    "        # Get the last microbusiness_density value from the input block\n",
    "        # and use this as our constant forecast\n",
    "        forecast_value = block[0,-1,2]\n",
    "\n",
    "        # Get the target values\n",
    "        actual_values = block[1,0:,2]\n",
    "\n",
    "        # Score the predictions\n",
    "        smape_values = []\n",
    "\n",
    "        for actual_value in actual_values:\n",
    "            smape_values.append(two_point_smape(actual_value, forecast_value))\n",
    "\n",
    "        one_point_smape_values.append(smape_values[0])\n",
    "        four_point_smape_values.extend(smape_values)\n",
    "\n",
    "    one_point_smape_score = (100/len(one_point_smape_values)) * sum(one_point_smape_values)\n",
    "    four_point_smape_score = (100/len(four_point_smape_values)) * sum(four_point_smape_values)\n",
    "\n",
    "    return one_point_smape_score, four_point_smape_score"
   ]
  },
  {
   "cell_type": "code",
   "execution_count": 35,
   "metadata": {},
   "outputs": [],
   "source": [
    "smape_scores = {\n",
    "    'one_point_training': [],\n",
    "    'one_point_validation': [],\n",
    "    'four_point_training': [],\n",
    "    'four_point_validation': []\n",
    "}\n",
    "\n",
    "training_fraction = 0.5 # Fraction does not really matter for this experiment, \n",
    "                        # we are only taking the first element from training and validation subsets\n",
    "scored_timepoints = 1\n",
    "folds = 10 * 3135\n",
    "\n",
    "for i in range(folds):\n",
    "\n",
    "    training_sample, validation_sample = sample_parsed_data(\n",
    "        parsed_data,\n",
    "        training_fraction\n",
    "    )\n",
    "\n",
    "    one_point_training_smape, four_point_training_smape = naive_model_smape_score_2(training_sample, scored_timepoints)\n",
    "    one_point_validation_smape, four_point_validation_smape = naive_model_smape_score_2(validation_sample, scored_timepoints)\n",
    "\n",
    "    smape_scores['one_point_training'].append(one_point_training_smape)\n",
    "    smape_scores['one_point_validation'].append(one_point_validation_smape)\n",
    "    smape_scores['four_point_training'].append(four_point_training_smape)\n",
    "    smape_scores['four_point_validation'].append(four_point_validation_smape)\n",
    "\n",
    "smape_scores_df = pd.DataFrame(smape_scores)\n"
   ]
  },
  {
   "cell_type": "code",
   "execution_count": 34,
   "metadata": {},
   "outputs": [
    {
     "data": {
      "text/html": [
       "<div>\n",
       "<style scoped>\n",
       "    .dataframe tbody tr th:only-of-type {\n",
       "        vertical-align: middle;\n",
       "    }\n",
       "\n",
       "    .dataframe tbody tr th {\n",
       "        vertical-align: top;\n",
       "    }\n",
       "\n",
       "    .dataframe thead th {\n",
       "        text-align: right;\n",
       "    }\n",
       "</style>\n",
       "<table border=\"1\" class=\"dataframe\">\n",
       "  <thead>\n",
       "    <tr style=\"text-align: right;\">\n",
       "      <th></th>\n",
       "      <th>one_point_training</th>\n",
       "      <th>one_point_validation</th>\n",
       "      <th>four_point_training</th>\n",
       "      <th>four_point_validation</th>\n",
       "    </tr>\n",
       "  </thead>\n",
       "  <tbody>\n",
       "    <tr>\n",
       "      <th>count</th>\n",
       "      <td>10.000000</td>\n",
       "      <td>10.000000</td>\n",
       "      <td>10.000000</td>\n",
       "      <td>10.000000</td>\n",
       "    </tr>\n",
       "    <tr>\n",
       "      <th>mean</th>\n",
       "      <td>2.871596</td>\n",
       "      <td>0.875252</td>\n",
       "      <td>5.121263</td>\n",
       "      <td>1.599712</td>\n",
       "    </tr>\n",
       "    <tr>\n",
       "      <th>std</th>\n",
       "      <td>3.048895</td>\n",
       "      <td>0.922955</td>\n",
       "      <td>6.564313</td>\n",
       "      <td>0.543418</td>\n",
       "    </tr>\n",
       "    <tr>\n",
       "      <th>min</th>\n",
       "      <td>0.318983</td>\n",
       "      <td>0.000000</td>\n",
       "      <td>0.295006</td>\n",
       "      <td>1.372535</td>\n",
       "    </tr>\n",
       "    <tr>\n",
       "      <th>25%</th>\n",
       "      <td>0.642856</td>\n",
       "      <td>0.000000</td>\n",
       "      <td>2.885374</td>\n",
       "      <td>1.419457</td>\n",
       "    </tr>\n",
       "    <tr>\n",
       "      <th>50%</th>\n",
       "      <td>1.351732</td>\n",
       "      <td>0.809859</td>\n",
       "      <td>3.310993</td>\n",
       "      <td>1.419457</td>\n",
       "    </tr>\n",
       "    <tr>\n",
       "      <th>75%</th>\n",
       "      <td>4.233407</td>\n",
       "      <td>1.727478</td>\n",
       "      <td>4.909805</td>\n",
       "      <td>1.477306</td>\n",
       "    </tr>\n",
       "    <tr>\n",
       "      <th>max</th>\n",
       "      <td>9.523807</td>\n",
       "      <td>2.256245</td>\n",
       "      <td>23.179615</td>\n",
       "      <td>3.142305</td>\n",
       "    </tr>\n",
       "  </tbody>\n",
       "</table>\n",
       "</div>"
      ],
      "text/plain": [
       "       one_point_training  one_point_validation  four_point_training  \\\n",
       "count           10.000000             10.000000            10.000000   \n",
       "mean             2.871596              0.875252             5.121263   \n",
       "std              3.048895              0.922955             6.564313   \n",
       "min              0.318983              0.000000             0.295006   \n",
       "25%              0.642856              0.000000             2.885374   \n",
       "50%              1.351732              0.809859             3.310993   \n",
       "75%              4.233407              1.727478             4.909805   \n",
       "max              9.523807              2.256245            23.179615   \n",
       "\n",
       "       four_point_validation  \n",
       "count              10.000000  \n",
       "mean                1.599712  \n",
       "std                 0.543418  \n",
       "min                 1.372535  \n",
       "25%                 1.419457  \n",
       "50%                 1.419457  \n",
       "75%                 1.477306  \n",
       "max                 3.142305  "
      ]
     },
     "execution_count": 34,
     "metadata": {},
     "output_type": "execute_result"
    }
   ],
   "source": [
    "smape_scores_df.describe()"
   ]
  },
  {
   "cell_type": "code",
   "execution_count": 32,
   "metadata": {},
   "outputs": [
    {
     "name": "stdout",
     "output_type": "stream",
     "text": [
      "Mean: 2.871595772702466\n",
      "Standard deviation: 3.04889523757781\n",
      "Probability of SMAPE <= 1.0936: 0.27989257422357444\n"
     ]
    }
   ],
   "source": [
    "one_point_training_mean = smape_scores_df['one_point_training'].describe()['mean']\n",
    "one_point_training_std = smape_scores_df['one_point_training'].describe()['std']\n",
    "\n",
    "print(f'Mean: {one_point_training_mean}')\n",
    "print(f'Standard deviation: {one_point_training_std}')\n",
    "\n",
    "leaderboard_score_probability = NormalDist(mu=one_point_training_mean, sigma=one_point_training_std).cdf(1.0936)\n",
    "print(f'Probability of SMAPE <= 1.0936: {leaderboard_score_probability}')"
   ]
  },
  {
   "cell_type": "code",
   "execution_count": 33,
   "metadata": {},
   "outputs": [
    {
     "data": {
      "image/png": "[encoded data removed]",
      "text/plain": [
       "<Figure size 640x480 with 1 Axes>"
      ]
     },
     "metadata": {},
     "output_type": "display_data"
    }
   ],
   "source": [
    "one_point_smape_scores_df = smape_scores_df[['one_point_training', 'one_point_validation']]\n",
    "ax = one_point_smape_scores_df.plot.kde(xlabel = 'SMAPE')"
   ]
  },
  {
   "attachments": {},
   "cell_type": "markdown",
   "metadata": {},
   "source": [
    "OK - completely different results. As expected, we have some very good scores and some very bad scores relative to our leaderboard score, which now does not look unlikely at all. What did we learn? When scoring predictions, don't aggregate across multiple forecast origins. I would call this done, but looking at the result closely, we seem to have uncovered or caused a new problem. Even with a 50:50 training:validation split, the training scores have a higher mean and larger spread. Not immediately sure why that should be the case. Seems like bug, we should definitely fix/explain it before moving on..."
   ]
  },
  {
   "attachments": {},
   "cell_type": "markdown",
   "metadata": {},
   "source": [
    "<a name=\"TODO\"></a>\n",
    "### 5. TODO\n",
    "1. <s>Check cross validation parsing for frameshift/indexing errors.</s>\n",
    "2. Refactor SMAPE scoring function to take the number of timepoints to score from the training and test samples as an argument. Set sensible defaults.\n",
    "3. Refactor helper functions into module.\n",
    "4. Parallelize sampling over processors using python multiprocessing module."
   ]
  }
 ],
 "metadata": {
  "kernelspec": {
   "display_name": "microbusiness",
   "language": "python",
   "name": "python3"
  },
  "language_info": {
   "codemirror_mode": {
    "name": "ipython",
    "version": 3
   },
   "file_extension": ".py",
   "mimetype": "text/x-python",
   "name": "python",
   "nbconvert_exporter": "python",
   "pygments_lexer": "ipython3",
   "version": "3.10.0"
  },
  "orig_nbformat": 4,
  "vscode": {
   "interpreter": {
    "hash": "c89e0f329143aafc2740b6540b46c06e92791a1e818eb6a9ece1d952786ba476"
   }
  }
 },
 "nbformat": 4,
 "nbformat_minor": 2
}
