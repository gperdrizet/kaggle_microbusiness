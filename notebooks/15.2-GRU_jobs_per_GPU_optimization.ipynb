{
 "cells": [
  {
   "attachments": {},
   "cell_type": "markdown",
   "metadata": {},
   "source": [
    "### Jobs per GPU optimization\n",
    "Quick and dirty experiment to find approximate best number of jobs per GPU for hyperparameter optimization. Set up a short test run with 32 parameter sets to run each for 5 epochs. Plan is to manually run with 1, 2, 4 and 8 jobs per GPU and time total execution rom linux command line. Will collect results by hand in dict below. This should be plenty of information to see how run time scales with the number of jobs running per GPU."
   ]
  },
  {
   "cell_type": "code",
   "execution_count": null,
   "metadata": {},
   "outputs": [],
   "source": [
    "run_times = {\n",
    "    'Jobs per GPU': [1],\n",
    "    'Run time (sec.)': [1651.43]\n",
    "}"
   ]
  }
 ],
 "metadata": {
  "kernelspec": {
   "display_name": "microbusiness",
   "language": "python",
   "name": "python3"
  },
  "language_info": {
   "name": "python",
   "version": "3.10.0"
  },
  "orig_nbformat": 4,
  "vscode": {
   "interpreter": {
    "hash": "c89e0f329143aafc2740b6540b46c06e92791a1e818eb6a9ece1d952786ba476"
   }
  }
 },
 "nbformat": 4,
 "nbformat_minor": 2
}
