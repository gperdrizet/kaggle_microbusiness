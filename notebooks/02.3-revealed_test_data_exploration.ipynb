{
 "cells": [
  {
   "attachments": {},
   "cell_type": "markdown",
   "metadata": {},
   "source": [
    "## Revealed test data exploration\n",
    "Some time in late February the leaderboard was updated and the original test data revealed. Let's take a look at it and see what they gave ud. We also are going to need to concatenate the new data to the old and regenerate our bootstrapping blocks.\n",
    "\n",
    "1.  [Abbreviations & definitions](#abreviations_definitions)\n",
    "2. [Load and inspect](#load_and_inspect)\n",
    "\n",
    "<a name=\"abbreviations_definitions\"></a>\n",
    "### 1. Abbreviations & definitions\n",
    "+ MBD: microbusiness density\n",
    "+ MBC: microbusiness count"
   ]
  },
  {
   "cell_type": "markdown",
   "metadata": {},
   "source": [
    "<a name=\"load_and_inspect\"></a>\n",
    "### 2. Load and inspect\n",
    "Let's take a look at the new data and see what we got!"
   ]
  },
  {
   "cell_type": "code",
   "execution_count": 1,
   "metadata": {},
   "outputs": [
    {
     "name": "stdout",
     "output_type": "stream",
     "text": [
      "Python: 3.10.0 | packaged by conda-forge | (default, Nov 20 2021, 02:24:10) [GCC 9.4.0]\n",
      "\n",
      "Numpy 1.23.5\n",
      "Pandas 1.4.3\n"
     ]
    }
   ],
   "source": [
    "# Add parent directory to path to allow import of config.py\n",
    "import sys\n",
    "sys.path.append('..')\n",
    "import config as conf\n",
    "#import functions.plotting_functions as plot_funcs\n",
    "\n",
    "# instantiate paths\n",
    "paths = conf.DataFilePaths()\n",
    "\n",
    "import numpy as np\n",
    "import pandas as pd\n",
    "# import matplotlib\n",
    "# import statsmodels.api as sm\n",
    "\n",
    "print(f'Python: {sys.version}')\n",
    "print()\n",
    "print(f'Numpy {np.__version__}')\n",
    "print(f'Pandas {pd.__version__}')\n",
    "# print(f'Matplotlib: {matplotlib.__version__}') # type: ignore\n",
    "# print(f'Statsmodels: {sm.__version__}')\n",
    "\n",
    "# # Replace matplotlib with pyplot interface\n",
    "# del matplotlib\n",
    "# import matplotlib.pyplot as plt"
   ]
  },
  {
   "cell_type": "code",
   "execution_count": 3,
   "metadata": {},
   "outputs": [
    {
     "name": "stdout",
     "output_type": "stream",
     "text": [
      "<class 'pandas.core.frame.DataFrame'>\n",
      "RangeIndex: 6270 entries, 0 to 6269\n",
      "Data columns (total 7 columns):\n",
      " #   Column                 Non-Null Count  Dtype  \n",
      "---  ------                 --------------  -----  \n",
      " 0   row_id                 6270 non-null   object \n",
      " 1   cfips                  6270 non-null   int64  \n",
      " 2   county                 6270 non-null   object \n",
      " 3   state                  6270 non-null   object \n",
      " 4   first_day_of_month     6270 non-null   object \n",
      " 5   microbusiness_density  6270 non-null   float64\n",
      " 6   active                 6270 non-null   int64  \n",
      "dtypes: float64(1), int64(2), object(4)\n",
      "memory usage: 343.0+ KB\n"
     ]
    }
   ],
   "source": [
    "# Read zipped csv into pandas dataframe\n",
    "revealed_test_df = pd.read_csv(f'{paths.KAGGLE_DATA_PATH}/revealed_test.csv')\n",
    "\n",
    "# Print out some metadata and sample rows\n",
    "revealed_test_df.info()"
   ]
  },
  {
   "cell_type": "code",
   "execution_count": null,
   "metadata": {},
   "outputs": [],
   "source": []
  }
 ],
 "metadata": {
  "kernelspec": {
   "display_name": "microbusiness",
   "language": "python",
   "name": "python3"
  },
  "language_info": {
   "codemirror_mode": {
    "name": "ipython",
    "version": 3
   },
   "file_extension": ".py",
   "mimetype": "text/x-python",
   "name": "python",
   "nbconvert_exporter": "python",
   "pygments_lexer": "ipython3",
   "version": "3.10.0"
  },
  "orig_nbformat": 4,
  "vscode": {
   "interpreter": {
    "hash": "c89e0f329143aafc2740b6540b46c06e92791a1e818eb6a9ece1d952786ba476"
   }
  }
 },
 "nbformat": 4,
 "nbformat_minor": 2
}
