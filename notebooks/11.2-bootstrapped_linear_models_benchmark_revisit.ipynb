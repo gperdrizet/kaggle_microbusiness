{
 "cells": [
  {
   "attachments": {},
   "cell_type": "markdown",
   "metadata": {},
   "source": [
    "## Benchmark 6 revisit: linear models with structured bootstrap resampling\n",
    "OK, so first round of linear model submissions to the public leaderboard produced some concerning results. TLDR: control resampling distribution seems to predict public leaderboard result well, linear models do not. Bootstrapping result look as if both Seigel and Theil-Sen regression will beat naive control with high probability, but both receive low scores that are extremely unlikely given their observed bootstrapped score distributions. What's going on? Let's try and find out - first thing is to check every step by manually inspecting output for sanity.\n",
    "\n",
    "Note: this is version 2 of this notebook, version 1 was preserved in the state which produced the suspect results under investigation for reference.\n",
    "\n",
    "While we are at it, let's start a major refactor here and move away from using notebooks for our main data generating logic and functions and instead use them just for plotting and discussion.\n",
    "\n",
    "1. [Abbreviations & definitions](#abbrevations_definitions)\n",
    "2. [Results](#results)\n",
    "\n",
    "<a name=\"abbreviations_definitions\"></a>\n",
    "### 1. Abbreviations & definitions\n",
    "+ MBD: microbusiness density\n",
    "+ MBC: microbusiness count\n",
    "+ OLS: ordinary least squares\n",
    "+ Model order: number of past timepoints used as input data for model training\n",
    "+ Origin (forecast origin): last known point in the input data\n",
    "+ Horizon (forecast horizon): number of future data points predicted by the model\n",
    "+ SMAPE: Symmetric mean absolute percentage error"
   ]
  },
  {
   "cell_type": "code",
   "execution_count": 1,
   "metadata": {},
   "outputs": [],
   "source": [
    "import sys\n",
    "sys.path.append('..')\n",
    "import config as conf\n",
    "\n",
    "paths = conf.DataFilePaths()\n",
    "params = conf.LinearModelsBootstrappingParameters()\n",
    "\n",
    "import statistics\n",
    "import pandas as pd\n",
    "import statsmodels.stats.api as sms\n",
    "import matplotlib.pyplot as plt\n",
    "import seaborn as sns\n",
    "\n",
    "from scipy import stats\n",
    "from statistics import NormalDist"
   ]
  },
  {
   "attachments": {},
   "cell_type": "markdown",
   "metadata": {},
   "source": [
    "<a name=\"results\"></a>\n",
    "### 2. Results"
   ]
  },
  {
   "cell_type": "code",
   "execution_count": 2,
   "metadata": {},
   "outputs": [
    {
     "data": {
      "text/html": [
       "<div>\n",
       "<style scoped>\n",
       "    .dataframe tbody tr th:only-of-type {\n",
       "        vertical-align: middle;\n",
       "    }\n",
       "\n",
       "    .dataframe tbody tr th {\n",
       "        vertical-align: top;\n",
       "    }\n",
       "\n",
       "    .dataframe thead th {\n",
       "        text-align: right;\n",
       "    }\n",
       "</style>\n",
       "<table border=\"1\" class=\"dataframe\">\n",
       "  <thead>\n",
       "    <tr style=\"text-align: right;\">\n",
       "      <th></th>\n",
       "      <th>sample</th>\n",
       "      <th>model_type</th>\n",
       "      <th>model_order</th>\n",
       "      <th>SMAPE_values</th>\n",
       "      <th>detrended_SMAPE_values</th>\n",
       "      <th>MBD_predictions</th>\n",
       "      <th>detrended_MBD_predictions</th>\n",
       "      <th>MBD_inputs</th>\n",
       "      <th>detrended_MBD_inputs</th>\n",
       "      <th>MBD_actual</th>\n",
       "    </tr>\n",
       "  </thead>\n",
       "  <tbody>\n",
       "    <tr>\n",
       "      <th>0</th>\n",
       "      <td>0</td>\n",
       "      <td>control</td>\n",
       "      <td>4</td>\n",
       "      <td>0.004149</td>\n",
       "      <td>0.007894</td>\n",
       "      <td>1.737230</td>\n",
       "      <td>1.758277</td>\n",
       "      <td>[1.7518011, 1.7291347, 1.7161824, 1.7372298]</td>\n",
       "      <td>[0.014571300000000065, -0.022666400000000086, ...</td>\n",
       "      <td>1.744452</td>\n",
       "    </tr>\n",
       "    <tr>\n",
       "      <th>1</th>\n",
       "      <td>0</td>\n",
       "      <td>OLS</td>\n",
       "      <td>4</td>\n",
       "      <td>0.014453</td>\n",
       "      <td>0.000036</td>\n",
       "      <td>1.719420</td>\n",
       "      <td>1.744515</td>\n",
       "      <td>[1.7518011, 1.7291347, 1.7161824, 1.7372298]</td>\n",
       "      <td>[0.014571300000000065, -0.022666400000000086, ...</td>\n",
       "      <td>1.744452</td>\n",
       "    </tr>\n",
       "    <tr>\n",
       "      <th>2</th>\n",
       "      <td>0</td>\n",
       "      <td>TS</td>\n",
       "      <td>4</td>\n",
       "      <td>0.019409</td>\n",
       "      <td>0.004820</td>\n",
       "      <td>1.710921</td>\n",
       "      <td>1.752880</td>\n",
       "      <td>[1.7518011, 1.7291347, 1.7161824, 1.7372298]</td>\n",
       "      <td>[0.014571300000000065, -0.022666400000000086, ...</td>\n",
       "      <td>1.744452</td>\n",
       "    </tr>\n",
       "    <tr>\n",
       "      <th>3</th>\n",
       "      <td>0</td>\n",
       "      <td>Seigel</td>\n",
       "      <td>4</td>\n",
       "      <td>0.028676</td>\n",
       "      <td>0.006511</td>\n",
       "      <td>1.695135</td>\n",
       "      <td>1.755849</td>\n",
       "      <td>[1.7518011, 1.7291347, 1.7161824, 1.7372298]</td>\n",
       "      <td>[0.014571300000000065, -0.022666400000000086, ...</td>\n",
       "      <td>1.744452</td>\n",
       "    </tr>\n",
       "    <tr>\n",
       "      <th>4</th>\n",
       "      <td>0</td>\n",
       "      <td>Ridge</td>\n",
       "      <td>4</td>\n",
       "      <td>0.013081</td>\n",
       "      <td>0.000660</td>\n",
       "      <td>1.721782</td>\n",
       "      <td>1.743301</td>\n",
       "      <td>[1.7518011, 1.7291347, 1.7161824, 1.7372298]</td>\n",
       "      <td>[0.014571300000000065, -0.022666400000000086, ...</td>\n",
       "      <td>1.744452</td>\n",
       "    </tr>\n",
       "  </tbody>\n",
       "</table>\n",
       "</div>"
      ],
      "text/plain": [
       "   sample model_type  model_order  SMAPE_values  detrended_SMAPE_values  \\\n",
       "0       0    control            4      0.004149                0.007894   \n",
       "1       0        OLS            4      0.014453                0.000036   \n",
       "2       0         TS            4      0.019409                0.004820   \n",
       "3       0     Seigel            4      0.028676                0.006511   \n",
       "4       0      Ridge            4      0.013081                0.000660   \n",
       "\n",
       "   MBD_predictions  detrended_MBD_predictions  \\\n",
       "0         1.737230                   1.758277   \n",
       "1         1.719420                   1.744515   \n",
       "2         1.710921                   1.752880   \n",
       "3         1.695135                   1.755849   \n",
       "4         1.721782                   1.743301   \n",
       "\n",
       "                                     MBD_inputs  \\\n",
       "0  [1.7518011, 1.7291347, 1.7161824, 1.7372298]   \n",
       "1  [1.7518011, 1.7291347, 1.7161824, 1.7372298]   \n",
       "2  [1.7518011, 1.7291347, 1.7161824, 1.7372298]   \n",
       "3  [1.7518011, 1.7291347, 1.7161824, 1.7372298]   \n",
       "4  [1.7518011, 1.7291347, 1.7161824, 1.7372298]   \n",
       "\n",
       "                                detrended_MBD_inputs  MBD_actual  \n",
       "0  [0.014571300000000065, -0.022666400000000086, ...    1.744452  \n",
       "1  [0.014571300000000065, -0.022666400000000086, ...    1.744452  \n",
       "2  [0.014571300000000065, -0.022666400000000086, ...    1.744452  \n",
       "3  [0.014571300000000065, -0.022666400000000086, ...    1.744452  \n",
       "4  [0.014571300000000065, -0.022666400000000086, ...    1.744452  "
      ]
     },
     "execution_count": 2,
     "metadata": {},
     "output_type": "execute_result"
    }
   ],
   "source": [
    "# Load and inspect results - each row is an individual datapoint from one of the conditions/samples\n",
    "input_file = f'{paths.BOOTSTRAPPING_RESULTS_PATH}/{params.output_file_root_name}.parquet'\n",
    "data_df = pd.read_parquet(input_file)\n",
    "data_df.head()"
   ]
  },
  {
   "cell_type": "code",
   "execution_count": 3,
   "metadata": {},
   "outputs": [
    {
     "data": {
      "text/html": [
       "<div>\n",
       "<style scoped>\n",
       "    .dataframe tbody tr th:only-of-type {\n",
       "        vertical-align: middle;\n",
       "    }\n",
       "\n",
       "    .dataframe tbody tr th {\n",
       "        vertical-align: top;\n",
       "    }\n",
       "\n",
       "    .dataframe thead th {\n",
       "        text-align: right;\n",
       "    }\n",
       "</style>\n",
       "<table border=\"1\" class=\"dataframe\">\n",
       "  <thead>\n",
       "    <tr style=\"text-align: right;\">\n",
       "      <th></th>\n",
       "      <th>sample</th>\n",
       "      <th>model_type</th>\n",
       "      <th>model_order</th>\n",
       "      <th>SMAPE_score</th>\n",
       "      <th>detrended_SMAPE_score</th>\n",
       "    </tr>\n",
       "  </thead>\n",
       "  <tbody>\n",
       "    <tr>\n",
       "      <th>0</th>\n",
       "      <td>0</td>\n",
       "      <td>OLS</td>\n",
       "      <td>4</td>\n",
       "      <td>2.639631</td>\n",
       "      <td>3.619305</td>\n",
       "    </tr>\n",
       "    <tr>\n",
       "      <th>1</th>\n",
       "      <td>0</td>\n",
       "      <td>OLS</td>\n",
       "      <td>8</td>\n",
       "      <td>3.129370</td>\n",
       "      <td>2.793972</td>\n",
       "    </tr>\n",
       "    <tr>\n",
       "      <th>2</th>\n",
       "      <td>0</td>\n",
       "      <td>OLS</td>\n",
       "      <td>16</td>\n",
       "      <td>9.318178</td>\n",
       "      <td>8.383948</td>\n",
       "    </tr>\n",
       "    <tr>\n",
       "      <th>3</th>\n",
       "      <td>0</td>\n",
       "      <td>OLS</td>\n",
       "      <td>32</td>\n",
       "      <td>4.705986</td>\n",
       "      <td>1.634116</td>\n",
       "    </tr>\n",
       "    <tr>\n",
       "      <th>4</th>\n",
       "      <td>0</td>\n",
       "      <td>Ridge</td>\n",
       "      <td>4</td>\n",
       "      <td>2.423133</td>\n",
       "      <td>3.228001</td>\n",
       "    </tr>\n",
       "  </tbody>\n",
       "</table>\n",
       "</div>"
      ],
      "text/plain": [
       "   sample model_type  model_order  SMAPE_score  detrended_SMAPE_score\n",
       "0       0        OLS            4     2.639631               3.619305\n",
       "1       0        OLS            8     3.129370               2.793972\n",
       "2       0        OLS           16     9.318178               8.383948\n",
       "3       0        OLS           32     4.705986               1.634116\n",
       "4       0      Ridge            4     2.423133               3.228001"
      ]
     },
     "execution_count": 3,
     "metadata": {},
     "output_type": "execute_result"
    }
   ],
   "source": [
    "# Calculate the final SMAPE score for each sample in each condition\n",
    "sample_smape_scores_df = data_df.groupby(['sample', 'model_type', 'model_order'])[['SMAPE_values', 'detrended_SMAPE_values']].mean().mul(100)\n",
    "\n",
    "# Rename columns to reflect the change from SMAPE values for a single prediction to\n",
    "# SMAPE scores within a sample\n",
    "sample_smape_scores_df.rename(inplace=True, columns={'SMAPE_values': 'SMAPE_score', 'detrended_SMAPE_values': 'detrended_SMAPE_score'})\n",
    "\n",
    "# Clean up index and inspect. Now each sample in all of the conditions is represented by a single row\n",
    "# with two SMAPE scores calculated from all of the datapoints in that condition and sample. One from\n",
    "# the fit and forecast on the raw data and the other from the fit and forecast on the difference\n",
    "# detrended data\n",
    "sample_smape_scores_df.reset_index(inplace=True, drop=False)\n",
    "sample_smape_scores_df.head()"
   ]
  },
  {
   "attachments": {},
   "cell_type": "markdown",
   "metadata": {},
   "source": [
    "OK, let's take a look! Going to use a boxplot to look at the distribution of sample SMAPE scores across the different models and model orders. We also have fits to the raw and detrended data to look at. Keep in mind that the detrended fit was used to generate a raw MBD value for scoring purposes, so the underlying scale of the raw and detrended data panels are the same."
   ]
  },
  {
   "cell_type": "code",
   "execution_count": 4,
   "metadata": {},
   "outputs": [
    {
     "data": {
      "image/png": "[encoded data removed]",
      "text/plain": [
       "<Figure size 1200x400 with 2 Axes>"
      ]
     },
     "metadata": {},
     "output_type": "display_data"
    }
   ],
   "source": [
    "fig, ax = plt.subplots(1, 2,figsize=(12,4))\n",
    "\n",
    "sns.boxplot(\n",
    "    data=sample_smape_scores_df, \n",
    "    x='model_type',\n",
    "    y='SMAPE_score',\n",
    "    hue='model_order',\n",
    "    ax=ax[0]\n",
    ")\n",
    "\n",
    "ax[0].set(\n",
    "    xlabel='Model', \n",
    "    ylabel='sample SMAPE score', \n",
    "    title='Raw data'\n",
    ")\n",
    "        # Collect detrended model forecast\n",
    "ax[0].get_legend().remove()\n",
    "\n",
    "sns.boxplot(\n",
    "    data=sample_smape_scores_df, \n",
    "    x='model_type',\n",
    "    y='detrended_SMAPE_score',\n",
    "    hue='model_order',\n",
    "    ax=ax[1]\n",
    ")\n",
    "\n",
    "ax[1].set(\n",
    "    xlabel='Model', \n",
    "    ylabel='Sample SMAPE score', \n",
    "    title='Detrended data'\n",
    ")\n",
    "\n",
    "plt.show()"
   ]
  },
  {
   "attachments": {},
   "cell_type": "markdown",
   "metadata": {},
   "source": [
    "Now, let's compare another way by plotting individual SMAPE values for all the datapoints in control vs regression.\n"
   ]
  },
  {
   "cell_type": "code",
   "execution_count": 5,
   "metadata": {},
   "outputs": [
    {
     "data": {
      "image/png": "[encoded data removed]",
      "text/plain": [
       "<Figure size 600x600 with 4 Axes>"
      ]
     },
     "metadata": {},
     "output_type": "display_data"
    }
   ],
   "source": [
    "fig, ax = plt.subplots(2, 2, figsize=(6,6))\n",
    "\n",
    "ax[0,0].scatter(\n",
    "    data_df[(data_df['model_type'] == 'control') & (data_df['model_order'] == 16)]['SMAPE_values'],\n",
    "    data_df[(data_df['model_type'] == 'TS') & (data_df['model_order'] == 16)]['detrended_SMAPE_values']\n",
    ")\n",
    "\n",
    "ax[0,0].set_ylabel('model SMAPE value')\n",
    "ax[0,0].set_title('Theil-Sen (order=16)')\n",
    "\n",
    "ax[0,1].scatter(\n",
    "    data_df[(data_df['model_type'] == 'control') & (data_df['model_order'] == 16)]['SMAPE_values'],\n",
    "    data_df[(data_df['model_type'] == 'Seigel') & (data_df['model_order'] == 16)]['detrended_SMAPE_values']\n",
    ")\n",
    "\n",
    "ax[0,1].set_title('Seigel (order=16)')\n",
    "\n",
    "ax[1,0].scatter(\n",
    "    data_df[(data_df['model_type'] == 'control') & (data_df['model_order'] == 16)]['SMAPE_values'],\n",
    "    data_df[(data_df['model_type'] == 'TS') & (data_df['model_order'] == 16)]['detrended_SMAPE_values']\n",
    ")\n",
    "\n",
    "ax[1,0].set_xscale('log')\n",
    "ax[1,0].set_yscale('log')\n",
    "ax[1,0].set_xlabel('control SMAPE value')\n",
    "ax[1,0].set_ylabel('model SMAPE value')\n",
    "\n",
    "ax[1,1].scatter(\n",
    "    data_df[(data_df['model_type'] == 'control') & (data_df['model_order'] == 16)]['SMAPE_values'],\n",
    "    data_df[(data_df['model_type'] == 'Seigel') & (data_df['model_order'] == 16)]['detrended_SMAPE_values']\n",
    ")\n",
    "\n",
    "ax[1,1].set_xscale('log')\n",
    "ax[1,1].set_yscale('log')\n",
    "ax[1,1].set_xlabel('control SMAPE value')\n",
    "\n",
    "n = len(data_df[(data_df['model_type'] == 'TS') & (data_df['model_order'] == 16)]['detrended_SMAPE_values'])\n",
    "plt.suptitle(f'Single prediction SMAPE values (n={n}): regression vs control')\n",
    "plt.tight_layout()"
   ]
  },
  {
   "attachments": {},
   "cell_type": "markdown",
   "metadata": {},
   "source": [
    "Let's take a closer look at our winner(s)."
   ]
  },
  {
   "cell_type": "code",
   "execution_count": 6,
   "metadata": {},
   "outputs": [
    {
     "data": {
      "text/html": [
       "<div>\n",
       "<style scoped>\n",
       "    .dataframe tbody tr th:only-of-type {\n",
       "        vertical-align: middle;\n",
       "    }\n",
       "\n",
       "    .dataframe tbody tr th {\n",
       "        vertical-align: top;\n",
       "    }\n",
       "\n",
       "    .dataframe thead th {\n",
       "        text-align: right;\n",
       "    }\n",
       "</style>\n",
       "<table border=\"1\" class=\"dataframe\">\n",
       "  <thead>\n",
       "    <tr style=\"text-align: right;\">\n",
       "      <th></th>\n",
       "      <th>model_type</th>\n",
       "      <th>model_order</th>\n",
       "      <th>mean_SMAPE_score</th>\n",
       "      <th>mean_detrended_SMAPE_score</th>\n",
       "    </tr>\n",
       "  </thead>\n",
       "  <tbody>\n",
       "    <tr>\n",
       "      <th>0</th>\n",
       "      <td>OLS</td>\n",
       "      <td>4</td>\n",
       "      <td>3.151617</td>\n",
       "      <td>4.192100</td>\n",
       "    </tr>\n",
       "    <tr>\n",
       "      <th>1</th>\n",
       "      <td>OLS</td>\n",
       "      <td>8</td>\n",
       "      <td>3.171074</td>\n",
       "      <td>2.712544</td>\n",
       "    </tr>\n",
       "    <tr>\n",
       "      <th>2</th>\n",
       "      <td>OLS</td>\n",
       "      <td>16</td>\n",
       "      <td>6.459463</td>\n",
       "      <td>4.308775</td>\n",
       "    </tr>\n",
       "    <tr>\n",
       "      <th>3</th>\n",
       "      <td>OLS</td>\n",
       "      <td>32</td>\n",
       "      <td>5.657668</td>\n",
       "      <td>2.096321</td>\n",
       "    </tr>\n",
       "    <tr>\n",
       "      <th>4</th>\n",
       "      <td>Ridge</td>\n",
       "      <td>4</td>\n",
       "      <td>2.875603</td>\n",
       "      <td>3.870401</td>\n",
       "    </tr>\n",
       "  </tbody>\n",
       "</table>\n",
       "</div>"
      ],
      "text/plain": [
       "  model_type  model_order  mean_SMAPE_score  mean_detrended_SMAPE_score\n",
       "0        OLS            4          3.151617                    4.192100\n",
       "1        OLS            8          3.171074                    2.712544\n",
       "2        OLS           16          6.459463                    4.308775\n",
       "3        OLS           32          5.657668                    2.096321\n",
       "4      Ridge            4          2.875603                    3.870401"
      ]
     },
     "execution_count": 6,
     "metadata": {},
     "output_type": "execute_result"
    }
   ],
   "source": [
    "# Aggregate scores again, this time averaging all of the samples in each condition so we have one datapoint for each model and order\n",
    "mean_sample_smape_score_df = sample_smape_scores_df.groupby(['model_type', 'model_order'])[['SMAPE_score', 'detrended_SMAPE_score']].mean()\n",
    "\n",
    "# Rename columns to reflect new value\n",
    "mean_sample_smape_score_df.rename(inplace=True, columns={'SMAPE_score': 'mean_SMAPE_score', 'detrended_SMAPE_score': 'mean_detrended_SMAPE_score'})\n",
    "\n",
    "# Clean up and inspect\n",
    "mean_sample_smape_score_df.reset_index(inplace=True, drop=False)\n",
    "mean_sample_smape_score_df.head()"
   ]
  },
  {
   "cell_type": "code",
   "execution_count": 7,
   "metadata": {},
   "outputs": [
    {
     "data": {
      "text/html": [
       "<div>\n",
       "<style scoped>\n",
       "    .dataframe tbody tr th:only-of-type {\n",
       "        vertical-align: middle;\n",
       "    }\n",
       "\n",
       "    .dataframe tbody tr th {\n",
       "        vertical-align: top;\n",
       "    }\n",
       "\n",
       "    .dataframe thead th {\n",
       "        text-align: right;\n",
       "    }\n",
       "</style>\n",
       "<table border=\"1\" class=\"dataframe\">\n",
       "  <thead>\n",
       "    <tr style=\"text-align: right;\">\n",
       "      <th></th>\n",
       "      <th>sample</th>\n",
       "      <th>model_type</th>\n",
       "      <th>model_order</th>\n",
       "      <th>SMAPE_values</th>\n",
       "      <th>detrended_SMAPE_values</th>\n",
       "      <th>MBD_predictions</th>\n",
       "      <th>detrended_MBD_predictions</th>\n",
       "      <th>MBD_inputs</th>\n",
       "      <th>detrended_MBD_inputs</th>\n",
       "      <th>MBD_actual</th>\n",
       "    </tr>\n",
       "  </thead>\n",
       "  <tbody>\n",
       "    <tr>\n",
       "      <th>22500</th>\n",
       "      <td>0</td>\n",
       "      <td>control</td>\n",
       "      <td>32</td>\n",
       "      <td>0.007843</td>\n",
       "      <td>0.007782</td>\n",
       "      <td>2.002207</td>\n",
       "      <td>2.033738</td>\n",
       "      <td>[1.5161086, 1.5476942, 1.5950726, 1.5476942, 1...</td>\n",
       "      <td>[0.11054949999999986, 0.0315856000000001, 0.04...</td>\n",
       "      <td>2.017972</td>\n",
       "    </tr>\n",
       "    <tr>\n",
       "      <th>22505</th>\n",
       "      <td>0</td>\n",
       "      <td>control</td>\n",
       "      <td>32</td>\n",
       "      <td>0.000000</td>\n",
       "      <td>0.000000</td>\n",
       "      <td>4.467766</td>\n",
       "      <td>4.467766</td>\n",
       "      <td>[4.0900445, 4.2168674, 4.2802792, 4.2802792, 4...</td>\n",
       "      <td>[-0.19023469999999953, 0.12682289999999963, 0....</td>\n",
       "      <td>4.467766</td>\n",
       "    </tr>\n",
       "    <tr>\n",
       "      <th>22510</th>\n",
       "      <td>0</td>\n",
       "      <td>control</td>\n",
       "      <td>32</td>\n",
       "      <td>0.005373</td>\n",
       "      <td>0.005090</td>\n",
       "      <td>7.142569</td>\n",
       "      <td>7.140555</td>\n",
       "      <td>[6.3970852, 6.4349141, 6.5324731, 6.500617, 6....</td>\n",
       "      <td>[-0.15330699999999986, 0.037828900000000054, 0...</td>\n",
       "      <td>7.104299</td>\n",
       "    </tr>\n",
       "  </tbody>\n",
       "</table>\n",
       "</div>"
      ],
      "text/plain": [
       "       sample model_type  model_order  SMAPE_values  detrended_SMAPE_values  \\\n",
       "22500       0    control           32      0.007843                0.007782   \n",
       "22505       0    control           32      0.000000                0.000000   \n",
       "22510       0    control           32      0.005373                0.005090   \n",
       "\n",
       "       MBD_predictions  detrended_MBD_predictions  \\\n",
       "22500         2.002207                   2.033738   \n",
       "22505         4.467766                   4.467766   \n",
       "22510         7.142569                   7.140555   \n",
       "\n",
       "                                              MBD_inputs  \\\n",
       "22500  [1.5161086, 1.5476942, 1.5950726, 1.5476942, 1...   \n",
       "22505  [4.0900445, 4.2168674, 4.2802792, 4.2802792, 4...   \n",
       "22510  [6.3970852, 6.4349141, 6.5324731, 6.500617, 6....   \n",
       "\n",
       "                                    detrended_MBD_inputs  MBD_actual  \n",
       "22500  [0.11054949999999986, 0.0315856000000001, 0.04...    2.017972  \n",
       "22505  [-0.19023469999999953, 0.12682289999999963, 0....    4.467766  \n",
       "22510  [-0.15330699999999986, 0.037828900000000054, 0...    7.104299  "
      ]
     },
     "execution_count": 7,
     "metadata": {},
     "output_type": "execute_result"
    }
   ],
   "source": [
    "# Get top 10 models by mean detrended SMAPE score\n",
    "detrended_top_10 = mean_sample_smape_score_df.sort_values(by=['mean_detrended_SMAPE_score']).head(10)\n",
    "\n",
    "# Get winner type and order\n",
    "winning_model_type = detrended_top_10['model_type'].to_list()[0]\n",
    "winning_model_order = detrended_top_10['model_order'].to_list()[0]\n",
    "\n",
    "# Get raw data for winner\n",
    "winner = data_df[(data_df['model_type'] == winning_model_type) & (data_df['model_order'] == winning_model_order)]\n",
    "\n",
    "# Get raw data for sample matched control\n",
    "control = data_df[(data_df['model_type'] == 'control') & (data_df['model_order'] == winning_model_order)]\n",
    "\n",
    "# Inspect\n",
    "control.head(3)"
   ]
  },
  {
   "cell_type": "code",
   "execution_count": 8,
   "metadata": {},
   "outputs": [
    {
     "data": {
      "text/html": [
       "<div>\n",
       "<style scoped>\n",
       "    .dataframe tbody tr th:only-of-type {\n",
       "        vertical-align: middle;\n",
       "    }\n",
       "\n",
       "    .dataframe tbody tr th {\n",
       "        vertical-align: top;\n",
       "    }\n",
       "\n",
       "    .dataframe thead th {\n",
       "        text-align: right;\n",
       "    }\n",
       "</style>\n",
       "<table border=\"1\" class=\"dataframe\">\n",
       "  <thead>\n",
       "    <tr style=\"text-align: right;\">\n",
       "      <th></th>\n",
       "      <th>sample</th>\n",
       "      <th>model_type</th>\n",
       "      <th>model_order</th>\n",
       "      <th>SMAPE_values</th>\n",
       "      <th>detrended_SMAPE_values</th>\n",
       "      <th>MBD_predictions</th>\n",
       "      <th>detrended_MBD_predictions</th>\n",
       "      <th>MBD_inputs</th>\n",
       "      <th>detrended_MBD_inputs</th>\n",
       "      <th>MBD_actual</th>\n",
       "    </tr>\n",
       "  </thead>\n",
       "  <tbody>\n",
       "    <tr>\n",
       "      <th>22503</th>\n",
       "      <td>0</td>\n",
       "      <td>Seigel</td>\n",
       "      <td>32</td>\n",
       "      <td>0.028136</td>\n",
       "      <td>0.003905</td>\n",
       "      <td>2.075560</td>\n",
       "      <td>2.010107</td>\n",
       "      <td>[1.5161086, 1.5476942, 1.5950726, 1.5476942, 1...</td>\n",
       "      <td>[0.11054949999999986, 0.0315856000000001, 0.04...</td>\n",
       "      <td>2.017972</td>\n",
       "    </tr>\n",
       "    <tr>\n",
       "      <th>22508</th>\n",
       "      <td>0</td>\n",
       "      <td>Seigel</td>\n",
       "      <td>32</td>\n",
       "      <td>0.014768</td>\n",
       "      <td>0.007026</td>\n",
       "      <td>4.534236</td>\n",
       "      <td>4.499266</td>\n",
       "      <td>[4.0900445, 4.2168674, 4.2802792, 4.2802792, 4...</td>\n",
       "      <td>[-0.19023469999999953, 0.12682289999999963, 0....</td>\n",
       "      <td>4.467766</td>\n",
       "    </tr>\n",
       "    <tr>\n",
       "      <th>22513</th>\n",
       "      <td>0</td>\n",
       "      <td>Seigel</td>\n",
       "      <td>32</td>\n",
       "      <td>0.006638</td>\n",
       "      <td>0.008707</td>\n",
       "      <td>7.151613</td>\n",
       "      <td>7.166425</td>\n",
       "      <td>[6.3970852, 6.4349141, 6.5324731, 6.500617, 6....</td>\n",
       "      <td>[-0.15330699999999986, 0.037828900000000054, 0...</td>\n",
       "      <td>7.104299</td>\n",
       "    </tr>\n",
       "  </tbody>\n",
       "</table>\n",
       "</div>"
      ],
      "text/plain": [
       "       sample model_type  model_order  SMAPE_values  detrended_SMAPE_values  \\\n",
       "22503       0     Seigel           32      0.028136                0.003905   \n",
       "22508       0     Seigel           32      0.014768                0.007026   \n",
       "22513       0     Seigel           32      0.006638                0.008707   \n",
       "\n",
       "       MBD_predictions  detrended_MBD_predictions  \\\n",
       "22503         2.075560                   2.010107   \n",
       "22508         4.534236                   4.499266   \n",
       "22513         7.151613                   7.166425   \n",
       "\n",
       "                                              MBD_inputs  \\\n",
       "22503  [1.5161086, 1.5476942, 1.5950726, 1.5476942, 1...   \n",
       "22508  [4.0900445, 4.2168674, 4.2802792, 4.2802792, 4...   \n",
       "22513  [6.3970852, 6.4349141, 6.5324731, 6.500617, 6....   \n",
       "\n",
       "                                    detrended_MBD_inputs  MBD_actual  \n",
       "22503  [0.11054949999999986, 0.0315856000000001, 0.04...    2.017972  \n",
       "22508  [-0.19023469999999953, 0.12682289999999963, 0....    4.467766  \n",
       "22513  [-0.15330699999999986, 0.037828900000000054, 0...    7.104299  "
      ]
     },
     "execution_count": 8,
     "metadata": {},
     "output_type": "execute_result"
    }
   ],
   "source": [
    "winner.head(3)"
   ]
  },
  {
   "cell_type": "code",
   "execution_count": 9,
   "metadata": {},
   "outputs": [
    {
     "data": {
      "image/png": "[encoded data removed]",
      "text/plain": [
       "<Figure size 600x600 with 4 Axes>"
      ]
     },
     "metadata": {},
     "output_type": "display_data"
    }
   ],
   "source": [
    "# Plot true vs predicted values\n",
    "fig, ax = plt.subplots(2, 2, figsize=(6,6))\n",
    "\n",
    "ax[0,0].scatter(\n",
    "    control['MBD_actual'],\n",
    "    control['MBD_predictions']\n",
    ")\n",
    "\n",
    "ax[0,0].set_ylabel('Predicted MBD')\n",
    "ax[0,0].set_title('Control')\n",
    "\n",
    "ax[0,1].scatter(\n",
    "    winner['MBD_actual'],\n",
    "    winner['detrended_MBD_predictions']\n",
    ")\n",
    "\n",
    "ax[0,1].set_title(f'Winner: {winning_model_type}, order={winning_model_order}')\n",
    "\n",
    "ax[1,0].scatter(\n",
    "    control['MBD_actual'],\n",
    "    control['MBD_predictions']\n",
    ")\n",
    "\n",
    "ax[1,0].set_xscale('log')\n",
    "ax[1,0].set_yscale('log')\n",
    "\n",
    "ax[1,0].set_xlabel('Actual MBD')\n",
    "ax[1,0].set_ylabel('Predicted MBD')\n",
    "\n",
    "ax[1,1].scatter(\n",
    "    winner['MBD_actual'],\n",
    "    winner['detrended_MBD_predictions']\n",
    ")\n",
    "\n",
    "ax[1,1].set_xscale('log')\n",
    "ax[1,1].set_yscale('log')\n",
    "\n",
    "ax[1,1].set_xlabel('Actual MBD')\n",
    "\n",
    "n = len(winner['MBD_actual'])\n",
    "plt.suptitle(f'Predicted vs actual MBD (n={n})')\n",
    "plt.tight_layout()"
   ]
  },
  {
   "cell_type": "code",
   "execution_count": 10,
   "metadata": {},
   "outputs": [
    {
     "data": {
      "text/plain": [
       "count    1800.000000\n",
       "mean        1.560499\n",
       "std         0.527127\n",
       "min         0.837323\n",
       "25%         1.281039\n",
       "50%         1.429484\n",
       "75%         2.244259\n",
       "max         2.545840\n",
       "Name: SMAPE_score, dtype: float64"
      ]
     },
     "execution_count": 10,
     "metadata": {},
     "output_type": "execute_result"
    }
   ],
   "source": [
    "control_sample_smape_scores = sample_smape_scores_df[(sample_smape_scores_df['model_type'] == 'control') & (sample_smape_scores_df['model_order'] == winning_model_order)]\n",
    "control_sample_smape_scores['SMAPE_score'].describe()"
   ]
  },
  {
   "cell_type": "code",
   "execution_count": 11,
   "metadata": {},
   "outputs": [
    {
     "data": {
      "text/plain": [
       "count    1800.000000\n",
       "mean        1.663051\n",
       "std         0.407285\n",
       "min         1.066130\n",
       "25%         1.449429\n",
       "50%         1.595711\n",
       "75%         2.154826\n",
       "max         2.462034\n",
       "Name: detrended_SMAPE_score, dtype: float64"
      ]
     },
     "execution_count": 11,
     "metadata": {},
     "output_type": "execute_result"
    }
   ],
   "source": [
    "winner_sample_smape_scores = sample_smape_scores_df[(sample_smape_scores_df['model_type'] == winning_model_type) & (sample_smape_scores_df['model_order'] == winning_model_order)]\n",
    "winner_sample_smape_scores['detrended_SMAPE_score'].describe()"
   ]
  },
  {
   "cell_type": "code",
   "execution_count": 12,
   "metadata": {},
   "outputs": [
    {
     "name": "stdout",
     "output_type": "stream",
     "text": [
      "t-test p-value (H0: control mean = regression mean): 0.000\n"
     ]
    }
   ],
   "source": [
    "t_test = stats.ttest_ind(winner_sample_smape_scores['detrended_SMAPE_score'], control_sample_smape_scores['SMAPE_score'])\n",
    "print(f't-test p-value (H0: control mean = regression mean): {t_test[1]:.3f}')"
   ]
  },
  {
   "cell_type": "code",
   "execution_count": 13,
   "metadata": {},
   "outputs": [
    {
     "name": "stdout",
     "output_type": "stream",
     "text": [
      "95% C.I. around difference in means: 0.0718, 0.133\n"
     ]
    }
   ],
   "source": [
    "\n",
    "cm = sms.CompareMeans(sms.DescrStatsW(winner_sample_smape_scores['detrended_SMAPE_score']), sms.DescrStatsW(control_sample_smape_scores['SMAPE_score']))\n",
    "ci = cm.tconfint_diff(usevar='unequal')\n",
    "print(f'95% C.I. around difference in means: {ci[0]:.4f}, {ci[1]:.3f}')"
   ]
  },
  {
   "cell_type": "code",
   "execution_count": 14,
   "metadata": {},
   "outputs": [
    {
     "name": "stdout",
     "output_type": "stream",
     "text": [
      "Mean: 1.663\n",
      "Standard deviation: 0.4072\n",
      "\n",
      "Probability of SMAPE <= 1.0936: 0.081\n",
      "Probability of SMAPE > 1.0936: 0.919\n"
     ]
    }
   ],
   "source": [
    "smape_mean = statistics.mean(winner_sample_smape_scores['detrended_SMAPE_score'])\n",
    "smape_std = statistics.pstdev(winner_sample_smape_scores['detrended_SMAPE_score'])\n",
    "\n",
    "print(f'Mean: {smape_mean:.3f}')\n",
    "print(f'Standard deviation: {smape_std:.4f}')\n",
    "print()\n",
    "\n",
    "leaderboard_score_probability = NormalDist(mu=smape_mean, sigma=smape_std).cdf(1.0936)\n",
    "print(f'Probability of SMAPE <= 1.0936: {leaderboard_score_probability:.3f}')\n",
    "print(f'Probability of SMAPE > 1.0936: {1 - leaderboard_score_probability:.3f}')"
   ]
  }
 ],
 "metadata": {
  "kernelspec": {
   "display_name": "microbusiness",
   "language": "python",
   "name": "python3"
  },
  "language_info": {
   "codemirror_mode": {
    "name": "ipython",
    "version": 3
   },
   "file_extension": ".py",
   "mimetype": "text/x-python",
   "name": "python",
   "nbconvert_exporter": "python",
   "pygments_lexer": "ipython3",
   "version": "3.10.0"
  },
  "orig_nbformat": 4,
  "vscode": {
   "interpreter": {
    "hash": "c89e0f329143aafc2740b6540b46c06e92791a1e818eb6a9ece1d952786ba476"
   }
  }
 },
 "nbformat": 4,
 "nbformat_minor": 2
}
