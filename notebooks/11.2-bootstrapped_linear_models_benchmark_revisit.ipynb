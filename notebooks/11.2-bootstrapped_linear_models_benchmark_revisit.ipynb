{
 "cells": [
  {
   "attachments": {},
   "cell_type": "markdown",
   "metadata": {},
   "source": [
    "## Benchmark 6 revisit: linear models with structured bootstrap resampling\n",
    "OK, so first round of linear model submissions to the public leaderboard produced some concerning results. TLDR: control resampling distribution seems to predict public leaderboard result well, linear models do not. Bootstrapping result look as if both Seigel and Theil-Sen regression will beat naive control with high probability, but both receive low scores that are extremely unlikely given their observed bootstrapped score distributions. What's going on? Let's try and find out - first thing is to check every step by manually inspecting output for sanity.\n",
    "\n",
    "Note: this is version 2 of this notebook, version 1 was preserved in the state which produced the suspect results under investigation for reference.\n",
    "\n",
    "While we are at it, let's start a major refactor here and move away from using notebooks for our main data generating logic and functions and instead use them just for plotting and discussion.\n",
    "\n",
    "1. [Abbreviations & definitions](#abbrevations_definitions)\n",
    "2. [Results](#results)\n",
    "\n",
    "<a name=\"abbreviations_definitions\"></a>\n",
    "### 1. Abbreviations & definitions\n",
    "+ MBD: microbusiness density\n",
    "+ MBC: microbusiness count\n",
    "+ OLS: ordinary least squares\n",
    "+ Model order: number of past timepoints used as input data for model training\n",
    "+ Origin (forecast origin): last known point in the input data\n",
    "+ Horizon (forecast horizon): number of future data points predicted by the model\n",
    "+ SMAPE: Symmetric mean absolute percentage error"
   ]
  },
  {
   "cell_type": "code",
   "execution_count": 1,
   "metadata": {},
   "outputs": [],
   "source": [
    "import sys\n",
    "sys.path.append('..')\n",
    "import config as conf\n",
    "import functions.parallelization_functions as parallel_funcs\n",
    "\n",
    "paths = conf.DataFilePaths()\n",
    "params = conf.LinearModelsBootstrappingParameters()\n",
    "\n",
    "import statistics\n",
    "import multiprocessing as mp\n",
    "import numpy as np\n",
    "import pandas as pd\n",
    "import statsmodels.stats.api as sms\n",
    "import matplotlib.pyplot as plt\n",
    "import seaborn as sns\n",
    "\n",
    "from scipy import stats\n",
    "from statistics import NormalDist"
   ]
  },
  {
   "attachments": {},
   "cell_type": "markdown",
   "metadata": {},
   "source": [
    "<a name=\"results\"></a>\n",
    "### 2. Results"
   ]
  },
  {
   "cell_type": "code",
   "execution_count": 2,
   "metadata": {},
   "outputs": [
    {
     "data": {
      "text/html": [
       "<div>\n",
       "<style scoped>\n",
       "    .dataframe tbody tr th:only-of-type {\n",
       "        vertical-align: middle;\n",
       "    }\n",
       "\n",
       "    .dataframe tbody tr th {\n",
       "        vertical-align: top;\n",
       "    }\n",
       "\n",
       "    .dataframe thead th {\n",
       "        text-align: right;\n",
       "    }\n",
       "</style>\n",
       "<table border=\"1\" class=\"dataframe\">\n",
       "  <thead>\n",
       "    <tr style=\"text-align: right;\">\n",
       "      <th></th>\n",
       "      <th>sample</th>\n",
       "      <th>model_type</th>\n",
       "      <th>model_order</th>\n",
       "      <th>SMAPE_values</th>\n",
       "      <th>detrended_SMAPE_values</th>\n",
       "      <th>MBD_predictions</th>\n",
       "      <th>detrended_MBD_predictions</th>\n",
       "      <th>MBD_inputs</th>\n",
       "      <th>detrended_MBD_inputs</th>\n",
       "      <th>MBD_actual</th>\n",
       "    </tr>\n",
       "  </thead>\n",
       "  <tbody>\n",
       "    <tr>\n",
       "      <th>0</th>\n",
       "      <td>0</td>\n",
       "      <td>control</td>\n",
       "      <td>4</td>\n",
       "      <td>0.007134</td>\n",
       "      <td>0.007010</td>\n",
       "      <td>1.197231</td>\n",
       "      <td>1.180416</td>\n",
       "      <td>[1.1913542, 1.2168832, 1.2140466, 1.1972311]</td>\n",
       "      <td>[0.0056730999999998755, 0.025529000000000135, ...</td>\n",
       "      <td>1.18872</td>\n",
       "    </tr>\n",
       "    <tr>\n",
       "      <th>1</th>\n",
       "      <td>0</td>\n",
       "      <td>OLS</td>\n",
       "      <td>4</td>\n",
       "      <td>0.016566</td>\n",
       "      <td>0.010621</td>\n",
       "      <td>1.208577</td>\n",
       "      <td>1.176161</td>\n",
       "      <td>[1.1913542, 1.2168832, 1.2140466, 1.1972311]</td>\n",
       "      <td>[0.0056730999999998755, 0.025529000000000135, ...</td>\n",
       "      <td>1.18872</td>\n",
       "    </tr>\n",
       "    <tr>\n",
       "      <th>2</th>\n",
       "      <td>0</td>\n",
       "      <td>TS</td>\n",
       "      <td>4</td>\n",
       "      <td>0.013222</td>\n",
       "      <td>0.014331</td>\n",
       "      <td>1.204542</td>\n",
       "      <td>1.171805</td>\n",
       "      <td>[1.1913542, 1.2168832, 1.2140466, 1.1972311]</td>\n",
       "      <td>[0.0056730999999998755, 0.025529000000000135, ...</td>\n",
       "      <td>1.18872</td>\n",
       "    </tr>\n",
       "    <tr>\n",
       "      <th>3</th>\n",
       "      <td>0</td>\n",
       "      <td>Seigel</td>\n",
       "      <td>4</td>\n",
       "      <td>0.010597</td>\n",
       "      <td>0.018923</td>\n",
       "      <td>1.201384</td>\n",
       "      <td>1.166437</td>\n",
       "      <td>[1.1913542, 1.2168832, 1.2140466, 1.1972311]</td>\n",
       "      <td>[0.0056730999999998755, 0.025529000000000135, ...</td>\n",
       "      <td>1.18872</td>\n",
       "    </tr>\n",
       "    <tr>\n",
       "      <th>4</th>\n",
       "      <td>0</td>\n",
       "      <td>Ridge</td>\n",
       "      <td>4</td>\n",
       "      <td>0.016056</td>\n",
       "      <td>0.007232</td>\n",
       "      <td>1.207961</td>\n",
       "      <td>1.180154</td>\n",
       "      <td>[1.1913542, 1.2168832, 1.2140466, 1.1972311]</td>\n",
       "      <td>[0.0056730999999998755, 0.025529000000000135, ...</td>\n",
       "      <td>1.18872</td>\n",
       "    </tr>\n",
       "  </tbody>\n",
       "</table>\n",
       "</div>"
      ],
      "text/plain": [
       "   sample model_type  model_order  SMAPE_values  detrended_SMAPE_values  \\\n",
       "0       0    control            4      0.007134                0.007010   \n",
       "1       0        OLS            4      0.016566                0.010621   \n",
       "2       0         TS            4      0.013222                0.014331   \n",
       "3       0     Seigel            4      0.010597                0.018923   \n",
       "4       0      Ridge            4      0.016056                0.007232   \n",
       "\n",
       "   MBD_predictions  detrended_MBD_predictions  \\\n",
       "0         1.197231                   1.180416   \n",
       "1         1.208577                   1.176161   \n",
       "2         1.204542                   1.171805   \n",
       "3         1.201384                   1.166437   \n",
       "4         1.207961                   1.180154   \n",
       "\n",
       "                                     MBD_inputs  \\\n",
       "0  [1.1913542, 1.2168832, 1.2140466, 1.1972311]   \n",
       "1  [1.1913542, 1.2168832, 1.2140466, 1.1972311]   \n",
       "2  [1.1913542, 1.2168832, 1.2140466, 1.1972311]   \n",
       "3  [1.1913542, 1.2168832, 1.2140466, 1.1972311]   \n",
       "4  [1.1913542, 1.2168832, 1.2140466, 1.1972311]   \n",
       "\n",
       "                                detrended_MBD_inputs  MBD_actual  \n",
       "0  [0.0056730999999998755, 0.025529000000000135, ...     1.18872  \n",
       "1  [0.0056730999999998755, 0.025529000000000135, ...     1.18872  \n",
       "2  [0.0056730999999998755, 0.025529000000000135, ...     1.18872  \n",
       "3  [0.0056730999999998755, 0.025529000000000135, ...     1.18872  \n",
       "4  [0.0056730999999998755, 0.025529000000000135, ...     1.18872  "
      ]
     },
     "execution_count": 2,
     "metadata": {},
     "output_type": "execute_result"
    }
   ],
   "source": [
    "# Load and inspect results - each row is an individual datapoint from one of the conditions/samples\n",
    "input_file = f'{paths.BOOTSTRAPPING_RESULTS_PATH}/{params.output_file_root_name}.parquet'\n",
    "data_df = pd.read_parquet(input_file)\n",
    "data_df.head()"
   ]
  },
  {
   "cell_type": "code",
   "execution_count": 3,
   "metadata": {},
   "outputs": [
    {
     "data": {
      "text/html": [
       "<div>\n",
       "<style scoped>\n",
       "    .dataframe tbody tr th:only-of-type {\n",
       "        vertical-align: middle;\n",
       "    }\n",
       "\n",
       "    .dataframe tbody tr th {\n",
       "        vertical-align: top;\n",
       "    }\n",
       "\n",
       "    .dataframe thead th {\n",
       "        text-align: right;\n",
       "    }\n",
       "</style>\n",
       "<table border=\"1\" class=\"dataframe\">\n",
       "  <thead>\n",
       "    <tr style=\"text-align: right;\">\n",
       "      <th></th>\n",
       "      <th>sample</th>\n",
       "      <th>model_type</th>\n",
       "      <th>model_order</th>\n",
       "      <th>SMAPE_score</th>\n",
       "      <th>detrended_SMAPE_score</th>\n",
       "    </tr>\n",
       "  </thead>\n",
       "  <tbody>\n",
       "    <tr>\n",
       "      <th>0</th>\n",
       "      <td>0</td>\n",
       "      <td>OLS</td>\n",
       "      <td>4</td>\n",
       "      <td>3.429214</td>\n",
       "      <td>3.966415</td>\n",
       "    </tr>\n",
       "    <tr>\n",
       "      <th>1</th>\n",
       "      <td>0</td>\n",
       "      <td>OLS</td>\n",
       "      <td>8</td>\n",
       "      <td>3.482866</td>\n",
       "      <td>2.968860</td>\n",
       "    </tr>\n",
       "    <tr>\n",
       "      <th>2</th>\n",
       "      <td>0</td>\n",
       "      <td>OLS</td>\n",
       "      <td>16</td>\n",
       "      <td>5.687728</td>\n",
       "      <td>2.977525</td>\n",
       "    </tr>\n",
       "    <tr>\n",
       "      <th>3</th>\n",
       "      <td>0</td>\n",
       "      <td>OLS</td>\n",
       "      <td>32</td>\n",
       "      <td>6.127524</td>\n",
       "      <td>2.600077</td>\n",
       "    </tr>\n",
       "    <tr>\n",
       "      <th>4</th>\n",
       "      <td>0</td>\n",
       "      <td>Ridge</td>\n",
       "      <td>4</td>\n",
       "      <td>3.204490</td>\n",
       "      <td>3.703140</td>\n",
       "    </tr>\n",
       "  </tbody>\n",
       "</table>\n",
       "</div>"
      ],
      "text/plain": [
       "   sample model_type  model_order  SMAPE_score  detrended_SMAPE_score\n",
       "0       0        OLS            4     3.429214               3.966415\n",
       "1       0        OLS            8     3.482866               2.968860\n",
       "2       0        OLS           16     5.687728               2.977525\n",
       "3       0        OLS           32     6.127524               2.600077\n",
       "4       0      Ridge            4     3.204490               3.703140"
      ]
     },
     "execution_count": 3,
     "metadata": {},
     "output_type": "execute_result"
    }
   ],
   "source": [
    "# Calculate the final SMAPE score for each sample in each condition\n",
    "sample_smape_scores_df = data_df.groupby(['sample', 'model_type', 'model_order'])[['SMAPE_values', 'detrended_SMAPE_values']].mean().mul(100)\n",
    "\n",
    "# Rename columns to reflect the change from SMAPE values for a single prediction to\n",
    "# SMAPE scores within a sample\n",
    "sample_smape_scores_df.rename(inplace=True, columns={'SMAPE_values': 'SMAPE_score', 'detrended_SMAPE_values': 'detrended_SMAPE_score'})\n",
    "\n",
    "# Clean up index and inspect. Now each sample in all of the conditions is represented by a single row\n",
    "# with two SMAPE scores calculated from all of the datapoints in that condition and sample. One from\n",
    "# the fit and forecast on the raw data and the other from the fit and forecast on the difference\n",
    "# detrended data\n",
    "sample_smape_scores_df.reset_index(inplace=True, drop=False)\n",
    "sample_smape_scores_df.head()"
   ]
  },
  {
   "attachments": {},
   "cell_type": "markdown",
   "metadata": {},
   "source": [
    "OK, let's take a look! Going to use a boxplot to look at the distribution of sample SMAPE scores across the different models and model orders. We also have fits to the raw and detrended data to look at. Keep in mind that the detrended fit was used to generate a raw MBD value for scoring purposes, so the underlying scale of the raw and detrended data panels are the same."
   ]
  },
  {
   "cell_type": "code",
   "execution_count": 4,
   "metadata": {},
   "outputs": [
    {
     "data": {
      "image/png": "[encoded data removed]",
      "text/plain": [
       "<Figure size 1200x400 with 2 Axes>"
      ]
     },
     "metadata": {},
     "output_type": "display_data"
    }
   ],
   "source": [
    "fig, ax = plt.subplots(1, 2,figsize=(12,4))\n",
    "\n",
    "sns.boxplot(\n",
    "    data=sample_smape_scores_df, \n",
    "    x='model_type',\n",
    "    y='SMAPE_score',\n",
    "    hue='model_order',\n",
    "    ax=ax[0]\n",
    ")\n",
    "\n",
    "ax[0].set(\n",
    "    xlabel='Model', \n",
    "    ylabel='sample SMAPE score', \n",
    "    title='Raw data'\n",
    ")\n",
    "        # Collect detrended model forecast\n",
    "ax[0].get_legend().remove()\n",
    "\n",
    "sns.boxplot(\n",
    "    data=sample_smape_scores_df, \n",
    "    x='model_type',\n",
    "    y='detrended_SMAPE_score',\n",
    "    hue='model_order',\n",
    "    ax=ax[1]\n",
    ")\n",
    "\n",
    "ax[1].set(\n",
    "    xlabel='Model', \n",
    "    ylabel='Sample SMAPE score', \n",
    "    title='Detrended data'\n",
    ")\n",
    "\n",
    "plt.show()"
   ]
  },
  {
   "attachments": {},
   "cell_type": "markdown",
   "metadata": {},
   "source": [
    "Now, let's compare another way by plotting individual SMAPE values for all the datapoints in control vs regression.\n"
   ]
  },
  {
   "cell_type": "code",
   "execution_count": 5,
   "metadata": {},
   "outputs": [
    {
     "data": {
      "image/png": "[encoded data removed]",
      "text/plain": [
       "<Figure size 600x600 with 4 Axes>"
      ]
     },
     "metadata": {},
     "output_type": "display_data"
    }
   ],
   "source": [
    "fig, ax = plt.subplots(2, 2, figsize=(6,6))\n",
    "\n",
    "ax[0,0].scatter(\n",
    "    data_df[(data_df['model_type'] == 'control') & (data_df['model_order'] == 16)]['SMAPE_values'],\n",
    "    data_df[(data_df['model_type'] == 'TS') & (data_df['model_order'] == 16)]['detrended_SMAPE_values'],\n",
    "    color='black',\n",
    "    s=4\n",
    ")\n",
    "\n",
    "ax[0,0].set_ylabel('model SMAPE value')\n",
    "ax[0,0].set_title('Theil-Sen (order=16)')\n",
    "\n",
    "ax[0,1].scatter(\n",
    "    data_df[(data_df['model_type'] == 'control') & (data_df['model_order'] == 16)]['SMAPE_values'],\n",
    "    data_df[(data_df['model_type'] == 'Seigel') & (data_df['model_order'] == 16)]['detrended_SMAPE_values'],\n",
    "    color='black',\n",
    "    s=4\n",
    ")\n",
    "\n",
    "ax[0,1].set_title('Seigel (order=16)')\n",
    "\n",
    "ax[1,0].scatter(\n",
    "    data_df[(data_df['model_type'] == 'control') & (data_df['model_order'] == 16)]['SMAPE_values'],\n",
    "    data_df[(data_df['model_type'] == 'TS') & (data_df['model_order'] == 16)]['detrended_SMAPE_values'],\n",
    "    color='black',\n",
    "    s=4\n",
    ")\n",
    "\n",
    "ax[1,0].set_xscale('log')\n",
    "ax[1,0].set_yscale('log')\n",
    "ax[1,0].set_xlabel('control SMAPE value')\n",
    "ax[1,0].set_ylabel('model SMAPE value')\n",
    "ax[1,0].set_xlim([10**-8,10])\n",
    "ax[1,0].set_ylim([10**-8,10])\n",
    "\n",
    "ax[1,1].scatter(\n",
    "    data_df[(data_df['model_type'] == 'control') & (data_df['model_order'] == 16)]['SMAPE_values'],\n",
    "    data_df[(data_df['model_type'] == 'Seigel') & (data_df['model_order'] == 16)]['detrended_SMAPE_values'],\n",
    "    color='black',\n",
    "    s=4\n",
    ")\n",
    "\n",
    "ax[1,1].set_xscale('log')\n",
    "ax[1,1].set_yscale('log')\n",
    "ax[1,1].set_xlabel('control SMAPE value')\n",
    "ax[1,1].set_xlim([10**-8,10])\n",
    "ax[1,1].set_ylim([10**-8,10])\n",
    "\n",
    "n = len(data_df[(data_df['model_type'] == 'TS') & (data_df['model_order'] == 16)]['detrended_SMAPE_values'])\n",
    "plt.suptitle(f'Single prediction SMAPE values (n={n}): regression vs control')\n",
    "plt.tight_layout()"
   ]
  },
  {
   "attachments": {},
   "cell_type": "markdown",
   "metadata": {},
   "source": [
    "Let's take a closer look at our winner(s)."
   ]
  },
  {
   "cell_type": "code",
   "execution_count": 6,
   "metadata": {},
   "outputs": [
    {
     "data": {
      "text/html": [
       "<div>\n",
       "<style scoped>\n",
       "    .dataframe tbody tr th:only-of-type {\n",
       "        vertical-align: middle;\n",
       "    }\n",
       "\n",
       "    .dataframe tbody tr th {\n",
       "        vertical-align: top;\n",
       "    }\n",
       "\n",
       "    .dataframe thead th {\n",
       "        text-align: right;\n",
       "    }\n",
       "</style>\n",
       "<table border=\"1\" class=\"dataframe\">\n",
       "  <thead>\n",
       "    <tr style=\"text-align: right;\">\n",
       "      <th></th>\n",
       "      <th>model_type</th>\n",
       "      <th>model_order</th>\n",
       "      <th>mean_SMAPE_score</th>\n",
       "      <th>mean_detrended_SMAPE_score</th>\n",
       "    </tr>\n",
       "  </thead>\n",
       "  <tbody>\n",
       "    <tr>\n",
       "      <th>0</th>\n",
       "      <td>OLS</td>\n",
       "      <td>4</td>\n",
       "      <td>3.145217</td>\n",
       "      <td>4.158557</td>\n",
       "    </tr>\n",
       "    <tr>\n",
       "      <th>1</th>\n",
       "      <td>OLS</td>\n",
       "      <td>8</td>\n",
       "      <td>3.194741</td>\n",
       "      <td>2.738548</td>\n",
       "    </tr>\n",
       "    <tr>\n",
       "      <th>2</th>\n",
       "      <td>OLS</td>\n",
       "      <td>16</td>\n",
       "      <td>6.417398</td>\n",
       "      <td>4.172909</td>\n",
       "    </tr>\n",
       "    <tr>\n",
       "      <th>3</th>\n",
       "      <td>OLS</td>\n",
       "      <td>32</td>\n",
       "      <td>5.622215</td>\n",
       "      <td>2.080083</td>\n",
       "    </tr>\n",
       "    <tr>\n",
       "      <th>4</th>\n",
       "      <td>Ridge</td>\n",
       "      <td>4</td>\n",
       "      <td>2.876339</td>\n",
       "      <td>3.835929</td>\n",
       "    </tr>\n",
       "  </tbody>\n",
       "</table>\n",
       "</div>"
      ],
      "text/plain": [
       "  model_type  model_order  mean_SMAPE_score  mean_detrended_SMAPE_score\n",
       "0        OLS            4          3.145217                    4.158557\n",
       "1        OLS            8          3.194741                    2.738548\n",
       "2        OLS           16          6.417398                    4.172909\n",
       "3        OLS           32          5.622215                    2.080083\n",
       "4      Ridge            4          2.876339                    3.835929"
      ]
     },
     "execution_count": 6,
     "metadata": {},
     "output_type": "execute_result"
    }
   ],
   "source": [
    "# Aggregate scores again, this time averaging all of the samples in each condition so we have one datapoint for each model and order\n",
    "mean_sample_smape_score_df = sample_smape_scores_df.groupby(['model_type', 'model_order'])[['SMAPE_score', 'detrended_SMAPE_score']].mean()\n",
    "\n",
    "# Rename columns to reflect new value\n",
    "mean_sample_smape_score_df.rename(inplace=True, columns={'SMAPE_score': 'mean_SMAPE_score', 'detrended_SMAPE_score': 'mean_detrended_SMAPE_score'})\n",
    "\n",
    "# Clean up and inspect\n",
    "mean_sample_smape_score_df.reset_index(inplace=True, drop=False)\n",
    "mean_sample_smape_score_df.head()"
   ]
  },
  {
   "cell_type": "code",
   "execution_count": 7,
   "metadata": {},
   "outputs": [
    {
     "data": {
      "text/html": [
       "<div>\n",
       "<style scoped>\n",
       "    .dataframe tbody tr th:only-of-type {\n",
       "        vertical-align: middle;\n",
       "    }\n",
       "\n",
       "    .dataframe tbody tr th {\n",
       "        vertical-align: top;\n",
       "    }\n",
       "\n",
       "    .dataframe thead th {\n",
       "        text-align: right;\n",
       "    }\n",
       "</style>\n",
       "<table border=\"1\" class=\"dataframe\">\n",
       "  <thead>\n",
       "    <tr style=\"text-align: right;\">\n",
       "      <th></th>\n",
       "      <th>sample</th>\n",
       "      <th>model_type</th>\n",
       "      <th>model_order</th>\n",
       "      <th>SMAPE_values</th>\n",
       "      <th>detrended_SMAPE_values</th>\n",
       "      <th>MBD_predictions</th>\n",
       "      <th>detrended_MBD_predictions</th>\n",
       "      <th>MBD_inputs</th>\n",
       "      <th>detrended_MBD_inputs</th>\n",
       "      <th>MBD_actual</th>\n",
       "    </tr>\n",
       "  </thead>\n",
       "  <tbody>\n",
       "    <tr>\n",
       "      <th>22500</th>\n",
       "      <td>0</td>\n",
       "      <td>control</td>\n",
       "      <td>32</td>\n",
       "      <td>0.042553</td>\n",
       "      <td>0.086956</td>\n",
       "      <td>1.669086</td>\n",
       "      <td>1.596517</td>\n",
       "      <td>[1.6087517, 1.6087517, 1.6372796, 1.952141, 2....</td>\n",
       "      <td>[-0.3217502000000001, 0.0, 0.02852790000000005...</td>\n",
       "      <td>1.741655</td>\n",
       "    </tr>\n",
       "    <tr>\n",
       "      <th>22505</th>\n",
       "      <td>0</td>\n",
       "      <td>control</td>\n",
       "      <td>32</td>\n",
       "      <td>0.007722</td>\n",
       "      <td>0.007663</td>\n",
       "      <td>1.205044</td>\n",
       "      <td>1.223727</td>\n",
       "      <td>[1.0450745, 1.0541621, 1.0619793, 1.0345143, 1...</td>\n",
       "      <td>[0.036350399999999894, 0.009087600000000196, 0...</td>\n",
       "      <td>1.214386</td>\n",
       "    </tr>\n",
       "    <tr>\n",
       "      <th>22510</th>\n",
       "      <td>0</td>\n",
       "      <td>control</td>\n",
       "      <td>32</td>\n",
       "      <td>0.016584</td>\n",
       "      <td>0.006557</td>\n",
       "      <td>3.064781</td>\n",
       "      <td>3.136532</td>\n",
       "      <td>[1.4759005, 1.4139746, 1.4567621, 1.4464304, 1...</td>\n",
       "      <td>[0.11353080000000015, -0.06192590000000009, 0....</td>\n",
       "      <td>3.116031</td>\n",
       "    </tr>\n",
       "  </tbody>\n",
       "</table>\n",
       "</div>"
      ],
      "text/plain": [
       "       sample model_type  model_order  SMAPE_values  detrended_SMAPE_values  \\\n",
       "22500       0    control           32      0.042553                0.086956   \n",
       "22505       0    control           32      0.007722                0.007663   \n",
       "22510       0    control           32      0.016584                0.006557   \n",
       "\n",
       "       MBD_predictions  detrended_MBD_predictions  \\\n",
       "22500         1.669086                   1.596517   \n",
       "22505         1.205044                   1.223727   \n",
       "22510         3.064781                   3.136532   \n",
       "\n",
       "                                              MBD_inputs  \\\n",
       "22500  [1.6087517, 1.6087517, 1.6372796, 1.952141, 2....   \n",
       "22505  [1.0450745, 1.0541621, 1.0619793, 1.0345143, 1...   \n",
       "22510  [1.4759005, 1.4139746, 1.4567621, 1.4464304, 1...   \n",
       "\n",
       "                                    detrended_MBD_inputs  MBD_actual  \n",
       "22500  [-0.3217502000000001, 0.0, 0.02852790000000005...    1.741655  \n",
       "22505  [0.036350399999999894, 0.009087600000000196, 0...    1.214386  \n",
       "22510  [0.11353080000000015, -0.06192590000000009, 0....    3.116031  "
      ]
     },
     "execution_count": 7,
     "metadata": {},
     "output_type": "execute_result"
    }
   ],
   "source": [
    "# Get top 10 models by mean detrended SMAPE score\n",
    "detrended_top_10 = mean_sample_smape_score_df.sort_values(by=['mean_detrended_SMAPE_score']).head(10)\n",
    "\n",
    "# Get winner type and order\n",
    "winning_model_type = detrended_top_10['model_type'].to_list()[0]\n",
    "winning_model_order = detrended_top_10['model_order'].to_list()[0]\n",
    "\n",
    "# Get raw data for winner\n",
    "winner = data_df[(data_df['model_type'] == winning_model_type) & (data_df['model_order'] == winning_model_order)]\n",
    "\n",
    "# Get raw data for sample matched control\n",
    "control = data_df[(data_df['model_type'] == 'control') & (data_df['model_order'] == winning_model_order)]\n",
    "\n",
    "# Inspect\n",
    "control.head(3)"
   ]
  },
  {
   "cell_type": "code",
   "execution_count": 8,
   "metadata": {},
   "outputs": [
    {
     "data": {
      "text/html": [
       "<div>\n",
       "<style scoped>\n",
       "    .dataframe tbody tr th:only-of-type {\n",
       "        vertical-align: middle;\n",
       "    }\n",
       "\n",
       "    .dataframe tbody tr th {\n",
       "        vertical-align: top;\n",
       "    }\n",
       "\n",
       "    .dataframe thead th {\n",
       "        text-align: right;\n",
       "    }\n",
       "</style>\n",
       "<table border=\"1\" class=\"dataframe\">\n",
       "  <thead>\n",
       "    <tr style=\"text-align: right;\">\n",
       "      <th></th>\n",
       "      <th>sample</th>\n",
       "      <th>model_type</th>\n",
       "      <th>model_order</th>\n",
       "      <th>SMAPE_values</th>\n",
       "      <th>detrended_SMAPE_values</th>\n",
       "      <th>MBD_predictions</th>\n",
       "      <th>detrended_MBD_predictions</th>\n",
       "      <th>MBD_inputs</th>\n",
       "      <th>detrended_MBD_inputs</th>\n",
       "      <th>MBD_actual</th>\n",
       "    </tr>\n",
       "  </thead>\n",
       "  <tbody>\n",
       "    <tr>\n",
       "      <th>22503</th>\n",
       "      <td>0</td>\n",
       "      <td>Seigel</td>\n",
       "      <td>32</td>\n",
       "      <td>0.280631</td>\n",
       "      <td>0.042553</td>\n",
       "      <td>2.310191</td>\n",
       "      <td>1.669086</td>\n",
       "      <td>[1.6087517, 1.6087517, 1.6372796, 1.952141, 2....</td>\n",
       "      <td>[-0.3217502000000001, 0.0, 0.02852790000000005...</td>\n",
       "      <td>1.741655</td>\n",
       "    </tr>\n",
       "    <tr>\n",
       "      <th>22508</th>\n",
       "      <td>0</td>\n",
       "      <td>Seigel</td>\n",
       "      <td>32</td>\n",
       "      <td>0.037810</td>\n",
       "      <td>0.005466</td>\n",
       "      <td>1.169322</td>\n",
       "      <td>1.207765</td>\n",
       "      <td>[1.0450745, 1.0541621, 1.0619793, 1.0345143, 1...</td>\n",
       "      <td>[0.036350399999999894, 0.009087600000000196, 0...</td>\n",
       "      <td>1.214386</td>\n",
       "    </tr>\n",
       "    <tr>\n",
       "      <th>22513</th>\n",
       "      <td>0</td>\n",
       "      <td>Seigel</td>\n",
       "      <td>32</td>\n",
       "      <td>0.015627</td>\n",
       "      <td>0.006964</td>\n",
       "      <td>3.067713</td>\n",
       "      <td>3.137806</td>\n",
       "      <td>[1.4759005, 1.4139746, 1.4567621, 1.4464304, 1...</td>\n",
       "      <td>[0.11353080000000015, -0.06192590000000009, 0....</td>\n",
       "      <td>3.116031</td>\n",
       "    </tr>\n",
       "  </tbody>\n",
       "</table>\n",
       "</div>"
      ],
      "text/plain": [
       "       sample model_type  model_order  SMAPE_values  detrended_SMAPE_values  \\\n",
       "22503       0     Seigel           32      0.280631                0.042553   \n",
       "22508       0     Seigel           32      0.037810                0.005466   \n",
       "22513       0     Seigel           32      0.015627                0.006964   \n",
       "\n",
       "       MBD_predictions  detrended_MBD_predictions  \\\n",
       "22503         2.310191                   1.669086   \n",
       "22508         1.169322                   1.207765   \n",
       "22513         3.067713                   3.137806   \n",
       "\n",
       "                                              MBD_inputs  \\\n",
       "22503  [1.6087517, 1.6087517, 1.6372796, 1.952141, 2....   \n",
       "22508  [1.0450745, 1.0541621, 1.0619793, 1.0345143, 1...   \n",
       "22513  [1.4759005, 1.4139746, 1.4567621, 1.4464304, 1...   \n",
       "\n",
       "                                    detrended_MBD_inputs  MBD_actual  \n",
       "22503  [-0.3217502000000001, 0.0, 0.02852790000000005...    1.741655  \n",
       "22508  [0.036350399999999894, 0.009087600000000196, 0...    1.214386  \n",
       "22513  [0.11353080000000015, -0.06192590000000009, 0....    3.116031  "
      ]
     },
     "execution_count": 8,
     "metadata": {},
     "output_type": "execute_result"
    }
   ],
   "source": [
    "winner.head(3)"
   ]
  },
  {
   "cell_type": "code",
   "execution_count": 9,
   "metadata": {},
   "outputs": [
    {
     "data": {
      "image/png": "[encoded data removed]",
      "text/plain": [
       "<Figure size 600x600 with 4 Axes>"
      ]
     },
     "metadata": {},
     "output_type": "display_data"
    }
   ],
   "source": [
    "# Plot true vs predicted values\n",
    "fig, ax = plt.subplots(2, 2, figsize=(6,6))\n",
    "\n",
    "ax[0,0].scatter(\n",
    "    control['MBD_actual'],\n",
    "    control['MBD_predictions'],\n",
    "    color='black',\n",
    "    s=4\n",
    ")\n",
    "\n",
    "ax[0,0].set_ylabel('Predicted MBD')\n",
    "ax[0,0].set_title('Control')\n",
    "\n",
    "ax[0,1].scatter(\n",
    "    winner['MBD_actual'],\n",
    "    winner['detrended_MBD_predictions'],\n",
    "    color='black',\n",
    "    s=4\n",
    ")\n",
    "\n",
    "ax[0,1].set_title(f'Winner: {winning_model_type}, order={winning_model_order}')\n",
    "\n",
    "ax[1,0].scatter(\n",
    "    control['MBD_actual'],\n",
    "    control['MBD_predictions'],\n",
    "    color='black',\n",
    "    s=4\n",
    ")\n",
    "\n",
    "ax[1,0].set_xscale('log')\n",
    "ax[1,0].set_yscale('log')\n",
    "\n",
    "ax[1,0].set_xlabel('Actual MBD')\n",
    "ax[1,0].set_ylabel('Predicted MBD')\n",
    "\n",
    "ax[1,1].scatter(\n",
    "    winner['MBD_actual'],\n",
    "    winner['detrended_MBD_predictions'],\n",
    "    color='black',\n",
    "    s=4\n",
    ")\n",
    "\n",
    "ax[1,1].set_xscale('log')\n",
    "ax[1,1].set_yscale('log')\n",
    "\n",
    "ax[1,1].set_xlabel('Actual MBD')\n",
    "\n",
    "n = len(winner['MBD_actual'])\n",
    "plt.suptitle(f'Predicted vs actual MBD (n={n})')\n",
    "plt.tight_layout()"
   ]
  },
  {
   "cell_type": "code",
   "execution_count": 10,
   "metadata": {},
   "outputs": [
    {
     "data": {
      "text/plain": [
       "count    180.000000\n",
       "mean       1.561848\n",
       "std        0.521477\n",
       "min        0.855174\n",
       "25%        1.317946\n",
       "50%        1.429338\n",
       "75%        2.244805\n",
       "max        2.500029\n",
       "Name: SMAPE_score, dtype: float64"
      ]
     },
     "execution_count": 10,
     "metadata": {},
     "output_type": "execute_result"
    }
   ],
   "source": [
    "control_sample_smape_scores = sample_smape_scores_df[(sample_smape_scores_df['model_type'] == 'control') & (sample_smape_scores_df['model_order'] == winning_model_order)]\n",
    "control_sample_smape_scores['SMAPE_score'].describe()"
   ]
  },
  {
   "cell_type": "code",
   "execution_count": 11,
   "metadata": {},
   "outputs": [
    {
     "data": {
      "text/plain": [
       "count    180.000000\n",
       "mean       1.664899\n",
       "std        0.401164\n",
       "min        1.089781\n",
       "25%        1.495770\n",
       "50%        1.595519\n",
       "75%        2.172901\n",
       "max        2.394467\n",
       "Name: detrended_SMAPE_score, dtype: float64"
      ]
     },
     "execution_count": 11,
     "metadata": {},
     "output_type": "execute_result"
    }
   ],
   "source": [
    "winner_sample_smape_scores = sample_smape_scores_df[(sample_smape_scores_df['model_type'] == winning_model_type) & (sample_smape_scores_df['model_order'] == winning_model_order)]\n",
    "winner_sample_smape_scores['detrended_SMAPE_score'].describe()"
   ]
  },
  {
   "cell_type": "code",
   "execution_count": 12,
   "metadata": {},
   "outputs": [
    {
     "name": "stdout",
     "output_type": "stream",
     "text": [
      "t-test p-value (H0: control mean = regression mean): 3.630e-02\n"
     ]
    }
   ],
   "source": [
    "t_test = stats.ttest_ind(winner_sample_smape_scores['detrended_SMAPE_score'], control_sample_smape_scores['SMAPE_score'])\n",
    "print(f't-test p-value (H0: control mean = regression mean): {t_test[1]:.3e}')"
   ]
  },
  {
   "cell_type": "code",
   "execution_count": 13,
   "metadata": {},
   "outputs": [
    {
     "name": "stdout",
     "output_type": "stream",
     "text": [
      "95% C.I. around difference in means: 0.0066, 0.200\n"
     ]
    }
   ],
   "source": [
    "\n",
    "cm = sms.CompareMeans(sms.DescrStatsW(winner_sample_smape_scores['detrended_SMAPE_score']), sms.DescrStatsW(control_sample_smape_scores['SMAPE_score']))\n",
    "ci = cm.tconfint_diff(usevar='unequal')\n",
    "print(f'95% C.I. around difference in means: {ci[0]:.4f}, {ci[1]:.3f}')"
   ]
  },
  {
   "cell_type": "code",
   "execution_count": 14,
   "metadata": {},
   "outputs": [
    {
     "name": "stdout",
     "output_type": "stream",
     "text": [
      "Mean: 1.665\n",
      "Standard deviation: 0.4000\n",
      "\n",
      "Probability of SMAPE <= 1.0936: 0.077\n",
      "Probability of SMAPE > 1.0936: 0.923\n"
     ]
    }
   ],
   "source": [
    "smape_mean = statistics.mean(winner_sample_smape_scores['detrended_SMAPE_score'])\n",
    "smape_std = statistics.pstdev(winner_sample_smape_scores['detrended_SMAPE_score'])\n",
    "\n",
    "print(f'Mean: {smape_mean:.3f}')\n",
    "print(f'Standard deviation: {smape_std:.4f}')\n",
    "print()\n",
    "\n",
    "leaderboard_score_probability = NormalDist(mu=smape_mean, sigma=smape_std).cdf(1.0936)\n",
    "print(f'Probability of SMAPE <= 1.0936: {leaderboard_score_probability:.3f}')\n",
    "print(f'Probability of SMAPE > 1.0936: {1 - leaderboard_score_probability:.3f}')"
   ]
  },
  {
   "attachments": {},
   "cell_type": "markdown",
   "metadata": {},
   "source": [
    "OK, unfortunately - this is more like the answer we should be getting.The winning model performs worse than the control on average, but not by much.  The control and winning distributions are definitely different. The difference, though small, is highly statistically significant because of the large sample sizes involved.\n",
    "\n",
    "Let's check the probabilities of the observed leaderboard results before we move on to try and improve the result."
   ]
  },
  {
   "cell_type": "code",
   "execution_count": 15,
   "metadata": {},
   "outputs": [
    {
     "name": "stdout",
     "output_type": "stream",
     "text": [
      "Winner mean: 1.665\n",
      "Winner standard deviation: 0.4000\n",
      "\n",
      "Probability of model SMAPE <= 1.2027: 0.124\n",
      "Probability of model SMAPE > 1.2027: 0.876\n"
     ]
    }
   ],
   "source": [
    "smape_mean = statistics.mean(winner_sample_smape_scores['detrended_SMAPE_score'])\n",
    "smape_std = statistics.pstdev(winner_sample_smape_scores['detrended_SMAPE_score'])\n",
    "\n",
    "print(f'Winner mean: {smape_mean:.3f}')\n",
    "print(f'Winner standard deviation: {smape_std:.4f}')\n",
    "print()\n",
    "\n",
    "leaderboard_score_probability = NormalDist(mu=smape_mean, sigma=smape_std).cdf(1.2027)\n",
    "print(f'Probability of model SMAPE <= 1.2027: {leaderboard_score_probability:.3f}')\n",
    "print(f'Probability of model SMAPE > 1.2027: {1 - leaderboard_score_probability:.3f}')"
   ]
  },
  {
   "cell_type": "code",
   "execution_count": 16,
   "metadata": {},
   "outputs": [
    {
     "name": "stdout",
     "output_type": "stream",
     "text": [
      "Control mean: 1.562\n",
      "Control standard deviation: 0.5200\n",
      "\n",
      "Probability of control SMAPE <= 1.0936: 0.184\n",
      "Probability of control SMAPE > 1.0936: 0.816\n"
     ]
    }
   ],
   "source": [
    "smape_mean = statistics.mean(control_sample_smape_scores['SMAPE_score'])\n",
    "smape_std = statistics.pstdev(control_sample_smape_scores['SMAPE_score'])\n",
    "\n",
    "print(f'Control mean: {smape_mean:.3f}')\n",
    "print(f'Control standard deviation: {smape_std:.4f}')\n",
    "print()\n",
    "\n",
    "leaderboard_score_probability = NormalDist(mu=smape_mean, sigma=smape_std).cdf(1.0936)\n",
    "print(f'Probability of control SMAPE <= 1.0936: {leaderboard_score_probability:.3f}')\n",
    "print(f'Probability of control SMAPE > 1.0936: {1 - leaderboard_score_probability:.3f}')"
   ]
  },
  {
   "attachments": {},
   "cell_type": "markdown",
   "metadata": {},
   "source": [
    "Interesting - both observed scores split the sampling distribution at approximately the same place. A pretty good showing on the leaderboard for both ~3 in 20 chance shot to do as well or better than observed for both.\n",
    "\n",
    "Problem is, we are still loosing. On the bright side - we now can get a much better handle on the expected leaderboard results looking at our internal bootstrapping benchmark."
   ]
  }
 ],
 "metadata": {
  "kernelspec": {
   "display_name": "microbusiness",
   "language": "python",
   "name": "python3"
  },
  "language_info": {
   "codemirror_mode": {
    "name": "ipython",
    "version": 3
   },
   "file_extension": ".py",
   "mimetype": "text/x-python",
   "name": "python",
   "nbconvert_exporter": "python",
   "pygments_lexer": "ipython3",
   "version": "3.10.0"
  },
  "orig_nbformat": 4,
  "vscode": {
   "interpreter": {
    "hash": "c89e0f329143aafc2740b6540b46c06e92791a1e818eb6a9ece1d952786ba476"
   }
  }
 },
 "nbformat": 4,
 "nbformat_minor": 2
}
