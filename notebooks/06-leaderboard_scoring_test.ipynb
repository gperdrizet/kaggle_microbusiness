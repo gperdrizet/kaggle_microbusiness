{
 "cells": [
  {
   "attachments": {},
   "cell_type": "markdown",
   "metadata": {},
   "source": [
    "## Benchmark 3: leaderboard scoring test\n",
    "We are working under the assumption that the month of November is being scored on the public leaderboard. Before we do much else, I want to confirm that assumption with an experiment. We are going to burn a days worth of submission in the process, but I think it's worth it to be sure in the long run. The plan is to use dummy submission files to test what month is actually being scored. The setup will be as follows:\n",
    "1. [Positive control](#positive_control): predictions for all timepoints - this will give us the expected score when we guess the right month.\n",
    "2. [Negative control](#negative_control): zeros for all timepoints - this will give us the expected score when we guess the wrong month.\n",
    "3. [November test](#november_test): predictions for November timepoints, zeros everywhere else.\n",
    "4. [December test](#december_test): predictions for December timepoints, zeros everywhere else.\n",
    "5. [January test](#january_test): predictions for January timepoints, zeros everywhere else.\n",
    "6. [Sanity check](#sanity_check): make sure all submission files have the expected number of zero and non-zero rows\n",
    "7. [Results](#results)\n",
    "\n",
    "If more than one month is being scored, the positive control score will be better than the individual test scores and we will have multiple month tests that do better than the negative control. I don't think this is the case, but we will be able to spot with this experimental design."
   ]
  },
  {
   "cell_type": "code",
   "execution_count": 1,
   "metadata": {},
   "outputs": [
    {
     "name": "stdout",
     "output_type": "stream",
     "text": [
      "Python: 3.10.0 | packaged by conda-forge | (default, Nov 20 2021, 02:24:10) [GCC 9.4.0]\n",
      "\n",
      "Pandas 1.4.3\n"
     ]
    }
   ],
   "source": [
    "# Add parent directory to path to allow import of config.py\n",
    "import sys\n",
    "sys.path.append('..')\n",
    "import config as conf\n",
    "\n",
    "import pandas as pd\n",
    "\n",
    "print(f'Python: {sys.version}')\n",
    "print()\n",
    "print(f'Pandas {pd.__version__}')"
   ]
  },
  {
   "attachments": {},
   "cell_type": "markdown",
   "metadata": {},
   "source": [
    "<a name=\"positive_control\"></a>\n",
    "### 1. Positive control"
   ]
  },
  {
   "cell_type": "code",
   "execution_count": 2,
   "metadata": {},
   "outputs": [
    {
     "data": {
      "text/html": [
       "<div>\n",
       "<style scoped>\n",
       "    .dataframe tbody tr th:only-of-type {\n",
       "        vertical-align: middle;\n",
       "    }\n",
       "\n",
       "    .dataframe tbody tr th {\n",
       "        vertical-align: top;\n",
       "    }\n",
       "\n",
       "    .dataframe thead th {\n",
       "        text-align: right;\n",
       "    }\n",
       "</style>\n",
       "<table border=\"1\" class=\"dataframe\">\n",
       "  <thead>\n",
       "    <tr style=\"text-align: right;\">\n",
       "      <th></th>\n",
       "      <th>row_id</th>\n",
       "      <th>microbusiness_density</th>\n",
       "    </tr>\n",
       "  </thead>\n",
       "  <tbody>\n",
       "    <tr>\n",
       "      <th>0</th>\n",
       "      <td>1001_2022-11-01</td>\n",
       "      <td>3.463856</td>\n",
       "    </tr>\n",
       "    <tr>\n",
       "      <th>1</th>\n",
       "      <td>1001_2022-12-01</td>\n",
       "      <td>3.463856</td>\n",
       "    </tr>\n",
       "    <tr>\n",
       "      <th>2</th>\n",
       "      <td>1001_2023-01-01</td>\n",
       "      <td>3.463856</td>\n",
       "    </tr>\n",
       "    <tr>\n",
       "      <th>3</th>\n",
       "      <td>1001_2023-02-01</td>\n",
       "      <td>3.463856</td>\n",
       "    </tr>\n",
       "    <tr>\n",
       "      <th>4</th>\n",
       "      <td>1001_2023-03-01</td>\n",
       "      <td>3.463856</td>\n",
       "    </tr>\n",
       "  </tbody>\n",
       "</table>\n",
       "</div>"
      ],
      "text/plain": [
       "            row_id  microbusiness_density\n",
       "0  1001_2022-11-01               3.463856\n",
       "1  1001_2022-12-01               3.463856\n",
       "2  1001_2023-01-01               3.463856\n",
       "3  1001_2023-02-01               3.463856\n",
       "4  1001_2023-03-01               3.463856"
      ]
     },
     "execution_count": 2,
     "metadata": {},
     "output_type": "execute_result"
    }
   ],
   "source": [
    "# We already have predictions for all counties/timepoints from the oneshot naive model.\n",
    "# let's use those to fill in our dummy submission files.\n",
    "prediction_file = f'{conf.BENCHMARKING_PATH}/2023-01-31_oneshot_naive_model_submission.csv'\n",
    "positive_control_df = pd.read_csv(prediction_file)\n",
    "positive_control_df.head()"
   ]
  },
  {
   "cell_type": "code",
   "execution_count": 3,
   "metadata": {},
   "outputs": [],
   "source": [
    "# Right off the bat, this is our positive control file so let's\n",
    "# write in into our data dir for this experiment\n",
    "output_file = f'{conf.LEADERBOARD_TEST_PATH}/positive_control.csv'\n",
    "positive_control_df.to_csv(output_file, sep=',', index=False)"
   ]
  },
  {
   "attachments": {},
   "cell_type": "markdown",
   "metadata": {},
   "source": [
    "<a name=\"negative_control\"></a>\n",
    "### 2. Negative control"
   ]
  },
  {
   "cell_type": "code",
   "execution_count": 4,
   "metadata": {},
   "outputs": [
    {
     "data": {
      "text/html": [
       "<div>\n",
       "<style scoped>\n",
       "    .dataframe tbody tr th:only-of-type {\n",
       "        vertical-align: middle;\n",
       "    }\n",
       "\n",
       "    .dataframe tbody tr th {\n",
       "        vertical-align: top;\n",
       "    }\n",
       "\n",
       "    .dataframe thead th {\n",
       "        text-align: right;\n",
       "    }\n",
       "</style>\n",
       "<table border=\"1\" class=\"dataframe\">\n",
       "  <thead>\n",
       "    <tr style=\"text-align: right;\">\n",
       "      <th></th>\n",
       "      <th>row_id</th>\n",
       "      <th>microbusiness_density</th>\n",
       "    </tr>\n",
       "  </thead>\n",
       "  <tbody>\n",
       "    <tr>\n",
       "      <th>0</th>\n",
       "      <td>1001_2022-11-01</td>\n",
       "      <td>0</td>\n",
       "    </tr>\n",
       "    <tr>\n",
       "      <th>1</th>\n",
       "      <td>1001_2022-12-01</td>\n",
       "      <td>0</td>\n",
       "    </tr>\n",
       "    <tr>\n",
       "      <th>2</th>\n",
       "      <td>1001_2023-01-01</td>\n",
       "      <td>0</td>\n",
       "    </tr>\n",
       "    <tr>\n",
       "      <th>3</th>\n",
       "      <td>1001_2023-02-01</td>\n",
       "      <td>0</td>\n",
       "    </tr>\n",
       "    <tr>\n",
       "      <th>4</th>\n",
       "      <td>1001_2023-03-01</td>\n",
       "      <td>0</td>\n",
       "    </tr>\n",
       "  </tbody>\n",
       "</table>\n",
       "</div>"
      ],
      "text/plain": [
       "            row_id  microbusiness_density\n",
       "0  1001_2022-11-01                      0\n",
       "1  1001_2022-12-01                      0\n",
       "2  1001_2023-01-01                      0\n",
       "3  1001_2023-02-01                      0\n",
       "4  1001_2023-03-01                      0"
      ]
     },
     "execution_count": 4,
     "metadata": {},
     "output_type": "execute_result"
    }
   ],
   "source": [
    "# Next, let's make our negative control, i.e. fill all of the predictions\n",
    "# with just zeros\n",
    "negative_control_df = positive_control_df.drop(['microbusiness_density'], axis=1)\n",
    "negative_control_df['microbusiness_density'] = 0\n",
    "negative_control_df.head()"
   ]
  },
  {
   "cell_type": "code",
   "execution_count": 5,
   "metadata": {},
   "outputs": [],
   "source": [
    "# Write negative control to csv\n",
    "output_file = f'{conf.LEADERBOARD_TEST_PATH}/negative_control.csv'\n",
    "negative_control_df.to_csv(output_file, sep=',', index=False)"
   ]
  },
  {
   "attachments": {},
   "cell_type": "markdown",
   "metadata": {},
   "source": [
    "<a name=\"november_test\"></a>\n",
    "### 3. November test"
   ]
  },
  {
   "cell_type": "code",
   "execution_count": 6,
   "metadata": {},
   "outputs": [
    {
     "name": "stdout",
     "output_type": "stream",
     "text": [
      "Num rows: 25080\n"
     ]
    },
    {
     "data": {
      "text/html": [
       "<div>\n",
       "<style scoped>\n",
       "    .dataframe tbody tr th:only-of-type {\n",
       "        vertical-align: middle;\n",
       "    }\n",
       "\n",
       "    .dataframe tbody tr th {\n",
       "        vertical-align: top;\n",
       "    }\n",
       "\n",
       "    .dataframe thead th {\n",
       "        text-align: right;\n",
       "    }\n",
       "</style>\n",
       "<table border=\"1\" class=\"dataframe\">\n",
       "  <thead>\n",
       "    <tr style=\"text-align: right;\">\n",
       "      <th></th>\n",
       "      <th>row_id</th>\n",
       "      <th>microbusiness_density</th>\n",
       "    </tr>\n",
       "  </thead>\n",
       "  <tbody>\n",
       "    <tr>\n",
       "      <th>0</th>\n",
       "      <td>1001_2022-11-01</td>\n",
       "      <td>3.463856</td>\n",
       "    </tr>\n",
       "    <tr>\n",
       "      <th>1</th>\n",
       "      <td>1003_2022-11-01</td>\n",
       "      <td>8.359798</td>\n",
       "    </tr>\n",
       "    <tr>\n",
       "      <th>2</th>\n",
       "      <td>1005_2022-11-01</td>\n",
       "      <td>1.232074</td>\n",
       "    </tr>\n",
       "    <tr>\n",
       "      <th>3</th>\n",
       "      <td>1007_2022-11-01</td>\n",
       "      <td>1.287240</td>\n",
       "    </tr>\n",
       "    <tr>\n",
       "      <th>4</th>\n",
       "      <td>1009_2022-11-01</td>\n",
       "      <td>1.831783</td>\n",
       "    </tr>\n",
       "  </tbody>\n",
       "</table>\n",
       "</div>"
      ],
      "text/plain": [
       "            row_id  microbusiness_density\n",
       "0  1001_2022-11-01               3.463856\n",
       "1  1003_2022-11-01               8.359798\n",
       "2  1005_2022-11-01               1.232074\n",
       "3  1007_2022-11-01               1.287240\n",
       "4  1009_2022-11-01               1.831783"
      ]
     },
     "execution_count": 6,
     "metadata": {},
     "output_type": "execute_result"
    }
   ],
   "source": [
    "# Make test submission file for November\n",
    "\n",
    "# Get rows from positive control dataframe where the row id contains November of 2022\n",
    "november_test_positive_df = positive_control_df[positive_control_df['row_id'].str.contains('2022-11-01')]\n",
    "\n",
    "# Get rows from negative control dataframe where the row id does not contain November of 2022\n",
    "november_test_negative_df = negative_control_df[~positive_control_df['row_id'].str.contains('2022-11-01')]\n",
    "\n",
    "# Combine negative and positive\n",
    "november_test_df = pd.concat([november_test_positive_df, november_test_negative_df], axis=0)\n",
    "\n",
    "# Clean up and inspect\n",
    "november_test_df.reset_index(inplace=True, drop=True)\n",
    "print(f'Num rows: {len(november_test_df)}')\n",
    "november_test_df.head()\n"
   ]
  },
  {
   "cell_type": "code",
   "execution_count": 7,
   "metadata": {},
   "outputs": [],
   "source": [
    "# Write to csv\n",
    "output_file = f'{conf.LEADERBOARD_TEST_PATH}/november_test.csv'\n",
    "november_test_df.to_csv(output_file, sep=',', index=False)"
   ]
  },
  {
   "attachments": {},
   "cell_type": "markdown",
   "metadata": {},
   "source": [
    "<a name=\"december_test\"></a>\n",
    "### 4. December test"
   ]
  },
  {
   "cell_type": "code",
   "execution_count": 8,
   "metadata": {},
   "outputs": [
    {
     "name": "stdout",
     "output_type": "stream",
     "text": [
      "Num rows: 25080\n"
     ]
    },
    {
     "data": {
      "text/html": [
       "<div>\n",
       "<style scoped>\n",
       "    .dataframe tbody tr th:only-of-type {\n",
       "        vertical-align: middle;\n",
       "    }\n",
       "\n",
       "    .dataframe tbody tr th {\n",
       "        vertical-align: top;\n",
       "    }\n",
       "\n",
       "    .dataframe thead th {\n",
       "        text-align: right;\n",
       "    }\n",
       "</style>\n",
       "<table border=\"1\" class=\"dataframe\">\n",
       "  <thead>\n",
       "    <tr style=\"text-align: right;\">\n",
       "      <th></th>\n",
       "      <th>row_id</th>\n",
       "      <th>microbusiness_density</th>\n",
       "    </tr>\n",
       "  </thead>\n",
       "  <tbody>\n",
       "    <tr>\n",
       "      <th>0</th>\n",
       "      <td>1001_2022-12-01</td>\n",
       "      <td>3.463856</td>\n",
       "    </tr>\n",
       "    <tr>\n",
       "      <th>1</th>\n",
       "      <td>1003_2022-12-01</td>\n",
       "      <td>8.359798</td>\n",
       "    </tr>\n",
       "    <tr>\n",
       "      <th>2</th>\n",
       "      <td>1005_2022-12-01</td>\n",
       "      <td>1.232074</td>\n",
       "    </tr>\n",
       "    <tr>\n",
       "      <th>3</th>\n",
       "      <td>1007_2022-12-01</td>\n",
       "      <td>1.287240</td>\n",
       "    </tr>\n",
       "    <tr>\n",
       "      <th>4</th>\n",
       "      <td>1009_2022-12-01</td>\n",
       "      <td>1.831783</td>\n",
       "    </tr>\n",
       "  </tbody>\n",
       "</table>\n",
       "</div>"
      ],
      "text/plain": [
       "            row_id  microbusiness_density\n",
       "0  1001_2022-12-01               3.463856\n",
       "1  1003_2022-12-01               8.359798\n",
       "2  1005_2022-12-01               1.232074\n",
       "3  1007_2022-12-01               1.287240\n",
       "4  1009_2022-12-01               1.831783"
      ]
     },
     "execution_count": 8,
     "metadata": {},
     "output_type": "execute_result"
    }
   ],
   "source": [
    "# Make test submission file for December\n",
    "\n",
    "# Get rows from positive control dataframe where the row id contains December of 2022\n",
    "december_test_positive_df = positive_control_df[positive_control_df['row_id'].str.contains('2022-12-01')]\n",
    "\n",
    "# Get rows from negative control dataframe where the row id does not contain December of 2022\n",
    "december_test_negative_df = negative_control_df[~positive_control_df['row_id'].str.contains('2022-12-01')]\n",
    "\n",
    "# Combine negative and positive\n",
    "december_test_df = pd.concat([december_test_positive_df, december_test_negative_df], axis=0)\n",
    "\n",
    "# Clean up and inspect\n",
    "december_test_df.reset_index(inplace=True, drop=True)\n",
    "print(f'Num rows: {len(december_test_df)}')\n",
    "december_test_df.head()"
   ]
  },
  {
   "cell_type": "code",
   "execution_count": 9,
   "metadata": {},
   "outputs": [],
   "source": [
    "# Write to csv\n",
    "output_file = f'{conf.LEADERBOARD_TEST_PATH}/december_test.csv'\n",
    "december_test_df.to_csv(output_file, sep=',', index=False)"
   ]
  },
  {
   "attachments": {},
   "cell_type": "markdown",
   "metadata": {},
   "source": [
    "<a name=\"january_test\"></a>\n",
    "### 5. January test"
   ]
  },
  {
   "cell_type": "code",
   "execution_count": 10,
   "metadata": {},
   "outputs": [
    {
     "name": "stdout",
     "output_type": "stream",
     "text": [
      "Num rows: 25080\n"
     ]
    },
    {
     "data": {
      "text/html": [
       "<div>\n",
       "<style scoped>\n",
       "    .dataframe tbody tr th:only-of-type {\n",
       "        vertical-align: middle;\n",
       "    }\n",
       "\n",
       "    .dataframe tbody tr th {\n",
       "        vertical-align: top;\n",
       "    }\n",
       "\n",
       "    .dataframe thead th {\n",
       "        text-align: right;\n",
       "    }\n",
       "</style>\n",
       "<table border=\"1\" class=\"dataframe\">\n",
       "  <thead>\n",
       "    <tr style=\"text-align: right;\">\n",
       "      <th></th>\n",
       "      <th>row_id</th>\n",
       "      <th>microbusiness_density</th>\n",
       "    </tr>\n",
       "  </thead>\n",
       "  <tbody>\n",
       "    <tr>\n",
       "      <th>0</th>\n",
       "      <td>1001_2023-01-01</td>\n",
       "      <td>3.463856</td>\n",
       "    </tr>\n",
       "    <tr>\n",
       "      <th>1</th>\n",
       "      <td>1003_2023-01-01</td>\n",
       "      <td>8.359798</td>\n",
       "    </tr>\n",
       "    <tr>\n",
       "      <th>2</th>\n",
       "      <td>1005_2023-01-01</td>\n",
       "      <td>1.232074</td>\n",
       "    </tr>\n",
       "    <tr>\n",
       "      <th>3</th>\n",
       "      <td>1007_2023-01-01</td>\n",
       "      <td>1.287240</td>\n",
       "    </tr>\n",
       "    <tr>\n",
       "      <th>4</th>\n",
       "      <td>1009_2023-01-01</td>\n",
       "      <td>1.831783</td>\n",
       "    </tr>\n",
       "  </tbody>\n",
       "</table>\n",
       "</div>"
      ],
      "text/plain": [
       "            row_id  microbusiness_density\n",
       "0  1001_2023-01-01               3.463856\n",
       "1  1003_2023-01-01               8.359798\n",
       "2  1005_2023-01-01               1.232074\n",
       "3  1007_2023-01-01               1.287240\n",
       "4  1009_2023-01-01               1.831783"
      ]
     },
     "execution_count": 10,
     "metadata": {},
     "output_type": "execute_result"
    }
   ],
   "source": [
    "# Make test submission file for January\n",
    "\n",
    "# Get rows from positive control dataframe where the row id contains January of 2023\n",
    "january_test_positive_df = positive_control_df[positive_control_df['row_id'].str.contains('2023-01-01')]\n",
    "\n",
    "# Get rows from negative control dataframe where the row id does not contain January of 2023\n",
    "january_test_negative_df = negative_control_df[~positive_control_df['row_id'].str.contains('2023-01-01')]\n",
    "\n",
    "# Combine negative and positive\n",
    "january_test_df = pd.concat([january_test_positive_df, january_test_negative_df], axis=0)\n",
    "\n",
    "# Clean up and inspect\n",
    "january_test_df.reset_index(inplace=True, drop=True)\n",
    "print(f'Num rows: {len(january_test_df)}')\n",
    "january_test_df.head()"
   ]
  },
  {
   "cell_type": "code",
   "execution_count": 11,
   "metadata": {},
   "outputs": [],
   "source": [
    "# Write to csv\n",
    "output_file = f'{conf.LEADERBOARD_TEST_PATH}/january_test.csv'\n",
    "january_test_df.to_csv(output_file, sep=',', index=False)"
   ]
  },
  {
   "attachments": {},
   "cell_type": "markdown",
   "metadata": {},
   "source": [
    "<a name=\"sanity_check\"></a>\n",
    "### 6. Sanity check\n",
    "Before we burn a days worth of submissions with this test, let's load up each file and double check that we have the correct number of non-zero rows in the right places."
   ]
  },
  {
   "cell_type": "code",
   "execution_count": 12,
   "metadata": {},
   "outputs": [
    {
     "name": "stdout",
     "output_type": "stream",
     "text": [
      "Total rows: 25080\n",
      "Num non-zero rows: 25072\n"
     ]
    },
    {
     "data": {
      "text/html": [
       "<div>\n",
       "<style scoped>\n",
       "    .dataframe tbody tr th:only-of-type {\n",
       "        vertical-align: middle;\n",
       "    }\n",
       "\n",
       "    .dataframe tbody tr th {\n",
       "        vertical-align: top;\n",
       "    }\n",
       "\n",
       "    .dataframe thead th {\n",
       "        text-align: right;\n",
       "    }\n",
       "</style>\n",
       "<table border=\"1\" class=\"dataframe\">\n",
       "  <thead>\n",
       "    <tr style=\"text-align: right;\">\n",
       "      <th></th>\n",
       "      <th>row_id</th>\n",
       "      <th>microbusiness_density</th>\n",
       "    </tr>\n",
       "  </thead>\n",
       "  <tbody>\n",
       "    <tr>\n",
       "      <th>0</th>\n",
       "      <td>1001_2022-11-01</td>\n",
       "      <td>3.463856</td>\n",
       "    </tr>\n",
       "    <tr>\n",
       "      <th>1</th>\n",
       "      <td>1001_2022-12-01</td>\n",
       "      <td>3.463856</td>\n",
       "    </tr>\n",
       "    <tr>\n",
       "      <th>2</th>\n",
       "      <td>1001_2023-01-01</td>\n",
       "      <td>3.463856</td>\n",
       "    </tr>\n",
       "    <tr>\n",
       "      <th>3</th>\n",
       "      <td>1001_2023-02-01</td>\n",
       "      <td>3.463856</td>\n",
       "    </tr>\n",
       "    <tr>\n",
       "      <th>4</th>\n",
       "      <td>1001_2023-03-01</td>\n",
       "      <td>3.463856</td>\n",
       "    </tr>\n",
       "  </tbody>\n",
       "</table>\n",
       "</div>"
      ],
      "text/plain": [
       "            row_id  microbusiness_density\n",
       "0  1001_2022-11-01               3.463856\n",
       "1  1001_2022-12-01               3.463856\n",
       "2  1001_2023-01-01               3.463856\n",
       "3  1001_2023-02-01               3.463856\n",
       "4  1001_2023-03-01               3.463856"
      ]
     },
     "execution_count": 12,
     "metadata": {},
     "output_type": "execute_result"
    }
   ],
   "source": [
    "positive_control_file = f'{conf.LEADERBOARD_TEST_PATH}/positive_control.csv'\n",
    "positive_control_df = pd.read_csv(positive_control_file)\n",
    "\n",
    "positive_control_rows = positive_control_df[positive_control_df['microbusiness_density'] != 0]\n",
    "print(f'Total rows: {len(positive_control_df)}')\n",
    "print(f'Num non-zero rows: {len(positive_control_rows)}')\n",
    "positive_control_rows.head()"
   ]
  },
  {
   "attachments": {},
   "cell_type": "markdown",
   "metadata": {},
   "source": [
    "OK, glad I checked - we have a mismatch. We must have just predicted zero for at least one of the counties. As I remember it, there was a county (Issaquena County, Mississippi, cfips: 28055) which lost all of it's microbusinesses during the time range. That must be where these 8 zero rows are coming from. Propagating the final zero forward in that county."
   ]
  },
  {
   "cell_type": "code",
   "execution_count": 13,
   "metadata": {},
   "outputs": [
    {
     "name": "stdout",
     "output_type": "stream",
     "text": [
      "Total rows: 25080\n",
      "Num non-zero rows: 0\n"
     ]
    },
    {
     "data": {
      "text/html": [
       "<div>\n",
       "<style scoped>\n",
       "    .dataframe tbody tr th:only-of-type {\n",
       "        vertical-align: middle;\n",
       "    }\n",
       "\n",
       "    .dataframe tbody tr th {\n",
       "        vertical-align: top;\n",
       "    }\n",
       "\n",
       "    .dataframe thead th {\n",
       "        text-align: right;\n",
       "    }\n",
       "</style>\n",
       "<table border=\"1\" class=\"dataframe\">\n",
       "  <thead>\n",
       "    <tr style=\"text-align: right;\">\n",
       "      <th></th>\n",
       "      <th>row_id</th>\n",
       "      <th>microbusiness_density</th>\n",
       "    </tr>\n",
       "  </thead>\n",
       "  <tbody>\n",
       "  </tbody>\n",
       "</table>\n",
       "</div>"
      ],
      "text/plain": [
       "Empty DataFrame\n",
       "Columns: [row_id, microbusiness_density]\n",
       "Index: []"
      ]
     },
     "execution_count": 13,
     "metadata": {},
     "output_type": "execute_result"
    }
   ],
   "source": [
    "negative_control_file = f'{conf.LEADERBOARD_TEST_PATH}/negative_control.csv'\n",
    "negative_control_df = pd.read_csv(negative_control_file)\n",
    "\n",
    "negative_control_rows = negative_control_df[negative_control_df['microbusiness_density'] != 0]\n",
    "print(f'Total rows: {len(negative_control_df)}')\n",
    "print(f'Num non-zero rows: {len(negative_control_rows)}')\n",
    "negative_control_rows.head()"
   ]
  },
  {
   "cell_type": "code",
   "execution_count": 14,
   "metadata": {},
   "outputs": [
    {
     "name": "stdout",
     "output_type": "stream",
     "text": [
      "Total rows: 25080\n",
      "Num non-zero rows: 3134\n"
     ]
    },
    {
     "data": {
      "text/html": [
       "<div>\n",
       "<style scoped>\n",
       "    .dataframe tbody tr th:only-of-type {\n",
       "        vertical-align: middle;\n",
       "    }\n",
       "\n",
       "    .dataframe tbody tr th {\n",
       "        vertical-align: top;\n",
       "    }\n",
       "\n",
       "    .dataframe thead th {\n",
       "        text-align: right;\n",
       "    }\n",
       "</style>\n",
       "<table border=\"1\" class=\"dataframe\">\n",
       "  <thead>\n",
       "    <tr style=\"text-align: right;\">\n",
       "      <th></th>\n",
       "      <th>row_id</th>\n",
       "      <th>microbusiness_density</th>\n",
       "    </tr>\n",
       "  </thead>\n",
       "  <tbody>\n",
       "    <tr>\n",
       "      <th>0</th>\n",
       "      <td>1001_2022-11-01</td>\n",
       "      <td>3.463856</td>\n",
       "    </tr>\n",
       "    <tr>\n",
       "      <th>1</th>\n",
       "      <td>1003_2022-11-01</td>\n",
       "      <td>8.359798</td>\n",
       "    </tr>\n",
       "    <tr>\n",
       "      <th>2</th>\n",
       "      <td>1005_2022-11-01</td>\n",
       "      <td>1.232074</td>\n",
       "    </tr>\n",
       "    <tr>\n",
       "      <th>3</th>\n",
       "      <td>1007_2022-11-01</td>\n",
       "      <td>1.287240</td>\n",
       "    </tr>\n",
       "    <tr>\n",
       "      <th>4</th>\n",
       "      <td>1009_2022-11-01</td>\n",
       "      <td>1.831783</td>\n",
       "    </tr>\n",
       "  </tbody>\n",
       "</table>\n",
       "</div>"
      ],
      "text/plain": [
       "            row_id  microbusiness_density\n",
       "0  1001_2022-11-01               3.463856\n",
       "1  1003_2022-11-01               8.359798\n",
       "2  1005_2022-11-01               1.232074\n",
       "3  1007_2022-11-01               1.287240\n",
       "4  1009_2022-11-01               1.831783"
      ]
     },
     "execution_count": 14,
     "metadata": {},
     "output_type": "execute_result"
    }
   ],
   "source": [
    "\n",
    "november_test_file = f'{conf.LEADERBOARD_TEST_PATH}/november_test.csv'\n",
    "november_test_df = pd.read_csv(november_test_file)\n",
    "\n",
    "november_test_rows = november_test_df[november_test_df['microbusiness_density'] != 0]\n",
    "print(f'Total rows: {len(november_test_df)}')\n",
    "print(f'Num non-zero rows: {len(november_test_rows)}')\n",
    "november_test_rows.head()"
   ]
  },
  {
   "cell_type": "code",
   "execution_count": 15,
   "metadata": {},
   "outputs": [
    {
     "name": "stdout",
     "output_type": "stream",
     "text": [
      "Total rows: 25080\n",
      "Num non-zero rows: 3134\n"
     ]
    },
    {
     "data": {
      "text/html": [
       "<div>\n",
       "<style scoped>\n",
       "    .dataframe tbody tr th:only-of-type {\n",
       "        vertical-align: middle;\n",
       "    }\n",
       "\n",
       "    .dataframe tbody tr th {\n",
       "        vertical-align: top;\n",
       "    }\n",
       "\n",
       "    .dataframe thead th {\n",
       "        text-align: right;\n",
       "    }\n",
       "</style>\n",
       "<table border=\"1\" class=\"dataframe\">\n",
       "  <thead>\n",
       "    <tr style=\"text-align: right;\">\n",
       "      <th></th>\n",
       "      <th>row_id</th>\n",
       "      <th>microbusiness_density</th>\n",
       "    </tr>\n",
       "  </thead>\n",
       "  <tbody>\n",
       "    <tr>\n",
       "      <th>0</th>\n",
       "      <td>1001_2022-12-01</td>\n",
       "      <td>3.463856</td>\n",
       "    </tr>\n",
       "    <tr>\n",
       "      <th>1</th>\n",
       "      <td>1003_2022-12-01</td>\n",
       "      <td>8.359798</td>\n",
       "    </tr>\n",
       "    <tr>\n",
       "      <th>2</th>\n",
       "      <td>1005_2022-12-01</td>\n",
       "      <td>1.232074</td>\n",
       "    </tr>\n",
       "    <tr>\n",
       "      <th>3</th>\n",
       "      <td>1007_2022-12-01</td>\n",
       "      <td>1.287240</td>\n",
       "    </tr>\n",
       "    <tr>\n",
       "      <th>4</th>\n",
       "      <td>1009_2022-12-01</td>\n",
       "      <td>1.831783</td>\n",
       "    </tr>\n",
       "  </tbody>\n",
       "</table>\n",
       "</div>"
      ],
      "text/plain": [
       "            row_id  microbusiness_density\n",
       "0  1001_2022-12-01               3.463856\n",
       "1  1003_2022-12-01               8.359798\n",
       "2  1005_2022-12-01               1.232074\n",
       "3  1007_2022-12-01               1.287240\n",
       "4  1009_2022-12-01               1.831783"
      ]
     },
     "execution_count": 15,
     "metadata": {},
     "output_type": "execute_result"
    }
   ],
   "source": [
    "\n",
    "december_test_file = f'{conf.LEADERBOARD_TEST_PATH}/december_test.csv'\n",
    "december_test_df = pd.read_csv(december_test_file)\n",
    "\n",
    "december_test_rows = december_test_df[december_test_df['microbusiness_density'] != 0]\n",
    "print(f'Total rows: {len(december_test_df)}')\n",
    "print(f'Num non-zero rows: {len(december_test_rows)}')\n",
    "december_test_rows.head()"
   ]
  },
  {
   "cell_type": "code",
   "execution_count": 16,
   "metadata": {},
   "outputs": [
    {
     "name": "stdout",
     "output_type": "stream",
     "text": [
      "Total rows: 25080\n",
      "Num non-zero rows: 3134\n"
     ]
    },
    {
     "data": {
      "text/html": [
       "<div>\n",
       "<style scoped>\n",
       "    .dataframe tbody tr th:only-of-type {\n",
       "        vertical-align: middle;\n",
       "    }\n",
       "\n",
       "    .dataframe tbody tr th {\n",
       "        vertical-align: top;\n",
       "    }\n",
       "\n",
       "    .dataframe thead th {\n",
       "        text-align: right;\n",
       "    }\n",
       "</style>\n",
       "<table border=\"1\" class=\"dataframe\">\n",
       "  <thead>\n",
       "    <tr style=\"text-align: right;\">\n",
       "      <th></th>\n",
       "      <th>row_id</th>\n",
       "      <th>microbusiness_density</th>\n",
       "    </tr>\n",
       "  </thead>\n",
       "  <tbody>\n",
       "    <tr>\n",
       "      <th>0</th>\n",
       "      <td>1001_2023-01-01</td>\n",
       "      <td>3.463856</td>\n",
       "    </tr>\n",
       "    <tr>\n",
       "      <th>1</th>\n",
       "      <td>1003_2023-01-01</td>\n",
       "      <td>8.359798</td>\n",
       "    </tr>\n",
       "    <tr>\n",
       "      <th>2</th>\n",
       "      <td>1005_2023-01-01</td>\n",
       "      <td>1.232074</td>\n",
       "    </tr>\n",
       "    <tr>\n",
       "      <th>3</th>\n",
       "      <td>1007_2023-01-01</td>\n",
       "      <td>1.287240</td>\n",
       "    </tr>\n",
       "    <tr>\n",
       "      <th>4</th>\n",
       "      <td>1009_2023-01-01</td>\n",
       "      <td>1.831783</td>\n",
       "    </tr>\n",
       "  </tbody>\n",
       "</table>\n",
       "</div>"
      ],
      "text/plain": [
       "            row_id  microbusiness_density\n",
       "0  1001_2023-01-01               3.463856\n",
       "1  1003_2023-01-01               8.359798\n",
       "2  1005_2023-01-01               1.232074\n",
       "3  1007_2023-01-01               1.287240\n",
       "4  1009_2023-01-01               1.831783"
      ]
     },
     "execution_count": 16,
     "metadata": {},
     "output_type": "execute_result"
    }
   ],
   "source": [
    "\n",
    "january_test_file = f'{conf.LEADERBOARD_TEST_PATH}/january_test.csv'\n",
    "january_test_df = pd.read_csv(january_test_file)\n",
    "\n",
    "january_test_rows = january_test_df[january_test_df['microbusiness_density'] != 0]\n",
    "print(f'Total rows: {len(january_test_df)}')\n",
    "print(f'Num non-zero rows: {len(january_test_rows)}')\n",
    "january_test_rows.head()"
   ]
  },
  {
   "attachments": {},
   "cell_type": "markdown",
   "metadata": {},
   "source": [
    "<a name=\"results\"></a>\n",
    "### 7. Results\n",
    "Ok, so results are conclusive. Today is February 1<sup>st</sup>: the public leaderboard is scoring predictions for November 2022 only. My reading of the contest description says this will not change until at least the middle of this month when some of the test data is revealed. For reference, here are the results:\n",
    "1. **Positive control**: SMAPE = 1.0936\n",
    "2. **Negative control**: SMAPE = 199.9362\n",
    "3. **November test**: SMAPE = 1.0936\n",
    "4. **December test**: SMAPE = 199.9362\n",
    "5. **January test**: SMAPE = 199.9362\n",
    "\n",
    "Positive control score matches November test. Negative control matches December and January tests."
   ]
  }
 ],
 "metadata": {
  "kernelspec": {
   "display_name": "microbusiness",
   "language": "python",
   "name": "python3"
  },
  "language_info": {
   "codemirror_mode": {
    "name": "ipython",
    "version": 3
   },
   "file_extension": ".py",
   "mimetype": "text/x-python",
   "name": "python",
   "nbconvert_exporter": "python",
   "pygments_lexer": "ipython3",
   "version": "3.10.0"
  },
  "orig_nbformat": 4,
  "vscode": {
   "interpreter": {
    "hash": "c89e0f329143aafc2740b6540b46c06e92791a1e818eb6a9ece1d952786ba476"
   }
  }
 },
 "nbformat": 4,
 "nbformat_minor": 2
}
