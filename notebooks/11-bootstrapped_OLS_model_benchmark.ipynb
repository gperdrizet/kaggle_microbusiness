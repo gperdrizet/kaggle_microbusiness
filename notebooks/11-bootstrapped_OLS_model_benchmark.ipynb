{
 "cells": [
  {
   "attachments": {},
   "cell_type": "markdown",
   "metadata": {},
   "source": [
    "## Benchmark 6: OLS model structured bootstrap resampling\n",
    "Now that we have a resampling strategy that gives us at least some confidence that our internal benchmarking scores could be reflective of what will happened when we submit to the public leaderboard. Let's start working on the model. The first thing I want to try is another shot at the OLS model. Firstly, to see if we can make any clever improvements. But, mostly to generalize the functions written to resample, forecast and score the naive model.\n",
    "1. [Abbreviations & definitions](#abbrevations_definitions)\n",
    "2. [Load & inspect](#load_inspect)\n",
    "3. [Helper functions](#helper_functions)\n",
    "\n",
    "<a name=\"abbreviations_definitions\"></a>\n",
    "### 1. Abbreviations & definitions\n",
    "+ MBD: microbusiness density\n",
    "+ MBC: microbusiness count\n",
    "+ OLS: ordinary least squares\n",
    "+ Model order: number of past timepoints used as input data for model training\n",
    "+ Origin (forecast origin): last known point in the input data\n",
    "+ Horizon (forecast horizon): number of future data points predicted by the model\n",
    "+ SMAPE: Symmetric mean absolute percentage error\n",
    "\n",
    "<a name=\"load_inspect\"></a>\n",
    "### 2. Load & inspect"
   ]
  },
  {
   "cell_type": "code",
   "execution_count": 1,
   "metadata": {},
   "outputs": [
    {
     "name": "stdout",
     "output_type": "stream",
     "text": [
      "Python: 3.10.0 | packaged by conda-forge | (default, Nov 20 2021, 02:24:10) [GCC 9.4.0]\n",
      "\n",
      "Numpy 1.23.5\n",
      "Pandas 1.4.3\n"
     ]
    }
   ],
   "source": [
    "# Add parent directory to path to allow import of config.py\n",
    "import sys\n",
    "sys.path.append('..')\n",
    "import config as conf\n",
    "#import functions.data_manipulation_functions as data_funcs\n",
    "\n",
    "import statistics\n",
    "import numpy as np\n",
    "import pandas as pd\n",
    "import statsmodels.api as sm\n",
    "import multiprocessing as mp\n",
    "import matplotlib.pyplot as plt\n",
    "from statistics import NormalDist\n",
    "\n",
    "print(f'Python: {sys.version}')\n",
    "print()\n",
    "print(f'Numpy {np.__version__}')\n",
    "print(f'Pandas {pd.__version__}')"
   ]
  },
  {
   "cell_type": "code",
   "execution_count": 2,
   "metadata": {},
   "outputs": [
    {
     "name": "stdout",
     "output_type": "stream",
     "text": [
      "Timepoints shape: (31, 3135, 8, 5)\n",
      "\n",
      "Column types:\n",
      "\t<class 'numpy.float64'>\n",
      "\t<class 'numpy.float64'>\n",
      "\t<class 'numpy.float64'>\n",
      "\t<class 'numpy.float64'>\n",
      "\t<class 'numpy.float64'>\n",
      "\n",
      "Example block:\n",
      "[[1.0010000e+03 1.5646176e+18 3.0076818e+00 1.2490000e+03 0.0000000e+00]\n",
      " [1.0010000e+03 1.5672960e+18 2.8848701e+00 1.1980000e+03 1.0000000e+00]\n",
      " [1.0010000e+03 1.5698880e+18 3.0558431e+00 1.2690000e+03 2.0000000e+00]\n",
      " [1.0010000e+03 1.5725664e+18 2.9932332e+00 1.2430000e+03 3.0000000e+00]\n",
      " [1.0010000e+03 1.5751584e+18 2.9932332e+00 1.2430000e+03 4.0000000e+00]\n",
      " [1.0010000e+03 1.5778368e+18 2.9690900e+00 1.2420000e+03 5.0000000e+00]\n",
      " [1.0010000e+03 1.5805152e+18 2.9093256e+00 1.2170000e+03 6.0000000e+00]\n",
      " [1.0010000e+03 1.5830208e+18 2.9332314e+00 1.2270000e+03 7.0000000e+00]]\n"
     ]
    }
   ],
   "source": [
    "# Load parsed data\n",
    "block_size = 8\n",
    "\n",
    "output_file = f'{conf.DATA_PATH}/parsed_data/structured_bootstrap_blocksize{block_size}.npy'\n",
    "timepoints = np.load(output_file)\n",
    "\n",
    "print(f'Timepoints shape: {timepoints.shape}')\n",
    "print()\n",
    "print('Column types:')\n",
    "\n",
    "for column in timepoints[0,0,0,0:]:\n",
    "    print(f'\\t{type(column)}')\n",
    "\n",
    "print()\n",
    "print(f'Example block:\\n{timepoints[0,0,0:,]}')"
   ]
  },
  {
   "attachments": {},
   "cell_type": "markdown",
   "metadata": {},
   "source": [
    "<a name=\"helper_functions\"></a>\n",
    "### 3. Helper functions"
   ]
  },
  {
   "cell_type": "code",
   "execution_count": 3,
   "metadata": {},
   "outputs": [],
   "source": [
    "def two_point_smape(actual, forecast):\n",
    "    '''Takes two datapoints and returns the SMAPE value for the pair'''\n",
    "\n",
    "    # If SMAPE denominator is zero set SMAPE to zero\n",
    "    if actual == 0 and forecast == 0:\n",
    "        return 0\n",
    "\n",
    "    # Calculate smape for forecast\n",
    "    smape = abs(forecast - actual) / ((abs(actual) + abs(forecast)) / 2)\n",
    "    \n",
    "    return smape"
   ]
  },
  {
   "cell_type": "code",
   "execution_count": 4,
   "metadata": {},
   "outputs": [],
   "source": [
    "def sample_parsed_data(timepoints, sample_size):\n",
    "    '''Generates a random sample of sample_size from a random timepoint'''\n",
    "\n",
    "    # Initialize random seed to make sure that output is differently random each call\n",
    "    np.random.seed()\n",
    "\n",
    "    # Pick random timepoint\n",
    "    random_timepoint_index = np.random.choice(timepoints.shape[0], 1)\n",
    "    timepoint = timepoints[random_timepoint_index][0]\n",
    "\n",
    "    if sample_size == 'all':\n",
    "        return timepoint\n",
    "\n",
    "    # Pick n unique random county indexes to include in the sample\n",
    "    random_county_indices = np.random.choice(timepoint.shape[0], sample_size, replace=False)\n",
    "\n",
    "    # Use random indices to extract sample from timepoint\n",
    "    sample = timepoint[random_county_indices]\n",
    "\n",
    "    return sample"
   ]
  },
  {
   "cell_type": "code",
   "execution_count": 5,
   "metadata": {},
   "outputs": [],
   "source": [
    "def make_forecast(block, model_type, model_order):\n",
    "    '''Uses specified model type and model order to forecast\n",
    "    within block, one timepoint into the future. Also returns\n",
    "    naive, 'carry-forward' prediction for the same datapoint \n",
    "    for comparison'''\n",
    "\n",
    "    # Get prediction for naive control\n",
    "    naive_prediction = block[model_order, 2]\n",
    "\n",
    "    if model_type == 'OLS':\n",
    "\n",
    "        # Y input is sequential integers\n",
    "        x_input = list(range(model_order))\n",
    "\n",
    "        # X input is MBD values starting from the left\n",
    "        # edge of the block, up to the model order\n",
    "        y_input = list(block[:model_order, 2])\n",
    "\n",
    "        # Forecast X input is sequential integers starting\n",
    "        # after the end of the X input\n",
    "        forecast_x = list(range(model_order, (model_order * 2)))\n",
    "\n",
    "        # Fit and predict\n",
    "        model = sm.OLS(y_input, sm.add_constant(x_input)).fit()\n",
    "        prediction = model.predict(sm.add_constant(forecast_x))\n",
    "\n",
    "        # Return the first forecasted value and the naive prediction control\n",
    "        return prediction[0], naive_prediction\n",
    "\n",
    "    else:\n",
    "        return None"
   ]
  },
  {
   "cell_type": "code",
   "execution_count": 6,
   "metadata": {},
   "outputs": [],
   "source": [
    "def model_smape_score(sample, model_type, model_order):\n",
    "    '''Takes a sample of blocks, makes forecast for each \n",
    "    and collects resulting SMAPE values'''\n",
    "\n",
    "    # Holder for SMAPE values\n",
    "    smape_values = {\n",
    "        'OLS_forecast': [],\n",
    "        'naive_control': []\n",
    "    }\n",
    "\n",
    "    for block_num in range(sample.shape[0]):\n",
    "\n",
    "        # Get the forecasted value - last value in the model order (input) range\n",
    "        forecast_value, naive_control = make_forecast(sample[block_num], model_type, model_order)\n",
    "\n",
    "        # Get the true value\n",
    "        actual_value = sample[block_num, model_order, 2]\n",
    "\n",
    "        # Get and collect SMAPE value for this forecast\n",
    "        forecast_smape_value = two_point_smape(actual_value, forecast_value)\n",
    "        smape_values['OLS_forecast'].append(forecast_smape_value)\n",
    "\n",
    "        # Also score the control\n",
    "        control_smape_value = two_point_smape(actual_value, naive_control)\n",
    "        smape_values['naive_control'].append(control_smape_value)\n",
    "\n",
    "    forecast_smape_score = (100/len(smape_values['OLS_forecast'])) * sum(smape_values['OLS_forecast'])\n",
    "    control_smape_score = (100/len(smape_values['naive_control'])) * sum(smape_values['naive_control'])\n",
    "\n",
    "    return forecast_smape_score, control_smape_score"
   ]
  },
  {
   "cell_type": "code",
   "execution_count": 7,
   "metadata": {},
   "outputs": [],
   "source": [
    "def bootstrap_smape_score(timepoints, num_samples, sample_size, model_order, model_type):\n",
    "\n",
    "    smape_scores = {\n",
    "        'OLS_forecast': [],\n",
    "        'naive_control': []\n",
    "    }\n",
    "\n",
    "    for i in range(num_samples):\n",
    "        sample = sample_parsed_data(timepoints, sample_size)\n",
    "        forecast_smape_score, control_smape_score = model_smape_score(sample, model_type, model_order)\n",
    "\n",
    "        smape_scores['OLS_forecast'].append(forecast_smape_score)\n",
    "        smape_scores['naive_control'].append(control_smape_score)\n",
    "\n",
    "    return smape_scores"
   ]
  },
  {
   "cell_type": "code",
   "execution_count": 8,
   "metadata": {},
   "outputs": [],
   "source": [
    "num_samples = 3000\n",
    "sample_size = 300\n",
    "model_order = 4\n",
    "model_type = 'OLS'\n",
    "\n",
    "smape_scores = bootstrap_smape_score(timepoints, num_samples, sample_size, model_order, model_type)"
   ]
  },
  {
   "cell_type": "code",
   "execution_count": 10,
   "metadata": {},
   "outputs": [
    {
     "data": {
      "image/png": "[encoded data removed]",
      "text/plain": [
       "<Figure size 400x300 with 1 Axes>"
      ]
     },
     "metadata": {},
     "output_type": "display_data"
    }
   ],
   "source": [
    "fig, ax = plt.subplots(1, 1, figsize=(4, 3))\n",
    "\n",
    "ax.hist(smape_scores['OLS_forecast'], bins=50)\n",
    "ax.hist(smape_scores['naive_control'], bins=50)\n",
    "ax.set_xlabel('SMAPE score')\n",
    "ax.set_ylabel('count')\n",
    "\n",
    "plt.suptitle(f'SMAPE score distribution')\n",
    "plt.tight_layout()"
   ]
  },
  {
   "cell_type": "code",
   "execution_count": null,
   "metadata": {},
   "outputs": [],
   "source": []
  }
 ],
 "metadata": {
  "kernelspec": {
   "display_name": "microbusiness",
   "language": "python",
   "name": "python3"
  },
  "language_info": {
   "codemirror_mode": {
    "name": "ipython",
    "version": 3
   },
   "file_extension": ".py",
   "mimetype": "text/x-python",
   "name": "python",
   "nbconvert_exporter": "python",
   "pygments_lexer": "ipython3",
   "version": "3.10.0"
  },
  "orig_nbformat": 4,
  "vscode": {
   "interpreter": {
    "hash": "c89e0f329143aafc2740b6540b46c06e92791a1e818eb6a9ece1d952786ba476"
   }
  }
 },
 "nbformat": 4,
 "nbformat_minor": 2
}
