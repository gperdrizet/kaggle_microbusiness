{
 "cells": [
  {
   "attachments": {},
   "cell_type": "markdown",
   "metadata": {},
   "source": [
    "## Data acquisition testing prototype"
   ]
  },
  {
   "cell_type": "code",
   "execution_count": 47,
   "metadata": {},
   "outputs": [
    {
     "name": "stdout",
     "output_type": "stream",
     "text": [
      "Pandas 1.4.3\n",
      "Kaggle API 1.5.12\n"
     ]
    }
   ],
   "source": [
    "import pandas as pd\n",
    "from kaggle.api.kaggle_api_extended import KaggleApi\n",
    "\n",
    "print(f'Pandas {pd.__version__}')\n",
    "print(f'Kaggle API {api.__version__}')"
   ]
  },
  {
   "cell_type": "code",
   "execution_count": 48,
   "metadata": {},
   "outputs": [
    {
     "name": "stdout",
     "output_type": "stream",
     "text": [
      "Usr: gperdrizet\n"
     ]
    }
   ],
   "source": [
    "api = KaggleApi()\n",
    "api.authenticate()\n",
    "\n",
    "print(f'Usr: {api.get_config_value(\"username\")}')"
   ]
  },
  {
   "cell_type": "code",
   "execution_count": 27,
   "metadata": {},
   "outputs": [
    {
     "name": "stdout",
     "output_type": "stream",
     "text": [
      "https://www.kaggle.com/competitions/nfl-player-contact-detection\n",
      "https://www.kaggle.com/competitions/godaddy-microbusiness-density-forecasting\n",
      "https://www.kaggle.com/competitions/learning-equality-curriculum-recommendations\n",
      "https://www.kaggle.com/competitions/rsna-breast-cancer-detection\n",
      "https://www.kaggle.com/competitions/icecube-neutrinos-in-deep-ice\n",
      "https://www.kaggle.com/competitions/otto-recommender-system\n",
      "https://www.kaggle.com/competitions/playground-series-s3e3\n",
      "https://www.kaggle.com/competitions/titanic\n",
      "https://www.kaggle.com/competitions/house-prices-advanced-regression-techniques\n",
      "https://www.kaggle.com/competitions/spaceship-titanic\n",
      "https://www.kaggle.com/competitions/digit-recognizer\n",
      "https://www.kaggle.com/competitions/nlp-getting-started\n",
      "https://www.kaggle.com/competitions/connectx\n",
      "https://www.kaggle.com/competitions/tpu-getting-started\n",
      "https://www.kaggle.com/competitions/store-sales-time-series-forecasting\n",
      "https://www.kaggle.com/competitions/gan-getting-started\n",
      "https://www.kaggle.com/competitions/contradictory-my-dear-watson\n"
     ]
    }
   ],
   "source": [
    "competitions = api.competitions_list()\n",
    "\n",
    "for compitition in competitions:\n",
    "    print(compitition)"
   ]
  },
  {
   "cell_type": "code",
   "execution_count": 40,
   "metadata": {},
   "outputs": [
    {
     "name": "stdout",
     "output_type": "stream",
     "text": [
      "titleNullable: GoDaddy - Microbusiness Density Forecasting\n",
      "urlNullable: https://www.kaggle.com/competitions/godaddy-microbusiness-density-forecasting\n",
      "descriptionNullable: Forecast Next Month’s Microbusiness Density\n",
      "organizationNameNullable: GoDaddy\n",
      "organizationRefNullable: None\n",
      "categoryNullable: Featured\n",
      "rewardNullable: $60,000\n",
      "userRankNullable: None\n",
      "maxTeamSizeNullable: 5\n",
      "evaluationMetricNullable: SMAPE\n",
      "id: 41881\n",
      "ref: https://www.kaggle.com/competitions/godaddy-microbusiness-density-forecasting\n",
      "title: GoDaddy - Microbusiness Density Forecasting\n",
      "hasTitle: True\n",
      "url: https://www.kaggle.com/competitions/godaddy-microbusiness-density-forecasting\n",
      "hasUrl: True\n",
      "description: Forecast Next Month’s Microbusiness Density\n",
      "hasDescription: True\n",
      "organizationName: GoDaddy\n",
      "hasOrganizationName: True\n",
      "organizationRef: \n",
      "hasOrganizationRef: False\n",
      "category: Featured\n",
      "hasCategory: True\n",
      "reward: $60,000\n",
      "hasReward: True\n",
      "tags: [tabular, business]\n",
      "deadline: 2023-03-14 23:59:00\n",
      "kernelCount: 0\n",
      "teamCount: 1548\n",
      "userHasEntered: True\n",
      "userRank: 0\n",
      "hasUserRank: False\n",
      "mergerDeadline: 2023-03-07 23:59:00\n",
      "newEntrantDeadline: 2023-03-07 23:59:00\n",
      "enabledDate: 2022-12-16 19:01:09\n",
      "maxDailySubmissions: 5\n",
      "maxTeamSize: 5\n",
      "hasMaxTeamSize: True\n",
      "evaluationMetric: SMAPE\n",
      "hasEvaluationMetric: True\n",
      "awardsPoints: True\n",
      "isKernelsSubmissionsOnly: False\n",
      "submissionsDisabled: False\n"
     ]
    }
   ],
   "source": [
    "for key, val in competitions[1].__dict__.items():\n",
    "    print(f'{key}: {val}')"
   ]
  },
  {
   "cell_type": "code",
   "execution_count": 50,
   "metadata": {},
   "outputs": [
    {
     "name": "stdout",
     "output_type": "stream",
     "text": [
      "Downloading census_starter.csv to /home/siderealyear/arkk/kaggle_microbusiness/data\n"
     ]
    },
    {
     "name": "stderr",
     "output_type": "stream",
     "text": [
      "100%|██████████| 404k/404k [00:00<00:00, 10.2MB/s]"
     ]
    },
    {
     "name": "stdout",
     "output_type": "stream",
     "text": [
      "\n"
     ]
    },
    {
     "name": "stderr",
     "output_type": "stream",
     "text": [
      "\n"
     ]
    },
    {
     "name": "stdout",
     "output_type": "stream",
     "text": [
      "Downloading sample_submission.csv to /home/siderealyear/arkk/kaggle_microbusiness/data\n"
     ]
    },
    {
     "name": "stderr",
     "output_type": "stream",
     "text": [
      "100%|██████████| 830k/830k [00:00<00:00, 5.28MB/s]"
     ]
    },
    {
     "name": "stdout",
     "output_type": "stream",
     "text": [
      "\n"
     ]
    },
    {
     "name": "stderr",
     "output_type": "stream",
     "text": [
      "\n"
     ]
    },
    {
     "name": "stdout",
     "output_type": "stream",
     "text": [
      "Downloading test.csv to /home/siderealyear/arkk/kaggle_microbusiness/data\n"
     ]
    },
    {
     "name": "stderr",
     "output_type": "stream",
     "text": [
      "100%|██████████| 828k/828k [00:00<00:00, 3.88MB/s]\n"
     ]
    },
    {
     "name": "stdout",
     "output_type": "stream",
     "text": [
      "\n",
      "Downloading train.csv.zip to /home/siderealyear/arkk/kaggle_microbusiness/data\n"
     ]
    },
    {
     "name": "stderr",
     "output_type": "stream",
     "text": [
      "100%|██████████| 1.41M/1.41M [00:00<00:00, 8.58MB/s]"
     ]
    },
    {
     "name": "stdout",
     "output_type": "stream",
     "text": [
      "\n"
     ]
    },
    {
     "name": "stderr",
     "output_type": "stream",
     "text": [
      "\n"
     ]
    }
   ],
   "source": [
    "competition_files = ['census_starter.csv', 'sample_submission.csv', 'test.csv', 'train.csv']\n",
    "\n",
    "for competition_file in competition_files:\n",
    "\n",
    "    api.competition_download_file(\n",
    "        'godaddy-microbusiness-density-forecasting',\n",
    "        competition_file,\n",
    "        path='/home/siderealyear/arkk/kaggle_microbusiness/data/',\n",
    "        force=True\n",
    "    )"
   ]
  },
  {
   "cell_type": "code",
   "execution_count": null,
   "metadata": {},
   "outputs": [],
   "source": []
  }
 ],
 "metadata": {
  "kernelspec": {
   "display_name": "microbusiness",
   "language": "python",
   "name": "python3"
  },
  "language_info": {
   "codemirror_mode": {
    "name": "ipython",
    "version": 3
   },
   "file_extension": ".py",
   "mimetype": "text/x-python",
   "name": "python",
   "nbconvert_exporter": "python",
   "pygments_lexer": "ipython3",
   "version": "3.10.0"
  },
  "orig_nbformat": 4,
  "vscode": {
   "interpreter": {
    "hash": "c89e0f329143aafc2740b6540b46c06e92791a1e818eb6a9ece1d952786ba476"
   }
  }
 },
 "nbformat": 4,
 "nbformat_minor": 2
}
