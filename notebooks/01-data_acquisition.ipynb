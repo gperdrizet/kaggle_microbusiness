{
 "cells": [
  {
   "attachments": {},
   "cell_type": "markdown",
   "metadata": {},
   "source": [
    "## Data acquisition testing prototype\n",
    "First thing's first - grab the competition data from the Kaggle API. Might be less work to just manually download from a web browser, but we are going to want the API later anyway. Might as well learn to use it now."
   ]
  },
  {
   "cell_type": "code",
   "execution_count": 6,
   "metadata": {},
   "outputs": [
    {
     "name": "stdout",
     "output_type": "stream",
     "text": [
      "Kaggle API 1.5.12\n"
     ]
    }
   ],
   "source": [
    "# Add parent directory to path to allow import of config.py\n",
    "import sys\n",
    "sys.path.append(\"..\")\n",
    "import config as conf\n",
    "\n",
    "# Import kaggle API module (installed via conda)\n",
    "from kaggle.api.kaggle_api_extended import KaggleApi\n",
    "print(f'Kaggle API {KaggleApi.__version__}')"
   ]
  },
  {
   "cell_type": "code",
   "execution_count": 7,
   "metadata": {},
   "outputs": [
    {
     "name": "stdout",
     "output_type": "stream",
     "text": [
      "Usr: gperdrizet\n"
     ]
    }
   ],
   "source": [
    "# Authenticate the API. Note: needs ~/.kaggle/kaggle.json with username and API key\n",
    "api = KaggleApi()\n",
    "api.authenticate()\n",
    "\n",
    "print(f'Usr: {api.get_config_value(\"username\")}')"
   ]
  },
  {
   "cell_type": "code",
   "execution_count": 8,
   "metadata": {},
   "outputs": [
    {
     "name": "stdout",
     "output_type": "stream",
     "text": [
      "https://www.kaggle.com/competitions/nfl-player-contact-detection\n",
      "https://www.kaggle.com/competitions/godaddy-microbusiness-density-forecasting\n",
      "https://www.kaggle.com/competitions/learning-equality-curriculum-recommendations\n",
      "https://www.kaggle.com/competitions/rsna-breast-cancer-detection\n",
      "https://www.kaggle.com/competitions/icecube-neutrinos-in-deep-ice\n",
      "https://www.kaggle.com/competitions/otto-recommender-system\n",
      "https://www.kaggle.com/competitions/playground-series-s3e3\n",
      "https://www.kaggle.com/competitions/titanic\n",
      "https://www.kaggle.com/competitions/house-prices-advanced-regression-techniques\n",
      "https://www.kaggle.com/competitions/spaceship-titanic\n",
      "https://www.kaggle.com/competitions/digit-recognizer\n",
      "https://www.kaggle.com/competitions/nlp-getting-started\n",
      "https://www.kaggle.com/competitions/connectx\n",
      "https://www.kaggle.com/competitions/tpu-getting-started\n",
      "https://www.kaggle.com/competitions/store-sales-time-series-forecasting\n",
      "https://www.kaggle.com/competitions/gan-getting-started\n",
      "https://www.kaggle.com/competitions/contradictory-my-dear-watson\n"
     ]
    }
   ],
   "source": [
    "# Query API for list of current competitions\n",
    "competitions = api.competitions_list()\n",
    "\n",
    "for competition in competitions:\n",
    "    print(competition)"
   ]
  },
  {
   "cell_type": "code",
   "execution_count": 9,
   "metadata": {},
   "outputs": [
    {
     "name": "stdout",
     "output_type": "stream",
     "text": [
      "titleNullable: GoDaddy - Microbusiness Density Forecasting\n",
      "urlNullable: https://www.kaggle.com/competitions/godaddy-microbusiness-density-forecasting\n",
      "descriptionNullable: Forecast Next Month’s Microbusiness Density\n",
      "organizationNameNullable: GoDaddy\n",
      "organizationRefNullable: None\n",
      "categoryNullable: Featured\n",
      "rewardNullable: $60,000\n",
      "userRankNullable: None\n",
      "maxTeamSizeNullable: 5\n",
      "evaluationMetricNullable: SMAPE\n",
      "id: 41881\n",
      "ref: https://www.kaggle.com/competitions/godaddy-microbusiness-density-forecasting\n",
      "title: GoDaddy - Microbusiness Density Forecasting\n",
      "hasTitle: True\n",
      "url: https://www.kaggle.com/competitions/godaddy-microbusiness-density-forecasting\n",
      "hasUrl: True\n",
      "description: Forecast Next Month’s Microbusiness Density\n",
      "hasDescription: True\n",
      "organizationName: GoDaddy\n",
      "hasOrganizationName: True\n",
      "organizationRef: \n",
      "hasOrganizationRef: False\n",
      "category: Featured\n",
      "hasCategory: True\n",
      "reward: $60,000\n",
      "hasReward: True\n",
      "tags: [tabular, business]\n",
      "deadline: 2023-03-14 23:59:00\n",
      "kernelCount: 0\n",
      "teamCount: 1577\n",
      "userHasEntered: True\n",
      "userRank: 0\n",
      "hasUserRank: False\n",
      "mergerDeadline: 2023-03-07 23:59:00\n",
      "newEntrantDeadline: 2023-03-07 23:59:00\n",
      "enabledDate: 2022-12-16 19:01:09\n",
      "maxDailySubmissions: 5\n",
      "maxTeamSize: 5\n",
      "hasMaxTeamSize: True\n",
      "evaluationMetric: SMAPE\n",
      "hasEvaluationMetric: True\n",
      "awardsPoints: True\n",
      "isKernelsSubmissionsOnly: False\n",
      "submissionsDisabled: False\n"
     ]
    }
   ],
   "source": [
    "# Take a look at the info for our competition\n",
    "for key, val in competitions[1].__dict__.items():\n",
    "    print(f'{key}: {val}')"
   ]
  },
  {
   "cell_type": "code",
   "execution_count": 10,
   "metadata": {},
   "outputs": [
    {
     "name": "stdout",
     "output_type": "stream",
     "text": [
      "Downloading census_starter.csv to /home/siderealyear/arkk/kaggle_microbusiness/data\n"
     ]
    },
    {
     "name": "stderr",
     "output_type": "stream",
     "text": [
      "100%|██████████| 404k/404k [00:00<00:00, 4.10MB/s]"
     ]
    },
    {
     "name": "stdout",
     "output_type": "stream",
     "text": [
      "\n"
     ]
    },
    {
     "name": "stderr",
     "output_type": "stream",
     "text": [
      "\n"
     ]
    },
    {
     "name": "stdout",
     "output_type": "stream",
     "text": [
      "Downloading sample_submission.csv to /home/siderealyear/arkk/kaggle_microbusiness/data\n"
     ]
    },
    {
     "name": "stderr",
     "output_type": "stream",
     "text": [
      "100%|██████████| 830k/830k [00:00<00:00, 13.4MB/s]"
     ]
    },
    {
     "name": "stdout",
     "output_type": "stream",
     "text": [
      "\n"
     ]
    },
    {
     "name": "stderr",
     "output_type": "stream",
     "text": [
      "\n"
     ]
    },
    {
     "name": "stdout",
     "output_type": "stream",
     "text": [
      "Downloading test.csv to /home/siderealyear/arkk/kaggle_microbusiness/data\n"
     ]
    },
    {
     "name": "stderr",
     "output_type": "stream",
     "text": [
      "100%|██████████| 828k/828k [00:00<00:00, 17.3MB/s]"
     ]
    },
    {
     "name": "stdout",
     "output_type": "stream",
     "text": [
      "\n"
     ]
    },
    {
     "name": "stderr",
     "output_type": "stream",
     "text": [
      "\n"
     ]
    },
    {
     "name": "stdout",
     "output_type": "stream",
     "text": [
      "Downloading train.csv.zip to /home/siderealyear/arkk/kaggle_microbusiness/data\n"
     ]
    },
    {
     "name": "stderr",
     "output_type": "stream",
     "text": [
      "100%|██████████| 1.41M/1.41M [00:00<00:00, 35.9MB/s]"
     ]
    },
    {
     "name": "stdout",
     "output_type": "stream",
     "text": [
      "\n"
     ]
    },
    {
     "name": "stderr",
     "output_type": "stream",
     "text": [
      "\n"
     ]
    }
   ],
   "source": [
    "# List of file names for our competitions dataset\n",
    "competition_files = ['census_starter.csv', 'sample_submission.csv', 'test.csv', 'train.csv']\n",
    "\n",
    "# Download each file to our data directory\n",
    "for competition_file in competition_files:\n",
    "\n",
    "    api.competition_download_file(\n",
    "        conf.PROJECT_NAME,\n",
    "        competition_file,\n",
    "        path=conf.DATA_PATH,\n",
    "        force=True\n",
    "    )"
   ]
  },
  {
   "cell_type": "code",
   "execution_count": null,
   "metadata": {},
   "outputs": [],
   "source": []
  }
 ],
 "metadata": {
  "kernelspec": {
   "display_name": "microbusiness",
   "language": "python",
   "name": "python3"
  },
  "language_info": {
   "codemirror_mode": {
    "name": "ipython",
    "version": 3
   },
   "file_extension": ".py",
   "mimetype": "text/x-python",
   "name": "python",
   "nbconvert_exporter": "python",
   "pygments_lexer": "ipython3",
   "version": "3.10.0"
  },
  "orig_nbformat": 4,
  "vscode": {
   "interpreter": {
    "hash": "c89e0f329143aafc2740b6540b46c06e92791a1e818eb6a9ece1d952786ba476"
   }
  }
 },
 "nbformat": 4,
 "nbformat_minor": 2
}
