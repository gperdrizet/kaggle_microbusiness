{
 "cells": [
  {
   "attachments": {},
   "cell_type": "markdown",
   "metadata": {},
   "source": [
    "## Test Data Exploration\n",
    "Now let's look at the test datafile and make some decisions about how we will structure our predictions.\n",
    "\n",
    "1. [Load and inspect](#load_and_inspect)\n",
    "2. [Dataset structure](#dataset_structure)\n",
    "3. [The Plan](#the_plan)\n",
    "4. [TODO](#TODO)"
   ]
  },
  {
   "cell_type": "code",
   "execution_count": 1,
   "metadata": {},
   "outputs": [
    {
     "name": "stdout",
     "output_type": "stream",
     "text": [
      "Python: 3.10.0 | packaged by conda-forge | (default, Nov 20 2021, 02:24:10) [GCC 9.4.0]\n",
      "\n",
      "Pandas: 1.4.3\n"
     ]
    }
   ],
   "source": [
    "# Add parent directory to path to allow import of config.py\n",
    "import sys\n",
    "sys.path.append('..')\n",
    "import config as conf\n",
    "\n",
    "import pandas as pd\n",
    "\n",
    "print(f'Python: {sys.version}')\n",
    "print()\n",
    "print(f'Pandas: {pd.__version__}')"
   ]
  },
  {
   "attachments": {},
   "cell_type": "markdown",
   "metadata": {},
   "source": [
    "<a name=\"load_and_inspect\"></a>\n",
    "### 1. Load and inspect"
   ]
  },
  {
   "cell_type": "code",
   "execution_count": 2,
   "metadata": {},
   "outputs": [
    {
     "name": "stdout",
     "output_type": "stream",
     "text": [
      "<class 'pandas.core.frame.DataFrame'>\n",
      "RangeIndex: 25080 entries, 0 to 25079\n",
      "Data columns (total 3 columns):\n",
      " #   Column              Non-Null Count  Dtype \n",
      "---  ------              --------------  ----- \n",
      " 0   row_id              25080 non-null  object\n",
      " 1   cfips               25080 non-null  int64 \n",
      " 2   first_day_of_month  25080 non-null  object\n",
      "dtypes: int64(1), object(2)\n",
      "memory usage: 587.9+ KB\n",
      "None\n",
      "\n",
      "            row_id  cfips first_day_of_month\n",
      "0  1001_2022-11-01   1001         2022-11-01\n",
      "1  1003_2022-11-01   1003         2022-11-01\n",
      "2  1005_2022-11-01   1005         2022-11-01\n",
      "3  1007_2022-11-01   1007         2022-11-01\n",
      "4  1009_2022-11-01   1009         2022-11-01\n"
     ]
    }
   ],
   "source": [
    "# Read csv into pandas dataframe\n",
    "test_df = pd.read_csv(f'{conf.KAGGLE_DATA_PATH}/test.csv')\n",
    "\n",
    "# Print out some metadata and sample rows\n",
    "print(test_df.info())\n",
    "print()\n",
    "print(test_df.head())"
   ]
  },
  {
   "cell_type": "code",
   "execution_count": 3,
   "metadata": {},
   "outputs": [],
   "source": [
    "# Set dtype on first day of month column\n",
    "test_df['first_day_of_month'] =  pd.to_datetime(test_df['first_day_of_month'])"
   ]
  },
  {
   "attachments": {},
   "cell_type": "markdown",
   "metadata": {},
   "source": [
    "Here are the column descriptions from the Kaggle competition site:\n",
    "+ **row_id** - An ID code for the row.\n",
    "+ **cfips** - A unique identifier for each county using the Federal Information Processing System. The first two digits correspond to the state FIPS code, while the following 3 represent the county.\n",
    "+ **first_day_of_month** - The date of the first day of the month."
   ]
  },
  {
   "attachments": {},
   "cell_type": "markdown",
   "metadata": {},
   "source": [
    "<a name=\"dataset_structure\"></a>\n",
    "### 2. Dataset structure"
   ]
  },
  {
   "cell_type": "code",
   "execution_count": 10,
   "metadata": {},
   "outputs": [
    {
     "name": "stdout",
     "output_type": "stream",
     "text": [
      "Num timepoints: 8\n"
     ]
    },
    {
     "data": {
      "text/plain": [
       "0   2022-11-01\n",
       "1   2022-12-01\n",
       "2   2023-01-01\n",
       "3   2023-02-01\n",
       "4   2023-03-01\n",
       "5   2023-04-01\n",
       "6   2023-05-01\n",
       "7   2023-06-01\n",
       "Name: first_day_of_month, dtype: datetime64[ns]"
      ]
     },
     "execution_count": 10,
     "metadata": {},
     "output_type": "execute_result"
    }
   ],
   "source": [
    "timepoints = test_df['first_day_of_month']\n",
    "timepoints.drop_duplicates(keep='first', inplace=True)\n",
    "timepoints.reset_index(inplace=True, drop=True)\n",
    "print(f'Num timepoints: {len(timepoints)}')\n",
    "timepoints.head(8)"
   ]
  },
  {
   "cell_type": "code",
   "execution_count": 8,
   "metadata": {},
   "outputs": [
    {
     "name": "stdout",
     "output_type": "stream",
     "text": [
      "Number of counties: 3135\n"
     ]
    },
    {
     "data": {
      "text/plain": [
       "cfips\n",
       "1001    8\n",
       "1003    8\n",
       "1005    8\n",
       "1007    8\n",
       "1009    8\n",
       "dtype: int64"
      ]
     },
     "execution_count": 8,
     "metadata": {},
     "output_type": "execute_result"
    }
   ],
   "source": [
    "county_counts = test_df.groupby(['cfips']).size()\n",
    "print(f'Number of counties: {len(county_counts)}')\n",
    "county_counts.head()"
   ]
  },
  {
   "attachments": {},
   "cell_type": "markdown",
   "metadata": {},
   "source": [
    "OK - so 8 timepoints for prediction: November 2022 to June 2023. County count matches the training set.\n",
    "\n",
    "<a name=\"the_plan\"></a>\n",
    "### 3. The plan\n",
    "\n",
    "The competition description says that during the active phase (before March 14th?) only the most recent month of data will be used for the public leaderboard. I take that to mean if submitting in February, January will be scored? Not completely sure. The contest description notes that old test data will be published in mid February - presumably through January? But then that means we need to predict February in February. I guess that's not crazy since the actual timepoint is the first of the month. Here an excerpt from a comment by a Kaggle staff member on the discussion board:\n",
    "\n",
    "+ The private leaderboard will include March, April, and May. June was included in the submission file due to an error on my part. I'm inclined to leave it in since the extra submissions don't technically hurt anything and removing it would invalidate older submissions. That is confusing though so I would be open to biting the bullet and making the change.\n",
    "+ Yes, on March 13th the public LB will be the month of February.\n",
    "\n",
    "Right, seems like everyone is confused by this. Here is my understanding - the test/submission file doesn't change, but the date range being scored does. Up to mid February only November 2022 will be scored. At that point, new data up to and including January 2023 will be released and February 2023 will be the month scored up to the close of the contest. The final private leaderboard score will then be derived from the March, April and May data as it becomes available.\n",
    "\n",
    "It's not clear to me wether or not the February data will be released in March - it kind of sounds like maybe not. This means we really need to predict 4 months into the future, with only the last three being scored.\n",
    "\n",
    "This contest seems like a bit of a mess - lots of people commenting like they know what is going on but I'm not sure anyone really does. I think the safest thing to do here is work with predicting 4 months. This way, if the February data is released in March and we only have to predict 3 months, we suddenly have more training data and can easily adapt to predict a smaller timespan. This change would be much better than the other way around - i.e. working to predict 3 months for weeks and then having to switch to 4 at the last minute.\n",
    "\n",
    "I'd also love to know for sure what month(s) is/are being actively scored right now. Seems like it should be a simple bit of info to post! We could probably figure it out with a few test submissions containing zeros or NANs for all but one month... maybe I will have to look into it."
   ]
  },
  {
   "attachments": {},
   "cell_type": "markdown",
   "metadata": {},
   "source": [
    "<a name=\"TODO\"></a>\n",
    "### 4. TODO\n",
    "1. Attribute quote\n",
    "2. Proof/edit summary"
   ]
  }
 ],
 "metadata": {
  "kernelspec": {
   "display_name": "microbusiness",
   "language": "python",
   "name": "python3"
  },
  "language_info": {
   "codemirror_mode": {
    "name": "ipython",
    "version": 3
   },
   "file_extension": ".py",
   "mimetype": "text/x-python",
   "name": "python",
   "nbconvert_exporter": "python",
   "pygments_lexer": "ipython3",
   "version": "3.10.0"
  },
  "orig_nbformat": 4,
  "vscode": {
   "interpreter": {
    "hash": "c89e0f329143aafc2740b6540b46c06e92791a1e818eb6a9ece1d952786ba476"
   }
  }
 },
 "nbformat": 4,
 "nbformat_minor": 2
}
