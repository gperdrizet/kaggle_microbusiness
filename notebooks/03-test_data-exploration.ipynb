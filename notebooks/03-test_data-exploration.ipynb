{
 "cells": [
  {
   "attachments": {},
   "cell_type": "markdown",
   "metadata": {},
   "source": [
    "## Test Data Exploration\n",
    "Now let's look at the test datafile and make some decisions about how we will structure our predictions.\n",
    "\n",
    "1. [Load and inspect](#load_and_inspect)"
   ]
  },
  {
   "cell_type": "code",
   "execution_count": 1,
   "metadata": {},
   "outputs": [
    {
     "name": "stdout",
     "output_type": "stream",
     "text": [
      "Pandas 1.4.3\n"
     ]
    }
   ],
   "source": [
    "# Add parent directory to path to allow import of config.py\n",
    "import sys\n",
    "sys.path.append('..')\n",
    "import config as conf\n",
    "\n",
    "import pandas as pd\n",
    "\n",
    "print(f'Pandas {pd.__version__}')"
   ]
  },
  {
   "attachments": {},
   "cell_type": "markdown",
   "metadata": {},
   "source": [
    "<a name=\"load_and_inspect\"></a>\n",
    "### 1. Load and inspect"
   ]
  },
  {
   "cell_type": "code",
   "execution_count": 2,
   "metadata": {},
   "outputs": [
    {
     "name": "stdout",
     "output_type": "stream",
     "text": [
      "<class 'pandas.core.frame.DataFrame'>\n",
      "RangeIndex: 25080 entries, 0 to 25079\n",
      "Data columns (total 3 columns):\n",
      " #   Column              Non-Null Count  Dtype \n",
      "---  ------              --------------  ----- \n",
      " 0   row_id              25080 non-null  object\n",
      " 1   cfips               25080 non-null  int64 \n",
      " 2   first_day_of_month  25080 non-null  object\n",
      "dtypes: int64(1), object(2)\n",
      "memory usage: 587.9+ KB\n",
      "None\n",
      "\n",
      "            row_id  cfips first_day_of_month\n",
      "0  1001_2022-11-01   1001         2022-11-01\n",
      "1  1003_2022-11-01   1003         2022-11-01\n",
      "2  1005_2022-11-01   1005         2022-11-01\n",
      "3  1007_2022-11-01   1007         2022-11-01\n",
      "4  1009_2022-11-01   1009         2022-11-01\n"
     ]
    }
   ],
   "source": [
    "# Read csv into pandas dataframe\n",
    "test_df = pd.read_csv(f'{conf.DATA_PATH}/test.csv')\n",
    "\n",
    "# Print out some metadata and sample rows\n",
    "print(test_df.info())\n",
    "print()\n",
    "print(test_df.head())"
   ]
  },
  {
   "cell_type": "code",
   "execution_count": null,
   "metadata": {},
   "outputs": [],
   "source": []
  }
 ],
 "metadata": {
  "kernelspec": {
   "display_name": "microbusiness",
   "language": "python",
   "name": "python3"
  },
  "language_info": {
   "codemirror_mode": {
    "name": "ipython",
    "version": 3
   },
   "file_extension": ".py",
   "mimetype": "text/x-python",
   "name": "python",
   "nbconvert_exporter": "python",
   "pygments_lexer": "ipython3",
   "version": "3.10.0"
  },
  "orig_nbformat": 4,
  "vscode": {
   "interpreter": {
    "hash": "c89e0f329143aafc2740b6540b46c06e92791a1e818eb6a9ece1d952786ba476"
   }
  }
 },
 "nbformat": 4,
 "nbformat_minor": 2
}
